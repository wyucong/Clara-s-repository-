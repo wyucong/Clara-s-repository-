{
 "cells": [
  {
   "cell_type": "markdown",
   "metadata": {},
   "source": [
    "### Reommender - Matrix Factorization"
   ]
  },
  {
   "cell_type": "markdown",
   "metadata": {},
   "source": [
    "The goal of this project is to recommend movie to a certain user. I am going to use Matrix Factorization to train a user matrix and a movie matrix. "
   ]
  },
  {
   "cell_type": "markdown",
   "metadata": {},
   "source": [
    "##### Load Data"
   ]
  },
  {
   "cell_type": "code",
   "execution_count": 1,
   "metadata": {
    "collapsed": true
   },
   "outputs": [],
   "source": [
    "import pandas as pd\n",
    "import numpy as np\n",
    "import matplotlib.pyplot as plt\n",
    "from sklearn.utils import shuffle\n",
    "from collections import Counter"
   ]
  },
  {
   "cell_type": "code",
   "execution_count": 2,
   "metadata": {
    "collapsed": true
   },
   "outputs": [],
   "source": [
    "rating = pd.read_csv('rating.csv')"
   ]
  },
  {
   "cell_type": "code",
   "execution_count": 3,
   "metadata": {},
   "outputs": [
    {
     "data": {
      "text/html": [
       "<div>\n",
       "<style>\n",
       "    .dataframe thead tr:only-child th {\n",
       "        text-align: right;\n",
       "    }\n",
       "\n",
       "    .dataframe thead th {\n",
       "        text-align: left;\n",
       "    }\n",
       "\n",
       "    .dataframe tbody tr th {\n",
       "        vertical-align: top;\n",
       "    }\n",
       "</style>\n",
       "<table border=\"1\" class=\"dataframe\">\n",
       "  <thead>\n",
       "    <tr style=\"text-align: right;\">\n",
       "      <th></th>\n",
       "      <th>userId</th>\n",
       "      <th>movieId</th>\n",
       "      <th>rating</th>\n",
       "      <th>timestamp</th>\n",
       "    </tr>\n",
       "  </thead>\n",
       "  <tbody>\n",
       "    <tr>\n",
       "      <th>0</th>\n",
       "      <td>1</td>\n",
       "      <td>2</td>\n",
       "      <td>3.5</td>\n",
       "      <td>2005-04-02 23:53:47</td>\n",
       "    </tr>\n",
       "    <tr>\n",
       "      <th>1</th>\n",
       "      <td>1</td>\n",
       "      <td>29</td>\n",
       "      <td>3.5</td>\n",
       "      <td>2005-04-02 23:31:16</td>\n",
       "    </tr>\n",
       "    <tr>\n",
       "      <th>2</th>\n",
       "      <td>1</td>\n",
       "      <td>32</td>\n",
       "      <td>3.5</td>\n",
       "      <td>2005-04-02 23:33:39</td>\n",
       "    </tr>\n",
       "    <tr>\n",
       "      <th>3</th>\n",
       "      <td>1</td>\n",
       "      <td>47</td>\n",
       "      <td>3.5</td>\n",
       "      <td>2005-04-02 23:32:07</td>\n",
       "    </tr>\n",
       "    <tr>\n",
       "      <th>4</th>\n",
       "      <td>1</td>\n",
       "      <td>50</td>\n",
       "      <td>3.5</td>\n",
       "      <td>2005-04-02 23:29:40</td>\n",
       "    </tr>\n",
       "  </tbody>\n",
       "</table>\n",
       "</div>"
      ],
      "text/plain": [
       "   userId  movieId  rating            timestamp\n",
       "0       1        2     3.5  2005-04-02 23:53:47\n",
       "1       1       29     3.5  2005-04-02 23:31:16\n",
       "2       1       32     3.5  2005-04-02 23:33:39\n",
       "3       1       47     3.5  2005-04-02 23:32:07\n",
       "4       1       50     3.5  2005-04-02 23:29:40"
      ]
     },
     "execution_count": 3,
     "metadata": {},
     "output_type": "execute_result"
    }
   ],
   "source": [
    "rating.head()"
   ]
  },
  {
   "cell_type": "code",
   "execution_count": 4,
   "metadata": {},
   "outputs": [
    {
     "name": "stdout",
     "output_type": "stream",
     "text": [
      "number of rows:  20000263\n"
     ]
    }
   ],
   "source": [
    "print('number of rows: ', rating.shape[0])"
   ]
  },
  {
   "cell_type": "code",
   "execution_count": 5,
   "metadata": {},
   "outputs": [
    {
     "name": "stdout",
     "output_type": "stream",
     "text": [
      "Total number of movies being rate:  26744\n",
      "Total number of clients who rated:  138493\n"
     ]
    }
   ],
   "source": [
    "print('Total number of movies being rate: ' , rating.movieId.nunique())\n",
    "print('Total number of clients who rated: ', rating.userId.nunique())"
   ]
  },
  {
   "cell_type": "markdown",
   "metadata": {},
   "source": [
    "##### data set too large, subsample"
   ]
  },
  {
   "cell_type": "code",
   "execution_count": 3,
   "metadata": {
    "collapsed": true
   },
   "outputs": [],
   "source": [
    "#number of users and items we are going to keep\n",
    "n = 1000\n",
    "m = 200"
   ]
  },
  {
   "cell_type": "code",
   "execution_count": 4,
   "metadata": {
    "collapsed": true
   },
   "outputs": [],
   "source": [
    "# only keep the top users and top items\n",
    "user_ids_count = Counter(rating.userId)\n",
    "item_ids_count = Counter(rating.movieId)\n",
    "\n",
    "user_ids = [u for u, c in user_ids_count.most_common(n)]\n",
    "item_ids = [m for m, c in item_ids_count.most_common(m)]"
   ]
  },
  {
   "cell_type": "code",
   "execution_count": 5,
   "metadata": {
    "collapsed": true
   },
   "outputs": [],
   "source": [
    "rating_sub = rating[(rating.userId.isin(user_ids)) & (rating.movieId.isin(item_ids))]"
   ]
  },
  {
   "cell_type": "code",
   "execution_count": 6,
   "metadata": {},
   "outputs": [
    {
     "name": "stdout",
     "output_type": "stream",
     "text": [
      "After Sub-sample:\n",
      "number of rows:  167035\n"
     ]
    }
   ],
   "source": [
    "print('After Sub-sample:')\n",
    "print('number of rows: ', rating_sub.shape[0])"
   ]
  },
  {
   "cell_type": "markdown",
   "metadata": {},
   "source": [
    "##### Reindex"
   ]
  },
  {
   "cell_type": "code",
   "execution_count": 7,
   "metadata": {},
   "outputs": [
    {
     "name": "stdout",
     "output_type": "stream",
     "text": [
      "i:  1000\n"
     ]
    }
   ],
   "source": [
    "new_user_id_map = {}\n",
    "i = 0\n",
    "for old in user_ids:\n",
    "    new_user_id_map[old] = i\n",
    "    i += 1\n",
    "print('i: ', i)\n",
    "    "
   ]
  },
  {
   "cell_type": "code",
   "execution_count": 8,
   "metadata": {},
   "outputs": [
    {
     "name": "stdout",
     "output_type": "stream",
     "text": [
      "j: 200\n"
     ]
    }
   ],
   "source": [
    "new_movie_id_map = {}\n",
    "j = 0\n",
    "for old in item_ids:\n",
    "    new_movie_id_map[old] = j\n",
    "    j += 1\n",
    "print('j:',j)"
   ]
  },
  {
   "cell_type": "code",
   "execution_count": 9,
   "metadata": {},
   "outputs": [
    {
     "name": "stderr",
     "output_type": "stream",
     "text": [
      "/Users/yucongweng/anaconda3/lib/python3.6/site-packages/pandas/core/indexing.py:517: SettingWithCopyWarning: \n",
      "A value is trying to be set on a copy of a slice from a DataFrame.\n",
      "Try using .loc[row_indexer,col_indexer] = value instead\n",
      "\n",
      "See the caveats in the documentation: http://pandas.pydata.org/pandas-docs/stable/indexing.html#indexing-view-versus-copy\n",
      "  self.obj[item] = s\n"
     ]
    }
   ],
   "source": [
    "rating_sub.loc[:,'userId'] = rating_sub.apply(lambda row: new_user_id_map[row.userId], axis= 1)\n",
    "rating_sub.loc[:,'movieId'] = rating_sub.apply(lambda row: new_movie_id_map[row.movieId], axis = 1)"
   ]
  },
  {
   "cell_type": "code",
   "execution_count": 10,
   "metadata": {},
   "outputs": [
    {
     "name": "stdout",
     "output_type": "stream",
     "text": [
      "max user id:  999\n",
      "max movie id:  199\n"
     ]
    }
   ],
   "source": [
    "print('max user id: ', rating_sub.userId.max())\n",
    "print('max movie id: ', rating_sub.movieId.max())"
   ]
  },
  {
   "cell_type": "markdown",
   "metadata": {},
   "source": [
    "##### split in train and test data set"
   ]
  },
  {
   "cell_type": "code",
   "execution_count": 11,
   "metadata": {
    "collapsed": true
   },
   "outputs": [],
   "source": [
    "rating_sub = shuffle(rating_sub)"
   ]
  },
  {
   "cell_type": "code",
   "execution_count": 12,
   "metadata": {
    "collapsed": true
   },
   "outputs": [],
   "source": [
    "cutoff = 0.8\n",
    "df_train = rating_sub.iloc[:int(cutoff * len(rating_sub))]\n",
    "df_test = rating_sub.iloc[int(cutoff * len(rating_sub)):]\n",
    "\n"
   ]
  },
  {
   "cell_type": "markdown",
   "metadata": {},
   "source": [
    "#### Convert data frame to dicitonary"
   ]
  },
  {
   "cell_type": "code",
   "execution_count": 13,
   "metadata": {
    "collapsed": true,
    "scrolled": true
   },
   "outputs": [],
   "source": [
    "user2movie = {}\n",
    "movie2user = {}\n",
    "usermovie2rating = {}\n"
   ]
  },
  {
   "cell_type": "code",
   "execution_count": 14,
   "metadata": {
    "collapsed": true
   },
   "outputs": [],
   "source": [
    "def df_to_dict(row):\n",
    "    user_id = row.userId\n",
    "    movie_id = row.movieId\n",
    "    r = row.rating\n",
    "    \n",
    "    if user_id not in user2movie:\n",
    "        user2movie[user_id] = [movie_id]\n",
    "    else:\n",
    "        user2movie[user_id].append(movie_id)\n",
    "        \n",
    "    if movie_id not in movie2user:\n",
    "        movie2user[movie_id] = [user_id]\n",
    "    else:\n",
    "        movie2user[movie_id].append(user_id)\n",
    "        \n",
    "    usermovie2rating[(user_id, movie_id)] = r"
   ]
  },
  {
   "cell_type": "code",
   "execution_count": 15,
   "metadata": {
    "scrolled": true
   },
   "outputs": [
    {
     "data": {
      "text/plain": [
       "10540675    None\n",
       "19109762    None\n",
       "12439004    None\n",
       "6104724     None\n",
       "255928      None\n",
       "1542834     None\n",
       "4545215     None\n",
       "18795622    None\n",
       "8790650     None\n",
       "3902462     None\n",
       "7288610     None\n",
       "7638629     None\n",
       "19382642    None\n",
       "6305830     None\n",
       "11805067    None\n",
       "14624770    None\n",
       "6302787     None\n",
       "18496943    None\n",
       "12822063    None\n",
       "5389945     None\n",
       "13045082    None\n",
       "115084      None\n",
       "18098478    None\n",
       "12397509    None\n",
       "18048322    None\n",
       "18471158    None\n",
       "15198674    None\n",
       "14934613    None\n",
       "13463145    None\n",
       "19451761    None\n",
       "            ... \n",
       "18886112    None\n",
       "15942991    None\n",
       "3463798     None\n",
       "10069746    None\n",
       "15107087    None\n",
       "3681642     None\n",
       "1989072     None\n",
       "7877948     None\n",
       "17085780    None\n",
       "2994461     None\n",
       "10866541    None\n",
       "15222133    None\n",
       "14913040    None\n",
       "15488547    None\n",
       "4377756     None\n",
       "14010717    None\n",
       "26131       None\n",
       "9846938     None\n",
       "9417952     None\n",
       "13694827    None\n",
       "13490972    None\n",
       "3608878     None\n",
       "16472272    None\n",
       "17413225    None\n",
       "15917943    None\n",
       "17086600    None\n",
       "19095176    None\n",
       "15801813    None\n",
       "4139944     None\n",
       "7036252     None\n",
       "Length: 133628, dtype: object"
      ]
     },
     "execution_count": 15,
     "metadata": {},
     "output_type": "execute_result"
    }
   ],
   "source": [
    "df_train.apply(df_to_dict, axis = 1)"
   ]
  },
  {
   "cell_type": "code",
   "execution_count": 16,
   "metadata": {
    "scrolled": true
   },
   "outputs": [
    {
     "data": {
      "text/plain": [
       "17209646    None\n",
       "6233449     None\n",
       "10413713    None\n",
       "17621605    None\n",
       "4339261     None\n",
       "5335046     None\n",
       "17863406    None\n",
       "17627555    None\n",
       "8814268     None\n",
       "3453714     None\n",
       "7089675     None\n",
       "15177094    None\n",
       "9845560     None\n",
       "6779511     None\n",
       "1128871     None\n",
       "14686125    None\n",
       "14884197    None\n",
       "14956427    None\n",
       "11499938    None\n",
       "3807031     None\n",
       "5957228     None\n",
       "5032058     None\n",
       "7800572     None\n",
       "18656134    None\n",
       "3624143     None\n",
       "14311033    None\n",
       "11614434    None\n",
       "1226622     None\n",
       "18832748    None\n",
       "15648915    None\n",
       "            ... \n",
       "8364737     None\n",
       "19152930    None\n",
       "81530       None\n",
       "17874691    None\n",
       "4197298     None\n",
       "9543482     None\n",
       "5958627     None\n",
       "3137823     None\n",
       "13783350    None\n",
       "8690128     None\n",
       "8089400     None\n",
       "18737426    None\n",
       "7384861     None\n",
       "355680      None\n",
       "12555775    None\n",
       "14257293    None\n",
       "7480860     None\n",
       "16908249    None\n",
       "10144589    None\n",
       "17047873    None\n",
       "19522794    None\n",
       "15165473    None\n",
       "7325856     None\n",
       "5820290     None\n",
       "19095123    None\n",
       "1637177     None\n",
       "874954      None\n",
       "18746549    None\n",
       "13197755    None\n",
       "18111794    None\n",
       "Length: 33407, dtype: object"
      ]
     },
     "execution_count": 16,
     "metadata": {},
     "output_type": "execute_result"
    }
   ],
   "source": [
    "usermovie2rating_test = {}\n",
    "\n",
    "def df_to_dict_test(row):\n",
    "    user_id = row.userId\n",
    "    movie_id = row.movieId\n",
    "    r = row.rating\n",
    "    \n",
    "    usermovie2rating_test[(user_id, movie_id)] = r\n",
    "    \n",
    "df_test.apply(df_to_dict_test, axis = 1)"
   ]
  },
  {
   "cell_type": "code",
   "execution_count": 17,
   "metadata": {
    "collapsed": true
   },
   "outputs": [],
   "source": [
    "N = np.max(list(user2movie.keys())) + 1"
   ]
  },
  {
   "cell_type": "code",
   "execution_count": 18,
   "metadata": {},
   "outputs": [
    {
     "name": "stdout",
     "output_type": "stream",
     "text": [
      "N:  1000 M:  200\n"
     ]
    }
   ],
   "source": [
    "m1 = np.max(list(movie2user.keys()))\n",
    "m2 = np.max([m for (u, m), r in usermovie2rating_test.items()])\n",
    "M = max(m1, m2) + 1\n",
    "print('N: ', N, 'M: ', M)"
   ]
  },
  {
   "cell_type": "markdown",
   "metadata": {},
   "source": [
    "### Matrix Factorization"
   ]
  },
  {
   "cell_type": "markdown",
   "metadata": {},
   "source": [
    "##### Loss Function"
   ]
  },
  {
   "cell_type": "code",
   "execution_count": 19,
   "metadata": {
    "collapsed": true
   },
   "outputs": [],
   "source": [
    "def get_cost(d):\n",
    "    # intput - d: (user_id, movie_id) -> rating\n",
    "    N = float(len(d))\n",
    "    sse = 0\n",
    "    for k, r in d.items():\n",
    "        i, j = k\n",
    "        p = W[i].dot(U[j]) + b[i] + c[j] + mu\n",
    "        sse += (p - r) * (p - r)\n",
    "    return sse / N"
   ]
  },
  {
   "cell_type": "code",
   "execution_count": 32,
   "metadata": {
    "collapsed": true
   },
   "outputs": [],
   "source": [
    "K = 10 # set K to be 10 first\n",
    "\n",
    "# initialize parameters\n",
    "W = np.random.randn(N, K)\n",
    "b = np.random.randn(N)\n",
    "U = np.random.randn(M, K)\n",
    "c = np.random.randn(M)\n",
    "mu = np.mean(list(usermovie2rating.values()))"
   ]
  },
  {
   "cell_type": "code",
   "execution_count": 33,
   "metadata": {
    "collapsed": true
   },
   "outputs": [],
   "source": [
    "cTrain = []\n",
    "cTest = []\n",
    "T = 25\n",
    "reg = 20."
   ]
  },
  {
   "cell_type": "code",
   "execution_count": 34,
   "metadata": {},
   "outputs": [
    {
     "name": "stdout",
     "output_type": "stream",
     "text": [
      "epoch:  0\n",
      "epoch:  1\n",
      "epoch:  2\n",
      "epoch:  3\n",
      "epoch:  4\n",
      "epoch:  5\n",
      "epoch:  6\n",
      "epoch:  7\n",
      "epoch:  8\n",
      "epoch:  9\n",
      "epoch:  10\n",
      "epoch:  11\n",
      "epoch:  12\n",
      "epoch:  13\n",
      "epoch:  14\n",
      "epoch:  15\n",
      "epoch:  16\n",
      "epoch:  17\n",
      "epoch:  18\n",
      "epoch:  19\n",
      "epoch:  20\n",
      "epoch:  21\n",
      "epoch:  22\n",
      "epoch:  23\n",
      "epoch:  24\n"
     ]
    }
   ],
   "source": [
    "\n",
    "for t in range(T):\n",
    "    print('epoch: ', t)\n",
    "\n",
    "    for i in range(len(W)):\n",
    "        ##¥print('i: ', i)\n",
    "        movie_i = user2movie[i]\n",
    "        An = np.eye(K) * reg\n",
    "        bn = np.zeros(K)\n",
    "        \n",
    "        bi = 0\n",
    "        \n",
    "        for j in movie_i:\n",
    "            #print('j: ', j)\n",
    "            An += U[j].reshape(-1,1).dot(U[j].reshape(-1,1).T)\n",
    "            #print('successfully created An')\n",
    "            bn += (usermovie2rating[i, j] - b[i] - c[j] - mu ) * U[j]\n",
    "            #print('successfully created bn')\n",
    "            bi += usermovie2rating[i, j]  - W[i].dot(U[j]) - c[j] - mu\n",
    "        W[i] = np.linalg.solve(An, bn)\n",
    "        b[i] = bi / (len(movie_i) + reg)\n",
    "        \n",
    "    for k in range(len(U)):\n",
    "        user_k = movie2user[k]\n",
    "        An = np.eye(K) * reg\n",
    "        bn = np.zeros(K)\n",
    "        \n",
    "        cj = 0\n",
    "        for g in user_k:\n",
    "            An += W[g].reshape(-1,1).dot(W[g].reshape(-1,1).T)\n",
    "            bn += (usermovie2rating[g,k] - b[g] - c[k] - mu ) * W[g]\n",
    "            \n",
    "            cj += usermovie2rating[g,k] - W[g].dot(U[k]) - b[g] - mu\n",
    "            \n",
    "        U[k] = np.linalg.solve(An, bn)\n",
    "        c[k] = cj / (len(user_k) + reg)\n",
    "        \n",
    "    cTrain.append(get_cost(usermovie2rating))\n",
    "    cTest.append(get_cost(usermovie2rating_test))\n",
    "        \n",
    "        \n",
    "    \n",
    "    "
   ]
  },
  {
   "cell_type": "code",
   "execution_count": 35,
   "metadata": {},
   "outputs": [
    {
     "data": {
      "image/png": "[encoded data removed]",
      "text/plain": [
       "<matplotlib.figure.Figure at 0x150da427b8>"
      ]
     },
     "metadata": {},
     "output_type": "display_data"
    }
   ],
   "source": [
    "plt.plot(cTrain, label = 'Train cost')\n",
    "plt.plot(cTest, label = 'Test cost')\n",
    "plt.legend()\n",
    "plt.show()"
   ]
  },
  {
   "cell_type": "markdown",
   "metadata": {},
   "source": [
    "##### Prediction"
   ]
  },
  {
   "cell_type": "code",
   "execution_count": 79,
   "metadata": {},
   "outputs": [
    {
     "name": "stdout",
     "output_type": "stream",
     "text": [
      "user id:  558 movie id:  34\n",
      "True Value: 3.5\n",
      "predicted value:  3.77547561056\n"
     ]
    }
   ],
   "source": [
    "i = 558\n",
    "j = 34\n",
    "print('user id: ', i, 'movie id: ', j)\n",
    "print('True Value:', usermovie2rating_test[i,j])\n",
    "\n",
    "print('predicted value: ', W[i].dot(U[j]) + b[i] + c[j] + mu)"
   ]
  },
  {
   "cell_type": "code",
   "execution_count": 128,
   "metadata": {},
   "outputs": [
    {
     "name": "stdout",
     "output_type": "stream",
     "text": [
      "want to recommend 5 movies to user 0 : \n",
      "top 5 movies are\n",
      "     predicted_rating\n",
      "28           4.744348\n",
      "9            4.513282\n",
      "21           4.410120\n",
      "165          4.379961\n",
      "8            4.314974\n"
     ]
    }
   ],
   "source": [
    "i = 0\n",
    "print('want to recommend 5 movies to user',i, ': ')\n",
    "predict_df = pd.DataFrame(W[i].dot(U.T) + b[i] + c + mu)\n",
    "predict_df.columns = ['predicted_rating']\n",
    "print('top 5 movies are')\n",
    "print(predict_df.loc[~predict_df.index.isin(user2movie[0])].sort_values(by = 'predicted_rating',ascending=False ).head())"
   ]
  },
  {
   "cell_type": "markdown",
   "metadata": {},
   "source": [
    "##### Analyzing Result "
   ]
  },
  {
   "cell_type": "code",
   "execution_count": 68,
   "metadata": {},
   "outputs": [],
   "source": [
    "W_df= pd.DataFrame(W)"
   ]
  },
  {
   "cell_type": "code",
   "execution_count": 45,
   "metadata": {},
   "outputs": [],
   "source": [
    "U_df = pd.DataFrame(U)"
   ]
  },
  {
   "cell_type": "code",
   "execution_count": 73,
   "metadata": {},
   "outputs": [
    {
     "name": "stdout",
     "output_type": "stream",
     "text": [
      "After Training, we have two matrix\n",
      "User matrix - probability of User i like Cluster k\n",
      "          0         1         2         3         4         5         6  \\\n",
      "0  0.076487 -0.222724  0.028498  0.052415  0.001157  0.071652 -0.199599   \n",
      "1  0.061460  0.115309  0.118425  0.041710 -0.281888 -0.267685  0.048051   \n",
      "2  0.259745 -0.089040 -0.000281 -0.359758 -0.261721 -0.174208  0.096808   \n",
      "3  0.105780 -0.170215  0.054869 -0.036437 -0.187263  0.050420 -0.301187   \n",
      "4  0.022427 -0.050671  0.005261  0.075257 -0.145920  0.050325 -0.035692   \n",
      "\n",
      "          7         8         9  \n",
      "0  0.084531  0.097792  0.018645  \n",
      "1  0.150554 -0.057572  0.174765  \n",
      "2  0.075526 -0.338911 -0.085178  \n",
      "3  0.204717  0.130516  0.175479  \n",
      "4 -0.037501 -0.006106 -0.012336  \n",
      "\n",
      "Movie matrix - probabiity of movie j belong to Cluster k \n",
      "          0         1         2         3         4         5         6  \\\n",
      "0 -0.725820 -0.069071 -0.096486 -0.165696 -0.282852  0.319299  0.709175   \n",
      "1 -1.014521 -0.482684  0.049138 -0.029934 -0.274941  0.212208 -0.410813   \n",
      "2 -0.555343 -0.174382  0.299702 -0.450428 -0.253513  0.103478  0.065318   \n",
      "3 -0.250156 -0.022614 -0.123273  0.231790 -0.563360  0.029053  0.187600   \n",
      "4 -0.395938 -0.223236  0.198023  0.641344 -0.158451 -0.499857 -0.023606   \n",
      "\n",
      "          7         8         9  \n",
      "0  0.548419 -0.223141  0.917292  \n",
      "1  0.212648 -0.157580 -1.201311  \n",
      "2  0.180466 -0.230736 -0.643256  \n",
      "3  0.228989 -0.030149 -0.066420  \n",
      "4 -0.033225  0.347003 -0.636134  \n"
     ]
    }
   ],
   "source": [
    "print('After Training, we have two matrix')\n",
    "print('User matrix - probability of User i like Cluster k')\n",
    "print(W_df.head())\n",
    "print('')\n",
    "print('Movie matrix - probabiity of movie j belong to Cluster k ')\n",
    "print( U_df.head())"
   ]
  },
  {
   "cell_type": "code",
   "execution_count": 80,
   "metadata": {},
   "outputs": [
    {
     "name": "stdout",
     "output_type": "stream",
     "text": [
      "top 5 movies in the 2nd cluster\n",
      "40     1.399916\n",
      "56     1.338271\n",
      "33     1.321046\n",
      "199    1.183577\n",
      "64     1.047270\n",
      "Name: 2, dtype: float64\n"
     ]
    }
   ],
   "source": [
    "print('top 5 movies in the 2nd cluster')\n",
    "print(U_df.sort_values(by = 2, ascending=False).loc[:,2].head())"
   ]
  },
  {
   "cell_type": "code",
   "execution_count": null,
   "metadata": {
    "collapsed": true
   },
   "outputs": [],
   "source": []
  }
 ],
 "metadata": {
  "kernelspec": {
   "display_name": "Python 3",
   "language": "python",
   "name": "python3"
  },
  "language_info": {
   "codemirror_mode": {
    "name": "ipython",
    "version": 3
   },
   "file_extension": ".py",
   "mimetype": "text/x-python",
   "name": "python",
   "nbconvert_exporter": "python",
   "pygments_lexer": "ipython3",
   "version": "3.6.2"
  }
 },
 "nbformat": 4,
 "nbformat_minor": 2
}
