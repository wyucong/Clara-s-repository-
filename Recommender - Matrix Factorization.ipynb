{
 "cells": [
  {
   "cell_type": "markdown",
   "metadata": {},
   "source": [
    "### Reommender - Matrix Factorization"
   ]
  },
  {
   "cell_type": "markdown",
   "metadata": {},
   "source": [
    "The goal of this project is to recommend movie to a certain user. I am going to use Matrix Factorization to train a user matrix and a movie matrix. "
   ]
  },
  {
   "cell_type": "markdown",
   "metadata": {},
   "source": [
    "##### Load Data"
   ]
  },
  {
   "cell_type": "code",
   "execution_count": 1,
   "metadata": {
    "collapsed": true
   },
   "outputs": [],
   "source": [
    "import pandas as pd\n",
    "import numpy as np\n",
    "import matplotlib.pyplot as plt\n",
    "from sklearn.utils import shuffle\n",
    "from collections import Counter"
   ]
  },
  {
   "cell_type": "code",
   "execution_count": 255,
   "metadata": {
    "collapsed": true
   },
   "outputs": [],
   "source": [
    "ratingDf = pd.read_csv('rating.csv')"
   ]
  },
  {
   "cell_type": "code",
   "execution_count": 256,
   "metadata": {},
   "outputs": [
    {
     "data": {
      "text/html": [
       "<div>\n",
       "<style>\n",
       "    .dataframe thead tr:only-child th {\n",
       "        text-align: right;\n",
       "    }\n",
       "\n",
       "    .dataframe thead th {\n",
       "        text-align: left;\n",
       "    }\n",
       "\n",
       "    .dataframe tbody tr th {\n",
       "        vertical-align: top;\n",
       "    }\n",
       "</style>\n",
       "<table border=\"1\" class=\"dataframe\">\n",
       "  <thead>\n",
       "    <tr style=\"text-align: right;\">\n",
       "      <th></th>\n",
       "      <th>userId</th>\n",
       "      <th>movieId</th>\n",
       "      <th>rating</th>\n",
       "      <th>timestamp</th>\n",
       "    </tr>\n",
       "  </thead>\n",
       "  <tbody>\n",
       "    <tr>\n",
       "      <th>0</th>\n",
       "      <td>1</td>\n",
       "      <td>2</td>\n",
       "      <td>3.5</td>\n",
       "      <td>2005-04-02 23:53:47</td>\n",
       "    </tr>\n",
       "    <tr>\n",
       "      <th>1</th>\n",
       "      <td>1</td>\n",
       "      <td>29</td>\n",
       "      <td>3.5</td>\n",
       "      <td>2005-04-02 23:31:16</td>\n",
       "    </tr>\n",
       "    <tr>\n",
       "      <th>2</th>\n",
       "      <td>1</td>\n",
       "      <td>32</td>\n",
       "      <td>3.5</td>\n",
       "      <td>2005-04-02 23:33:39</td>\n",
       "    </tr>\n",
       "    <tr>\n",
       "      <th>3</th>\n",
       "      <td>1</td>\n",
       "      <td>47</td>\n",
       "      <td>3.5</td>\n",
       "      <td>2005-04-02 23:32:07</td>\n",
       "    </tr>\n",
       "    <tr>\n",
       "      <th>4</th>\n",
       "      <td>1</td>\n",
       "      <td>50</td>\n",
       "      <td>3.5</td>\n",
       "      <td>2005-04-02 23:29:40</td>\n",
       "    </tr>\n",
       "  </tbody>\n",
       "</table>\n",
       "</div>"
      ],
      "text/plain": [
       "   userId  movieId  rating            timestamp\n",
       "0       1        2     3.5  2005-04-02 23:53:47\n",
       "1       1       29     3.5  2005-04-02 23:31:16\n",
       "2       1       32     3.5  2005-04-02 23:33:39\n",
       "3       1       47     3.5  2005-04-02 23:32:07\n",
       "4       1       50     3.5  2005-04-02 23:29:40"
      ]
     },
     "execution_count": 256,
     "metadata": {},
     "output_type": "execute_result"
    }
   ],
   "source": [
    "ratingDf.head()"
   ]
  },
  {
   "cell_type": "code",
   "execution_count": 257,
   "metadata": {},
   "outputs": [
    {
     "name": "stdout",
     "output_type": "stream",
     "text": [
      "number of rows:  20000263\n"
     ]
    }
   ],
   "source": [
    "print('number of rows: ', ratingDf.shape[0])"
   ]
  },
  {
   "cell_type": "code",
   "execution_count": 258,
   "metadata": {},
   "outputs": [
    {
     "name": "stdout",
     "output_type": "stream",
     "text": [
      "Total number of movies being rate:  26744\n",
      "Total number of clients who rated:  138493\n"
     ]
    }
   ],
   "source": [
    "print('Total number of movies being rate: ' , ratingDf.movieId.nunique())\n",
    "print('Total number of clients who rated: ', ratingDf.userId.nunique())"
   ]
  },
  {
   "cell_type": "markdown",
   "metadata": {},
   "source": [
    "##### data set too large, subsample"
   ]
  },
  {
   "cell_type": "code",
   "execution_count": 291,
   "metadata": {
    "collapsed": true
   },
   "outputs": [],
   "source": [
    "#number of users and items we are going to keep\n",
    "n = 4000\n",
    "m = 800"
   ]
  },
  {
   "cell_type": "code",
   "execution_count": 292,
   "metadata": {},
   "outputs": [],
   "source": [
    "# only keep the top users and top items\n",
    "user_ids_count = Counter(ratingDf.userId)\n",
    "item_ids_count = Counter(ratingDf.movieId)\n",
    "\n",
    "user_ids = [u for u, c in user_ids_count.most_common(n)]\n",
    "item_ids = [m for m, c in item_ids_count.most_common(m)]"
   ]
  },
  {
   "cell_type": "code",
   "execution_count": 293,
   "metadata": {},
   "outputs": [],
   "source": [
    "rating_sub = ratingDf[(ratingDf.userId.isin(user_ids)) & (ratingDf.movieId.isin(item_ids))]"
   ]
  },
  {
   "cell_type": "code",
   "execution_count": 294,
   "metadata": {},
   "outputs": [
    {
     "name": "stdout",
     "output_type": "stream",
     "text": [
      "After Sub-sample:\n",
      "number of rows:  1715725\n"
     ]
    }
   ],
   "source": [
    "print('After Sub-sample:')\n",
    "print('number of rows: ', rating_sub.shape[0])"
   ]
  },
  {
   "cell_type": "markdown",
   "metadata": {},
   "source": [
    "##### Reindex"
   ]
  },
  {
   "cell_type": "code",
   "execution_count": 295,
   "metadata": {},
   "outputs": [
    {
     "name": "stdout",
     "output_type": "stream",
     "text": [
      "i:  4000\n"
     ]
    }
   ],
   "source": [
    "new_user_id_map = {}\n",
    "i = 0\n",
    "for old in user_ids:\n",
    "    new_user_id_map[old] = i\n",
    "    i += 1\n",
    "print('i: ', i)\n",
    "    "
   ]
  },
  {
   "cell_type": "code",
   "execution_count": 296,
   "metadata": {},
   "outputs": [
    {
     "name": "stdout",
     "output_type": "stream",
     "text": [
      "j: 800\n"
     ]
    }
   ],
   "source": [
    "new_movie_id_map = {}\n",
    "j = 0\n",
    "for old in item_ids:\n",
    "    new_movie_id_map[old] = j\n",
    "    j += 1\n",
    "print('j:',j)"
   ]
  },
  {
   "cell_type": "code",
   "execution_count": 297,
   "metadata": {},
   "outputs": [
    {
     "name": "stderr",
     "output_type": "stream",
     "text": [
      "/Users/yucongweng/anaconda3/lib/python3.6/site-packages/pandas/core/indexing.py:517: SettingWithCopyWarning: \n",
      "A value is trying to be set on a copy of a slice from a DataFrame.\n",
      "Try using .loc[row_indexer,col_indexer] = value instead\n",
      "\n",
      "See the caveats in the documentation: http://pandas.pydata.org/pandas-docs/stable/indexing.html#indexing-view-versus-copy\n",
      "  self.obj[item] = s\n"
     ]
    }
   ],
   "source": [
    "rating_sub.loc[:,'userId'] = rating_sub.apply(lambda row: new_user_id_map[row.userId], axis= 1)\n",
    "rating_sub.loc[:,'movieId'] = rating_sub.apply(lambda row: new_movie_id_map[row.movieId], axis = 1)"
   ]
  },
  {
   "cell_type": "code",
   "execution_count": 298,
   "metadata": {},
   "outputs": [
    {
     "name": "stdout",
     "output_type": "stream",
     "text": [
      "max user id:  3999\n",
      "max movie id:  799\n"
     ]
    }
   ],
   "source": [
    "print('max user id: ', rating_sub.userId.max())\n",
    "print('max movie id: ', rating_sub.movieId.max())"
   ]
  },
  {
   "cell_type": "markdown",
   "metadata": {},
   "source": [
    "##### split in train and test data set"
   ]
  },
  {
   "cell_type": "code",
   "execution_count": 299,
   "metadata": {
    "collapsed": true
   },
   "outputs": [],
   "source": [
    "rating_sub = shuffle(rating_sub)"
   ]
  },
  {
   "cell_type": "code",
   "execution_count": 300,
   "metadata": {
    "collapsed": true
   },
   "outputs": [],
   "source": [
    "cutoff = 0.8\n",
    "df_train = rating_sub.iloc[:int(cutoff * len(rating_sub))]\n",
    "df_test = rating_sub.iloc[int(cutoff * len(rating_sub)):]\n",
    "\n"
   ]
  },
  {
   "cell_type": "markdown",
   "metadata": {},
   "source": [
    "#### Convert data frame to dicitonary"
   ]
  },
  {
   "cell_type": "code",
   "execution_count": 301,
   "metadata": {
    "collapsed": true,
    "scrolled": true
   },
   "outputs": [],
   "source": [
    "user2movie = {}\n",
    "movie2user = {}\n",
    "usermovie2rating = {}\n"
   ]
  },
  {
   "cell_type": "code",
   "execution_count": 302,
   "metadata": {
    "collapsed": true
   },
   "outputs": [],
   "source": [
    "def df_to_dict(row):\n",
    "    user_id = row.userId\n",
    "    movie_id = row.movieId\n",
    "    r = row.rating\n",
    "    \n",
    "    if user_id not in user2movie:\n",
    "        user2movie[user_id] = [movie_id]\n",
    "    else:\n",
    "        user2movie[user_id].append(movie_id)\n",
    "        \n",
    "    if movie_id not in movie2user:\n",
    "        movie2user[movie_id] = [user_id]\n",
    "    else:\n",
    "        movie2user[movie_id].append(user_id)\n",
    "        \n",
    "    usermovie2rating[(user_id, movie_id)] = r"
   ]
  },
  {
   "cell_type": "code",
   "execution_count": 303,
   "metadata": {
    "scrolled": true
   },
   "outputs": [
    {
     "data": {
      "text/plain": [
       "11415672    None\n",
       "14829098    None\n",
       "4093886     None\n",
       "17179546    None\n",
       "7021747     None\n",
       "4987918     None\n",
       "12613704    None\n",
       "10209782    None\n",
       "10169308    None\n",
       "18864721    None\n",
       "11746       None\n",
       "15996290    None\n",
       "7432046     None\n",
       "2251515     None\n",
       "4938493     None\n",
       "7542907     None\n",
       "16492015    None\n",
       "8452036     None\n",
       "15434602    None\n",
       "18396413    None\n",
       "13482475    None\n",
       "9875941     None\n",
       "6500167     None\n",
       "10942335    None\n",
       "1541778     None\n",
       "13566768    None\n",
       "1347956     None\n",
       "12243633    None\n",
       "19022219    None\n",
       "5071270     None\n",
       "            ... \n",
       "8961641     None\n",
       "4297753     None\n",
       "13674958    None\n",
       "12088997    None\n",
       "8045551     None\n",
       "1355170     None\n",
       "5050993     None\n",
       "3376894     None\n",
       "6763545     None\n",
       "11521391    None\n",
       "14958362    None\n",
       "16439433    None\n",
       "12867593    None\n",
       "9775475     None\n",
       "7461516     None\n",
       "6152541     None\n",
       "9614593     None\n",
       "16922470    None\n",
       "3935387     None\n",
       "7021456     None\n",
       "10264288    None\n",
       "6455046     None\n",
       "4845707     None\n",
       "15652950    None\n",
       "5931436     None\n",
       "7329779     None\n",
       "9467631     None\n",
       "8771297     None\n",
       "11499955    None\n",
       "19058263    None\n",
       "Length: 1372580, dtype: object"
      ]
     },
     "execution_count": 303,
     "metadata": {},
     "output_type": "execute_result"
    }
   ],
   "source": [
    "df_train.apply(df_to_dict, axis = 1)"
   ]
  },
  {
   "cell_type": "code",
   "execution_count": 304,
   "metadata": {
    "collapsed": true
   },
   "outputs": [],
   "source": [
    "user2movierating = {}\n",
    "for i, movies in user2movie.items():\n",
    "    r = np.array([usermovie2rating[(i, j)] for j in movies])\n",
    "    user2movierating[i] = (movies, r)"
   ]
  },
  {
   "cell_type": "code",
   "execution_count": 305,
   "metadata": {},
   "outputs": [],
   "source": [
    "movie2userating = {}\n",
    "for j, users in movie2user.items():\n",
    "    r = np.array([usermovie2rating[(i,j)] for i in users])\n",
    "    movie2userating[j] = (users, r)"
   ]
  },
  {
   "cell_type": "code",
   "execution_count": 306,
   "metadata": {
    "scrolled": true
   },
   "outputs": [
    {
     "data": {
      "text/plain": [
       "6425250     None\n",
       "4957486     None\n",
       "9179915     None\n",
       "12276556    None\n",
       "15186650    None\n",
       "12294597    None\n",
       "19069318    None\n",
       "19568474    None\n",
       "1914339     None\n",
       "6889738     None\n",
       "10100153    None\n",
       "13388651    None\n",
       "4998229     None\n",
       "7108110     None\n",
       "867199      None\n",
       "13290291    None\n",
       "3137531     None\n",
       "14979909    None\n",
       "12074228    None\n",
       "9525248     None\n",
       "14647920    None\n",
       "2993887     None\n",
       "11535774    None\n",
       "19474785    None\n",
       "14392530    None\n",
       "14475124    None\n",
       "837577      None\n",
       "2741318     None\n",
       "15039817    None\n",
       "6554376     None\n",
       "            ... \n",
       "13246745    None\n",
       "13198844    None\n",
       "10470948    None\n",
       "1153779     None\n",
       "9574353     None\n",
       "16063626    None\n",
       "13970647    None\n",
       "8790391     None\n",
       "7428424     None\n",
       "9475472     None\n",
       "6962723     None\n",
       "12900883    None\n",
       "5616314     None\n",
       "15518957    None\n",
       "12462797    None\n",
       "15590684    None\n",
       "3765934     None\n",
       "17178930    None\n",
       "8759827     None\n",
       "11409137    None\n",
       "8759713     None\n",
       "6049279     None\n",
       "16713877    None\n",
       "78511       None\n",
       "4451645     None\n",
       "17184489    None\n",
       "16208090    None\n",
       "17122855    None\n",
       "13800866    None\n",
       "18632895    None\n",
       "Length: 343145, dtype: object"
      ]
     },
     "execution_count": 306,
     "metadata": {},
     "output_type": "execute_result"
    }
   ],
   "source": [
    "usermovie2rating_test = {}\n",
    "\n",
    "def df_to_dict_test(row):\n",
    "    user_id = row.userId\n",
    "    movie_id = row.movieId\n",
    "    r = row.rating\n",
    "    \n",
    "    usermovie2rating_test[(user_id, movie_id)] = r\n",
    "    \n",
    "df_test.apply(df_to_dict_test, axis = 1)"
   ]
  },
  {
   "cell_type": "code",
   "execution_count": 307,
   "metadata": {},
   "outputs": [],
   "source": [
    "movie2userating_test = {}\n",
    "for (i, j), r in usermovie2rating_test.items():\n",
    "    if j not in movie2userating_test:\n",
    "        movie2userating_test[j] = [[i], [r]]\n",
    "    else:\n",
    "        movie2userating_test[j][0].append(i)\n",
    "        movie2userating_test[j][1].append(r)\n",
    "for j, (i, r) in movie2userating_test.items():\n",
    "    movie2userating_test[j][1] = np.array(r)"
   ]
  },
  {
   "cell_type": "code",
   "execution_count": 309,
   "metadata": {
    "collapsed": true
   },
   "outputs": [],
   "source": [
    "N = np.max(list(user2movie.keys())) + 1"
   ]
  },
  {
   "cell_type": "code",
   "execution_count": 310,
   "metadata": {},
   "outputs": [
    {
     "name": "stdout",
     "output_type": "stream",
     "text": [
      "N:  4000 M:  800\n"
     ]
    }
   ],
   "source": [
    "m1 = np.max(list(movie2user.keys()))\n",
    "m2 = np.max([m for (u, m), r in usermovie2rating_test.items()])\n",
    "M = max(m1, m2) + 1\n",
    "print('N: ', N, 'M: ', M)"
   ]
  },
  {
   "cell_type": "markdown",
   "metadata": {},
   "source": [
    "### Matrix Factorization"
   ]
  },
  {
   "cell_type": "markdown",
   "metadata": {},
   "source": [
    "##### Loss Function"
   ]
  },
  {
   "cell_type": "code",
   "execution_count": 311,
   "metadata": {
    "collapsed": true
   },
   "outputs": [],
   "source": [
    "def get_cost(movie2userating):\n",
    "    # intput - movie2userating: movie_id ->(user_id, rating)\n",
    "    M = float(len(movie2userating))\n",
    "    sse = 0\n",
    "    N = 0\n",
    "    for j, (user, r) in movie2userating.items():\n",
    "        p = W[user].dot(U[j]) + b[user] + c[j] + mu\n",
    "        sse += (p - r) .dot(p - r)\n",
    "        N += len(user)\n",
    "    return sse / N"
   ]
  },
  {
   "cell_type": "code",
   "execution_count": 329,
   "metadata": {
    "collapsed": true
   },
   "outputs": [],
   "source": [
    "K = 10 # set K to be 10 first\n",
    "\n",
    "# initialize parameters\n",
    "W = np.random.randn(N, K)\n",
    "b = np.random.randn(N)\n",
    "U = np.random.randn(M, K)\n",
    "c = np.random.randn(M)\n",
    "mu = np.mean(list(usermovie2rating.values()))"
   ]
  },
  {
   "cell_type": "code",
   "execution_count": 330,
   "metadata": {
    "collapsed": true
   },
   "outputs": [],
   "source": [
    "cTrain = []\n",
    "cTest = []\n",
    "T = 25\n",
    "reg = 20."
   ]
  },
  {
   "cell_type": "code",
   "execution_count": 331,
   "metadata": {},
   "outputs": [
    {
     "name": "stdout",
     "output_type": "stream",
     "text": [
      "epoch:  0\n",
      "epoch:  1\n",
      "epoch:  2\n",
      "epoch:  3\n",
      "epoch:  4\n",
      "epoch:  5\n",
      "epoch:  6\n",
      "epoch:  7\n",
      "epoch:  8\n",
      "epoch:  9\n",
      "epoch:  10\n",
      "epoch:  11\n",
      "epoch:  12\n",
      "epoch:  13\n",
      "epoch:  14\n",
      "epoch:  15\n",
      "epoch:  16\n",
      "epoch:  17\n",
      "epoch:  18\n",
      "epoch:  19\n",
      "epoch:  20\n",
      "epoch:  21\n",
      "epoch:  22\n",
      "epoch:  23\n",
      "epoch:  24\n"
     ]
    }
   ],
   "source": [
    "\n",
    "for t in range(T):\n",
    "    print('epoch: ', t)\n",
    "\n",
    "    for i in range(N):\n",
    "        ##¥print('i: ', i)\n",
    "        movie_i, rating = user2movierating[i]\n",
    "        # update W\n",
    "        An = np.eye(K) + U[movie_i].T.dot(U[movie_i])\n",
    "        bn = (rating - b[i] - c[movie_i] - mu).dot(U[movie_i])\n",
    "        W[i] = np.linalg.solve(An, bn)\n",
    "        # update b\n",
    "        bi = (rating - U[movie_i].dot(W[i]) - c[movie_i] - mu).sum()\n",
    "        b[i] = bi / (len(movie_i)+ reg)\n",
    "        \n",
    "        \n",
    "    for k in range(M):\n",
    "        user_k, rating = movie2userating[k]\n",
    "        # update U\n",
    "        An = np.eye(K) * reg + W[user_k].T.dot(W[user_k])\n",
    "        bn = (rating - b[user_k]- c[k] - mu).dot(W[user_k])\n",
    "        U[k] = np.linalg.solve(An, bn)\n",
    "        # udpate c\n",
    "        cj = (rating - W[user_k].dot(U[k]) - b[user_k] - mu).sum()\n",
    "        c[k] = cj / (len(user_k) + reg)\n",
    "       \n",
    "    cTrain.append(get_cost(movie2userating))\n",
    "    cTest.append(get_cost(movie2userating_test))\n",
    "        \n",
    "        \n",
    "    \n",
    "    "
   ]
  },
  {
   "cell_type": "code",
   "execution_count": 332,
   "metadata": {},
   "outputs": [
    {
     "data": {
      "image/png": "[encoded data removed]",
      "text/plain": [
       "<matplotlib.figure.Figure at 0x15368b95c0>"
      ]
     },
     "metadata": {},
     "output_type": "display_data"
    }
   ],
   "source": [
    "plt.plot(cTrain, label = 'Train cost')\n",
    "plt.plot(cTest, label = 'Test cost')\n",
    "plt.legend()\n",
    "plt.show()"
   ]
  },
  {
   "cell_type": "markdown",
   "metadata": {},
   "source": [
    "##### Prediction"
   ]
  },
  {
   "cell_type": "code",
   "execution_count": 333,
   "metadata": {},
   "outputs": [
    {
     "name": "stdout",
     "output_type": "stream",
     "text": [
      "user id:  3507 movie id:  576\n",
      "True Value: 1.5\n",
      "predicted value:  2.10245067367\n"
     ]
    }
   ],
   "source": [
    "i = 3507\n",
    "j = 576\n",
    "print('user id: ', i, 'movie id: ', j)\n",
    "print('True Value:', usermovie2rating_test[i,j])\n",
    "\n",
    "print('predicted value: ', W[i].dot(U[j]) + b[i] + c[j] + mu)"
   ]
  },
  {
   "cell_type": "code",
   "execution_count": 334,
   "metadata": {},
   "outputs": [
    {
     "name": "stdout",
     "output_type": "stream",
     "text": [
      "want to recommend 5 movies to user 0 : \n",
      "top 5 movies are\n",
      "     predicted_rating\n",
      "28           4.716793\n",
      "2            4.560873\n",
      "231          4.426501\n",
      "30           4.358351\n",
      "83           4.303412\n"
     ]
    }
   ],
   "source": [
    "i = 0\n",
    "print('want to recommend 5 movies to user',i, ': ')\n",
    "predict_df = pd.DataFrame(W[i].dot(U.T) + b[i] + c + mu)\n",
    "predict_df.columns = ['predicted_rating']\n",
    "print('top 5 movies are')\n",
    "print(predict_df.loc[~predict_df.index.isin(user2movie[0])].sort_values(by = 'predicted_rating',ascending=False ).head())"
   ]
  },
  {
   "cell_type": "markdown",
   "metadata": {},
   "source": [
    "##### Analyzing Result "
   ]
  },
  {
   "cell_type": "code",
   "execution_count": 335,
   "metadata": {},
   "outputs": [],
   "source": [
    "W_df= pd.DataFrame(W)"
   ]
  },
  {
   "cell_type": "code",
   "execution_count": 336,
   "metadata": {},
   "outputs": [],
   "source": [
    "U_df = pd.DataFrame(U)"
   ]
  },
  {
   "cell_type": "code",
   "execution_count": 337,
   "metadata": {},
   "outputs": [
    {
     "name": "stdout",
     "output_type": "stream",
     "text": [
      "After Training, we have two matrix\n",
      "User matrix - probability of User i like Cluster k\n",
      "          0         1         2         3         4         5         6  \\\n",
      "0 -0.219268 -0.210966  0.124704 -0.002262  0.025407 -0.024793 -0.019829   \n",
      "1  0.798591 -0.748430  0.294879  1.066628 -0.035754  0.157758 -0.640767   \n",
      "2 -0.414467 -0.614185 -0.982505  0.889677 -0.231657  0.000612 -0.463856   \n",
      "3  0.225319 -0.422685  0.256227  0.025528  0.249863 -0.034429 -0.016908   \n",
      "4  0.201385 -0.344594  0.435967 -0.019500  0.088593  0.371290  0.124228   \n",
      "\n",
      "          7         8         9  \n",
      "0  0.076031  0.316506 -0.333051  \n",
      "1  0.220301  0.567845 -0.272728  \n",
      "2 -1.182212  0.424274 -0.572056  \n",
      "3  0.108309  0.259305 -1.100367  \n",
      "4 -0.039106  0.089770 -0.283350  \n",
      "\n",
      "Movie matrix - probabiity of movie j belong to Cluster k \n",
      "          0         1         2         3         4         5         6  \\\n",
      "0  0.198043 -0.045904 -0.075102  0.558119  0.155466  0.640815  0.290088   \n",
      "1 -0.597980 -0.806697 -0.231650 -0.187091  0.297868  0.432815  0.102740   \n",
      "2 -0.254992 -0.595173 -0.247670  0.124467 -0.052224  0.164559  0.246103   \n",
      "3  0.095700 -0.344426  0.173855  0.234032 -0.154509  0.454376  0.186223   \n",
      "4  0.181562 -0.697121 -0.018634 -0.372525  0.002579  0.394587 -0.066676   \n",
      "\n",
      "          7         8         9  \n",
      "0  0.143540 -0.121231  0.021957  \n",
      "1 -0.328196 -0.240198 -0.050037  \n",
      "2 -0.140280 -0.229739 -0.006395  \n",
      "3  0.087718 -0.063574 -0.112201  \n",
      "4 -0.051362 -0.033381  0.162594  \n"
     ]
    }
   ],
   "source": [
    "print('After Training, we have two matrix')\n",
    "print('User matrix - probability of User i like Cluster k')\n",
    "print(W_df.head())\n",
    "print('')\n",
    "print('Movie matrix - probabiity of movie j belong to Cluster k ')\n",
    "print( U_df.head())"
   ]
  },
  {
   "cell_type": "code",
   "execution_count": 338,
   "metadata": {},
   "outputs": [
    {
     "name": "stdout",
     "output_type": "stream",
     "text": [
      "top 5 movies in the 2nd cluster\n",
      "637    0.638422\n",
      "409    0.618389\n",
      "305    0.586658\n",
      "230    0.577503\n",
      "311    0.568302\n",
      "Name: 2, dtype: float64\n"
     ]
    }
   ],
   "source": [
    "print('top 5 movies in the 2nd cluster')\n",
    "print(U_df.sort_values(by = 2, ascending=False).loc[:,2].head())"
   ]
  },
  {
   "cell_type": "code",
   "execution_count": null,
   "metadata": {
    "collapsed": true
   },
   "outputs": [],
   "source": []
  }
 ],
 "metadata": {
  "kernelspec": {
   "display_name": "Python 3",
   "language": "python",
   "name": "python3"
  },
  "language_info": {
   "codemirror_mode": {
    "name": "ipython",
    "version": 3
   },
   "file_extension": ".py",
   "mimetype": "text/x-python",
   "name": "python",
   "nbconvert_exporter": "python",
   "pygments_lexer": "ipython3",
   "version": "3.6.2"
  }
 },
 "nbformat": 4,
 "nbformat_minor": 2
}
