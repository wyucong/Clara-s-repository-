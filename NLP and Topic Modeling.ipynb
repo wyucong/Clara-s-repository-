{
 "cells": [
  {
   "cell_type": "markdown",
   "metadata": {},
   "source": [
    "### Load in Data"
   ]
  },
  {
   "cell_type": "code",
   "execution_count": 7,
   "metadata": {
    "collapsed": true
   },
   "outputs": [],
   "source": [
    "!pip install -U -q PyDrive"
   ]
  },
  {
   "cell_type": "code",
   "execution_count": 14,
   "metadata": {},
   "outputs": [],
   "source": [
    "import pandas as pd\n",
    "import numpy as np\n",
    "\n"
   ]
  },
  {
   "cell_type": "code",
   "execution_count": 15,
   "metadata": {},
   "outputs": [
    {
     "name": "stderr",
     "output_type": "stream",
     "text": [
      "b'Skipping line 8704: expected 15 fields, saw 22\\nSkipping line 16933: expected 15 fields, saw 22\\nSkipping line 23726: expected 15 fields, saw 22\\n'\n",
      "b'Skipping line 85637: expected 15 fields, saw 22\\n'\n",
      "b'Skipping line 132136: expected 15 fields, saw 22\\nSkipping line 158070: expected 15 fields, saw 22\\nSkipping line 166007: expected 15 fields, saw 22\\nSkipping line 171877: expected 15 fields, saw 22\\nSkipping line 177756: expected 15 fields, saw 22\\nSkipping line 181773: expected 15 fields, saw 22\\nSkipping line 191085: expected 15 fields, saw 22\\nSkipping line 196273: expected 15 fields, saw 22\\nSkipping line 196331: expected 15 fields, saw 22\\n'\n",
      "b'Skipping line 197000: expected 15 fields, saw 22\\nSkipping line 197011: expected 15 fields, saw 22\\nSkipping line 197432: expected 15 fields, saw 22\\nSkipping line 208016: expected 15 fields, saw 22\\nSkipping line 214110: expected 15 fields, saw 22\\nSkipping line 244328: expected 15 fields, saw 22\\nSkipping line 248519: expected 15 fields, saw 22\\nSkipping line 254936: expected 15 fields, saw 22\\n'\n",
      "b'Skipping line 272057: expected 15 fields, saw 22\\nSkipping line 293214: expected 15 fields, saw 22\\nSkipping line 310507: expected 15 fields, saw 22\\nSkipping line 312306: expected 15 fields, saw 22\\nSkipping line 316296: expected 15 fields, saw 22\\n'\n",
      "b'Skipping line 336028: expected 15 fields, saw 22\\nSkipping line 344885: expected 15 fields, saw 22\\nSkipping line 352551: expected 15 fields, saw 22\\n'\n",
      "b'Skipping line 408773: expected 15 fields, saw 22\\nSkipping line 434535: expected 15 fields, saw 22\\n'\n",
      "b'Skipping line 581593: expected 15 fields, saw 22\\n'\n",
      "b'Skipping line 652409: expected 15 fields, saw 22\\n'\n"
     ]
    }
   ],
   "source": [
    "\n",
    "\n",
    "df = pd.read_csv('watch_reviews.tsv', sep='\\t', header=0, error_bad_lines=False)"
   ]
  },
  {
   "cell_type": "code",
   "execution_count": 16,
   "metadata": {},
   "outputs": [
    {
     "data": {
      "text/html": [
       "<div>\n",
       "<style>\n",
       "    .dataframe thead tr:only-child th {\n",
       "        text-align: right;\n",
       "    }\n",
       "\n",
       "    .dataframe thead th {\n",
       "        text-align: left;\n",
       "    }\n",
       "\n",
       "    .dataframe tbody tr th {\n",
       "        vertical-align: top;\n",
       "    }\n",
       "</style>\n",
       "<table border=\"1\" class=\"dataframe\">\n",
       "  <thead>\n",
       "    <tr style=\"text-align: right;\">\n",
       "      <th></th>\n",
       "      <th>marketplace</th>\n",
       "      <th>customer_id</th>\n",
       "      <th>review_id</th>\n",
       "      <th>product_id</th>\n",
       "      <th>product_parent</th>\n",
       "      <th>product_title</th>\n",
       "      <th>product_category</th>\n",
       "      <th>star_rating</th>\n",
       "      <th>helpful_votes</th>\n",
       "      <th>total_votes</th>\n",
       "      <th>vine</th>\n",
       "      <th>verified_purchase</th>\n",
       "      <th>review_headline</th>\n",
       "      <th>review_body</th>\n",
       "      <th>review_date</th>\n",
       "    </tr>\n",
       "  </thead>\n",
       "  <tbody>\n",
       "    <tr>\n",
       "      <th>0</th>\n",
       "      <td>US</td>\n",
       "      <td>3653882</td>\n",
       "      <td>R3O9SGZBVQBV76</td>\n",
       "      <td>B00FALQ1ZC</td>\n",
       "      <td>937001370</td>\n",
       "      <td>Invicta Women's 15150 \"Angel\" 18k Yellow Gold ...</td>\n",
       "      <td>Watches</td>\n",
       "      <td>5</td>\n",
       "      <td>0</td>\n",
       "      <td>0</td>\n",
       "      <td>N</td>\n",
       "      <td>Y</td>\n",
       "      <td>Five Stars</td>\n",
       "      <td>Absolutely love this watch! Get compliments al...</td>\n",
       "      <td>2015-08-31</td>\n",
       "    </tr>\n",
       "    <tr>\n",
       "      <th>1</th>\n",
       "      <td>US</td>\n",
       "      <td>14661224</td>\n",
       "      <td>RKH8BNC3L5DLF</td>\n",
       "      <td>B00D3RGO20</td>\n",
       "      <td>484010722</td>\n",
       "      <td>Kenneth Cole New York Women's KC4944 Automatic...</td>\n",
       "      <td>Watches</td>\n",
       "      <td>5</td>\n",
       "      <td>0</td>\n",
       "      <td>0</td>\n",
       "      <td>N</td>\n",
       "      <td>Y</td>\n",
       "      <td>I love thiswatch it keeps time wonderfully</td>\n",
       "      <td>I love this watch it keeps time wonderfully.</td>\n",
       "      <td>2015-08-31</td>\n",
       "    </tr>\n",
       "    <tr>\n",
       "      <th>2</th>\n",
       "      <td>US</td>\n",
       "      <td>27324930</td>\n",
       "      <td>R2HLE8WKZSU3NL</td>\n",
       "      <td>B00DKYC7TK</td>\n",
       "      <td>361166390</td>\n",
       "      <td>Ritche 22mm Black Stainless Steel Bracelet Wat...</td>\n",
       "      <td>Watches</td>\n",
       "      <td>2</td>\n",
       "      <td>1</td>\n",
       "      <td>1</td>\n",
       "      <td>N</td>\n",
       "      <td>Y</td>\n",
       "      <td>Two Stars</td>\n",
       "      <td>Scratches</td>\n",
       "      <td>2015-08-31</td>\n",
       "    </tr>\n",
       "    <tr>\n",
       "      <th>3</th>\n",
       "      <td>US</td>\n",
       "      <td>7211452</td>\n",
       "      <td>R31U3UH5AZ42LL</td>\n",
       "      <td>B000EQS1JW</td>\n",
       "      <td>958035625</td>\n",
       "      <td>Citizen Men's BM8180-03E Eco-Drive Stainless S...</td>\n",
       "      <td>Watches</td>\n",
       "      <td>5</td>\n",
       "      <td>0</td>\n",
       "      <td>0</td>\n",
       "      <td>N</td>\n",
       "      <td>Y</td>\n",
       "      <td>Five Stars</td>\n",
       "      <td>It works well on me. However, I found cheaper ...</td>\n",
       "      <td>2015-08-31</td>\n",
       "    </tr>\n",
       "    <tr>\n",
       "      <th>4</th>\n",
       "      <td>US</td>\n",
       "      <td>12733322</td>\n",
       "      <td>R2SV659OUJ945Y</td>\n",
       "      <td>B00A6GFD7S</td>\n",
       "      <td>765328221</td>\n",
       "      <td>Orient ER27009B Men's Symphony Automatic Stain...</td>\n",
       "      <td>Watches</td>\n",
       "      <td>4</td>\n",
       "      <td>0</td>\n",
       "      <td>0</td>\n",
       "      <td>N</td>\n",
       "      <td>Y</td>\n",
       "      <td>Beautiful face, but cheap sounding links</td>\n",
       "      <td>Beautiful watch face.  The band looks nice all...</td>\n",
       "      <td>2015-08-31</td>\n",
       "    </tr>\n",
       "  </tbody>\n",
       "</table>\n",
       "</div>"
      ],
      "text/plain": [
       "  marketplace  customer_id       review_id  product_id  product_parent  \\\n",
       "0          US      3653882  R3O9SGZBVQBV76  B00FALQ1ZC       937001370   \n",
       "1          US     14661224   RKH8BNC3L5DLF  B00D3RGO20       484010722   \n",
       "2          US     27324930  R2HLE8WKZSU3NL  B00DKYC7TK       361166390   \n",
       "3          US      7211452  R31U3UH5AZ42LL  B000EQS1JW       958035625   \n",
       "4          US     12733322  R2SV659OUJ945Y  B00A6GFD7S       765328221   \n",
       "\n",
       "                                       product_title product_category  \\\n",
       "0  Invicta Women's 15150 \"Angel\" 18k Yellow Gold ...          Watches   \n",
       "1  Kenneth Cole New York Women's KC4944 Automatic...          Watches   \n",
       "2  Ritche 22mm Black Stainless Steel Bracelet Wat...          Watches   \n",
       "3  Citizen Men's BM8180-03E Eco-Drive Stainless S...          Watches   \n",
       "4  Orient ER27009B Men's Symphony Automatic Stain...          Watches   \n",
       "\n",
       "   star_rating  helpful_votes  total_votes vine verified_purchase  \\\n",
       "0            5              0            0    N                 Y   \n",
       "1            5              0            0    N                 Y   \n",
       "2            2              1            1    N                 Y   \n",
       "3            5              0            0    N                 Y   \n",
       "4            4              0            0    N                 Y   \n",
       "\n",
       "                              review_headline  \\\n",
       "0                                  Five Stars   \n",
       "1  I love thiswatch it keeps time wonderfully   \n",
       "2                                   Two Stars   \n",
       "3                                  Five Stars   \n",
       "4    Beautiful face, but cheap sounding links   \n",
       "\n",
       "                                         review_body review_date  \n",
       "0  Absolutely love this watch! Get compliments al...  2015-08-31  \n",
       "1       I love this watch it keeps time wonderfully.  2015-08-31  \n",
       "2                                          Scratches  2015-08-31  \n",
       "3  It works well on me. However, I found cheaper ...  2015-08-31  \n",
       "4  Beautiful watch face.  The band looks nice all...  2015-08-31  "
      ]
     },
     "execution_count": 16,
     "metadata": {},
     "output_type": "execute_result"
    }
   ],
   "source": [
    "df.head()"
   ]
  },
  {
   "cell_type": "code",
   "execution_count": 17,
   "metadata": {},
   "outputs": [
    {
     "name": "stdout",
     "output_type": "stream",
     "text": [
      "<class 'pandas.core.frame.DataFrame'>\n",
      "RangeIndex: 960204 entries, 0 to 960203\n",
      "Data columns (total 15 columns):\n",
      "marketplace          960204 non-null object\n",
      "customer_id          960204 non-null int64\n",
      "review_id            960204 non-null object\n",
      "product_id           960204 non-null object\n",
      "product_parent       960204 non-null int64\n",
      "product_title        960202 non-null object\n",
      "product_category     960204 non-null object\n",
      "star_rating          960204 non-null int64\n",
      "helpful_votes        960204 non-null int64\n",
      "total_votes          960204 non-null int64\n",
      "vine                 960204 non-null object\n",
      "verified_purchase    960204 non-null object\n",
      "review_headline      960200 non-null object\n",
      "review_body          960056 non-null object\n",
      "review_date          960200 non-null object\n",
      "dtypes: int64(5), object(10)\n",
      "memory usage: 109.9+ MB\n"
     ]
    }
   ],
   "source": [
    "df.info()"
   ]
  },
  {
   "cell_type": "code",
   "execution_count": 18,
   "metadata": {},
   "outputs": [
    {
     "name": "stdout",
     "output_type": "stream",
     "text": [
      "Num of rows: 960204\n",
      "Num of columns: 15\n"
     ]
    }
   ],
   "source": [
    "print('Num of rows: ' + str(df.shape[0])) #row count\n",
    "print('Num of columns: ' + str(df.shape[1])) #column count"
   ]
  },
  {
   "cell_type": "code",
   "execution_count": 19,
   "metadata": {},
   "outputs": [
    {
     "data": {
      "text/plain": [
       "marketplace            0\n",
       "customer_id            0\n",
       "review_id              0\n",
       "product_id             0\n",
       "product_parent         0\n",
       "product_title          2\n",
       "product_category       0\n",
       "star_rating            0\n",
       "helpful_votes          0\n",
       "total_votes            0\n",
       "vine                   0\n",
       "verified_purchase      0\n",
       "review_headline        4\n",
       "review_body          148\n",
       "review_date            4\n",
       "dtype: int64"
      ]
     },
     "execution_count": 19,
     "metadata": {},
     "output_type": "execute_result"
    }
   ],
   "source": [
    "df.isnull().sum()"
   ]
  },
  {
   "cell_type": "markdown",
   "metadata": {},
   "source": [
    "the columne \"Review Body\" contains the detialed Review. it has a very small number of missing value comparing to the large sample. so i am going to drop the missing value and take 1000 subsample as training data"
   ]
  },
  {
   "cell_type": "code",
   "execution_count": 20,
   "metadata": {
    "collapsed": true
   },
   "outputs": [],
   "source": [
    "df.review_body.dropna(inplace = True)"
   ]
  },
  {
   "cell_type": "code",
   "execution_count": 25,
   "metadata": {
    "collapsed": true
   },
   "outputs": [],
   "source": [
    "data = df.loc[:1000, 'review_body'].tolist()"
   ]
  },
  {
   "cell_type": "code",
   "execution_count": 41,
   "metadata": {},
   "outputs": [
    {
     "data": {
      "text/plain": [
       "['Absolutely love this watch! Get compliments almost every time I wear it. Dainty.',\n",
       " 'I love this watch it keeps time wonderfully.',\n",
       " 'Scratches']"
      ]
     },
     "execution_count": 41,
     "metadata": {},
     "output_type": "execute_result"
    }
   ],
   "source": [
    "data[:3]"
   ]
  },
  {
   "cell_type": "markdown",
   "metadata": {},
   "source": [
    "### Data Preprocessing - Tokenizing and Stemming"
   ]
  },
  {
   "cell_type": "code",
   "execution_count": 38,
   "metadata": {},
   "outputs": [
    {
     "name": "stdout",
     "output_type": "stream",
     "text": [
      "We use 179 stop words from nltk library\n",
      "['i', 'me', 'my', 'myself', 'we', 'our', 'ours', 'ourselves', 'you', \"you're\"]\n"
     ]
    }
   ],
   "source": [
    "# load stopwords\n",
    "import nltk\n",
    "from nltk.corpus import stopwords\n",
    "\n",
    "stopwords = stopwords.words('english')\n",
    "print('We use ' + str(len(stopwords)) + ' stop words from nltk library')\n",
    "print(stopwords[:10])\n"
   ]
  },
  {
   "cell_type": "code",
   "execution_count": 64,
   "metadata": {},
   "outputs": [],
   "source": [
    "\n",
    "from nltk.stem.snowball import SnowballStemmer\n",
    "import re\n",
    "\n",
    "stemmer = SnowballStemmer('english')\n",
    "\n",
    "# tokenization and stemming\n",
    "def tokenization_and_stemming(text):\n",
    "    tokens = [word.lower() for sent in nltk.sent_tokenize(text) for word in nltk.word_tokenize(sent)if word  not in stopwords]\n",
    "    \n",
    "    filtered_tokens = []\n",
    "    \n",
    "    #filter out any tokens not containing letters (e.g. numeric tokens, raw punctuation)\n",
    "    for token in tokens:\n",
    "        if re.search('[a-zA-Z]', token):\n",
    "            filtered_tokens.append(token)\n",
    "            \n",
    "    # stemming\n",
    "    stems = [stemmer.stem(t) for t in filtered_tokens]\n",
    "    return stems\n",
    "    \n",
    "#tokenization only\n",
    "def tokenization(text):\n",
    "    tokens = [word.lower() for sent in nltk.sent_tokenize(text) for word in nltk.word_tokenize(sent) if word  not in stopwords]\n",
    "    filtered_tokens = []\n",
    "    \n",
    "    for token in tokens:\n",
    "        if re.search('[a-zA-Z]', token):\n",
    "            filtered_tokens.append(token)\n",
    "    return filtered_tokens\n"
   ]
  },
  {
   "cell_type": "code",
   "execution_count": 65,
   "metadata": {},
   "outputs": [
    {
     "data": {
      "text/plain": [
       "['absolut',\n",
       " 'love',\n",
       " 'watch',\n",
       " 'get',\n",
       " 'compliment',\n",
       " 'almost',\n",
       " 'everi',\n",
       " 'time',\n",
       " 'i',\n",
       " 'wear',\n",
       " 'dainti']"
      ]
     },
     "execution_count": 65,
     "metadata": {},
     "output_type": "execute_result"
    }
   ],
   "source": [
    "tokenization_and_stemming(data[0])"
   ]
  },
  {
   "cell_type": "code",
   "execution_count": 68,
   "metadata": {},
   "outputs": [
    {
     "data": {
      "text/plain": [
       "['absolutely',\n",
       " 'love',\n",
       " 'watch',\n",
       " 'get',\n",
       " 'compliments',\n",
       " 'almost',\n",
       " 'every',\n",
       " 'time',\n",
       " 'i',\n",
       " 'wear',\n",
       " 'dainty']"
      ]
     },
     "execution_count": 68,
     "metadata": {},
     "output_type": "execute_result"
    }
   ],
   "source": [
    "tokenization(data[0])"
   ]
  },
  {
   "cell_type": "code",
   "execution_count": 66,
   "metadata": {},
   "outputs": [],
   "source": [
    "# apply tokenization and stemming for all the documents\n",
    "\n",
    "docs_stemmed = []\n",
    "docs_tokenized = []\n",
    "for i in data:\n",
    "    tokenized_and_stemmed_results = tokenization_and_stemming(i)\n",
    "    docs_stemmed.extend(tokenized_and_stemmed_results)\n",
    "    \n",
    "    tokenized_results = tokenization(i)\n",
    "    docs_tokenized.extend(tokenized_results)"
   ]
  },
  {
   "cell_type": "code",
   "execution_count": 79,
   "metadata": {},
   "outputs": [
    {
     "data": {
      "text/plain": [
       "2554"
      ]
     },
     "execution_count": 79,
     "metadata": {},
     "output_type": "execute_result"
    }
   ],
   "source": [
    "len(set(docs_stemmed))"
   ]
  },
  {
   "cell_type": "code",
   "execution_count": 69,
   "metadata": {
    "collapsed": true
   },
   "outputs": [],
   "source": [
    "#create a mapping from stemmed words to original words\n",
    "vocab_frame_dict = {docs_stemmed[x]: docs_tokenized[x] for x in range(len(docs_stemmed))}"
   ]
  },
  {
   "cell_type": "code",
   "execution_count": 73,
   "metadata": {},
   "outputs": [
    {
     "name": "stdout",
     "output_type": "stream",
     "text": [
      "In total, there are 1000 reviews and 245 terms.\n"
     ]
    }
   ],
   "source": [
    "# TF-IDF\n",
    "#keep 1000 words\n",
    "#exclude the words show up in all documents or only in 1 document\n",
    "tfidf_model = TfidfVectorizer(max_df=0.99, max_features=1000,\n",
    "                                 min_df=0.01, stop_words='english',\n",
    "                                 use_idf=True, tokenizer=tokenization_and_stemming, ngram_range=(1,1))\n",
    "\n",
    "tfidf_matrix = tfidf_model.fit_transform(data) #fit the vectorizer to synopses\n",
    "\n",
    "print (\"In total, there are \" + str(tfidf_matrix.shape[0]) + \\\n",
    "      \" reviews and \" + str(tfidf_matrix.shape[1]) + \" terms.\")"
   ]
  },
  {
   "cell_type": "code",
   "execution_count": 75,
   "metadata": {},
   "outputs": [
    {
     "data": {
      "text/plain": [
       "{'analyzer': 'word',\n",
       " 'binary': False,\n",
       " 'decode_error': 'strict',\n",
       " 'dtype': numpy.int64,\n",
       " 'encoding': 'utf-8',\n",
       " 'input': 'content',\n",
       " 'lowercase': True,\n",
       " 'max_df': 0.99,\n",
       " 'max_features': 1000,\n",
       " 'min_df': 0.01,\n",
       " 'ngram_range': (1, 1),\n",
       " 'norm': 'l2',\n",
       " 'preprocessor': None,\n",
       " 'smooth_idf': True,\n",
       " 'stop_words': 'english',\n",
       " 'strip_accents': None,\n",
       " 'sublinear_tf': False,\n",
       " 'token_pattern': '(?u)\\\\b\\\\w\\\\w+\\\\b',\n",
       " 'tokenizer': <function __main__.tokenization_and_stemming>,\n",
       " 'use_idf': True,\n",
       " 'vocabulary': None}"
      ]
     },
     "execution_count": 75,
     "metadata": {},
     "output_type": "execute_result"
    }
   ],
   "source": [
    "tfidf_model.get_params()"
   ]
  },
  {
   "cell_type": "code",
   "execution_count": 76,
   "metadata": {},
   "outputs": [
    {
     "data": {
      "text/plain": [
       "[\"'m\",\n",
       " \"'s\",\n",
       " 'abl',\n",
       " 'absolut',\n",
       " 'accur',\n",
       " 'actual',\n",
       " 'adjust',\n",
       " 'alarm',\n",
       " 'alreadi',\n",
       " 'alway',\n",
       " 'amaz',\n",
       " 'amazon',\n",
       " 'anoth',\n",
       " 'arm',\n",
       " 'arriv',\n",
       " 'automat',\n",
       " 'awesom',\n",
       " 'bad',\n",
       " 'band',\n",
       " 'batteri',\n",
       " 'beauti',\n",
       " 'best',\n",
       " 'better',\n",
       " 'big',\n",
       " 'bit',\n",
       " 'black',\n",
       " 'blue',\n",
       " 'bought',\n",
       " 'box',\n",
       " 'br',\n",
       " 'bracelet',\n",
       " 'brand',\n",
       " 'break',\n",
       " 'bright',\n",
       " 'broke',\n",
       " 'button',\n",
       " 'buy',\n",
       " 'ca',\n",
       " 'came',\n",
       " 'case',\n",
       " 'casio',\n",
       " 'chang',\n",
       " 'cheap',\n",
       " 'clasp',\n",
       " 'classi',\n",
       " 'clock',\n",
       " 'color',\n",
       " 'come',\n",
       " 'comfort',\n",
       " 'compliment',\n",
       " 'cool',\n",
       " 'cost',\n",
       " 'crown',\n",
       " 'crystal',\n",
       " 'dark',\n",
       " 'date',\n",
       " 'daughter',\n",
       " 'day',\n",
       " 'deal',\n",
       " 'definit',\n",
       " 'deliveri',\n",
       " 'design',\n",
       " 'dial',\n",
       " 'differ',\n",
       " 'difficult',\n",
       " 'disappoint',\n",
       " 'display',\n",
       " 'dress',\n",
       " 'durabl',\n",
       " 'easi',\n",
       " 'easili',\n",
       " 'end',\n",
       " 'everi',\n",
       " 'everyday',\n",
       " 'everyth',\n",
       " 'exact',\n",
       " 'excel',\n",
       " 'expect',\n",
       " 'expens',\n",
       " 'face',\n",
       " 'fair',\n",
       " 'far',\n",
       " 'fast',\n",
       " 'featur',\n",
       " 'feel',\n",
       " 'fell',\n",
       " 'fine',\n",
       " 'finish',\n",
       " 'fit',\n",
       " 'function',\n",
       " 'gave',\n",
       " 'gift',\n",
       " 'gold',\n",
       " 'good',\n",
       " 'got',\n",
       " 'great',\n",
       " 'hand',\n",
       " 'happi',\n",
       " 'hard',\n",
       " 'heavi',\n",
       " 'high',\n",
       " 'hold',\n",
       " 'honest',\n",
       " 'hope',\n",
       " 'hour',\n",
       " 'howev',\n",
       " 'husband',\n",
       " 'includ',\n",
       " 'instruct',\n",
       " 'invicta',\n",
       " 'issu',\n",
       " 'item',\n",
       " 'kept',\n",
       " 'know',\n",
       " 'larg',\n",
       " 'leather',\n",
       " 'light',\n",
       " 'like',\n",
       " 'link',\n",
       " 'littl',\n",
       " 'll',\n",
       " 'long',\n",
       " 'look',\n",
       " 'lot',\n",
       " 'love',\n",
       " 'low',\n",
       " 'make',\n",
       " 'mani',\n",
       " 'metal',\n",
       " 'minut',\n",
       " 'model',\n",
       " 'money',\n",
       " 'month',\n",
       " 'movement',\n",
       " \"n't\",\n",
       " 'need',\n",
       " 'new',\n",
       " 'nice',\n",
       " 'night',\n",
       " 'normal',\n",
       " 'number',\n",
       " 'old',\n",
       " 'open',\n",
       " 'oper',\n",
       " 'order',\n",
       " 'origin',\n",
       " 'overal',\n",
       " 'packag',\n",
       " 'paid',\n",
       " 'pay',\n",
       " 'perfect',\n",
       " 'perform',\n",
       " 'person',\n",
       " 'pictur',\n",
       " 'piec',\n",
       " 'pin',\n",
       " 'place',\n",
       " 'plastic',\n",
       " 'pleas',\n",
       " 'point',\n",
       " 'press',\n",
       " 'pretti',\n",
       " 'price',\n",
       " 'problem',\n",
       " 'product',\n",
       " 'purchas',\n",
       " 'qualiti',\n",
       " 'quick',\n",
       " 'quit',\n",
       " 'rate',\n",
       " 'read',\n",
       " 'real',\n",
       " 'realli',\n",
       " 'reason',\n",
       " 'receiv',\n",
       " 'recommend',\n",
       " 'red',\n",
       " 'remov',\n",
       " 'replac',\n",
       " 'resist',\n",
       " 'return',\n",
       " 'review',\n",
       " 'right',\n",
       " 'run',\n",
       " 'said',\n",
       " 'say',\n",
       " 'screw',\n",
       " 'second',\n",
       " 'seiko',\n",
       " 'seller',\n",
       " 'send',\n",
       " 'sent',\n",
       " 'set',\n",
       " 'sever',\n",
       " 'ship',\n",
       " 'short',\n",
       " 'simpl',\n",
       " 'sinc',\n",
       " 'size',\n",
       " 'small',\n",
       " 'smaller',\n",
       " 'solid',\n",
       " 'someth',\n",
       " 'somewhat',\n",
       " 'son',\n",
       " 'star',\n",
       " 'start',\n",
       " 'stop',\n",
       " 'strap',\n",
       " 'sturdi',\n",
       " 'style',\n",
       " 'stylish',\n",
       " 'super',\n",
       " 'sure',\n",
       " 'surpris',\n",
       " 'swim',\n",
       " 'tell',\n",
       " 'thank',\n",
       " 'thing',\n",
       " 'think',\n",
       " 'thought',\n",
       " 'time',\n",
       " 'timex',\n",
       " 'tini',\n",
       " 'tri',\n",
       " 'turn',\n",
       " 'use',\n",
       " 'valu',\n",
       " 've',\n",
       " 'want',\n",
       " 'watch',\n",
       " 'water',\n",
       " 'way',\n",
       " 'wear',\n",
       " 'week',\n",
       " 'weight',\n",
       " 'went',\n",
       " 'wife',\n",
       " 'wind',\n",
       " 'wish',\n",
       " 'work',\n",
       " 'worn',\n",
       " 'worth',\n",
       " 'wrist',\n",
       " 'year']"
      ]
     },
     "execution_count": 76,
     "metadata": {},
     "output_type": "execute_result"
    }
   ],
   "source": [
    "# words\n",
    "tf_selected_words = tfidf_model.get_feature_names()\n",
    "tf_selected_words "
   ]
  },
  {
   "cell_type": "markdown",
   "metadata": {},
   "source": [
    "#### How similar documents are?"
   ]
  },
  {
   "cell_type": "code",
   "execution_count": 80,
   "metadata": {},
   "outputs": [
    {
     "name": "stdout",
     "output_type": "stream",
     "text": [
      "[[ 1.          0.42500259  0.         ...,  0.          0.0400497   0.        ]\n",
      " [ 0.42500259  1.          0.         ...,  0.          0.09423401  0.        ]\n",
      " [ 0.          0.          0.         ...,  0.          0.          0.        ]\n",
      " ..., \n",
      " [ 0.          0.          0.         ...,  1.          0.          0.        ]\n",
      " [ 0.0400497   0.09423401  0.         ...,  0.          1.          0.        ]\n",
      " [ 0.          0.          0.         ...,  0.          0.          1.        ]]\n"
     ]
    }
   ],
   "source": [
    "# use cosine similarity to check the similarity for two documents\n",
    "from sklearn.metrics.pairwise import cosine_similarity\n",
    "cos_matrix = cosine_similarity(tfidf_matrix)\n",
    "print (cos_matrix)"
   ]
  },
  {
   "cell_type": "markdown",
   "metadata": {},
   "source": [
    "### Model I Kmeans"
   ]
  },
  {
   "cell_type": "code",
   "execution_count": 93,
   "metadata": {},
   "outputs": [],
   "source": [
    "from sklearn.cluster import KMeans\n",
    "\n",
    "# find k\n",
    "K = 50\n",
    "costs = []\n",
    "for n in range(2,K):\n",
    "    km = KMeans(n_clusters = n)\n",
    "    km.fit(tfidf_matrix)\n",
    "    \n",
    "    costs.append(km.inertia_)\n",
    "    #print('When # Clusters is ' + str(n) + ', The cost is ' + str(km.inertia_))\n",
    "    \n",
    "    \n"
   ]
  },
  {
   "cell_type": "code",
   "execution_count": 94,
   "metadata": {},
   "outputs": [
    {
     "data": {
      "image/png": "[encoded data removed]",
      "text/plain": [
       "<matplotlib.figure.Figure at 0x11fdb96a0>"
      ]
     },
     "metadata": {},
     "output_type": "display_data"
    }
   ],
   "source": [
    "import matplotlib.pyplot as plt\n",
    "\n",
    "plt.plot(costs)\n",
    "plt.show()"
   ]
  },
  {
   "cell_type": "markdown",
   "metadata": {},
   "source": [
    "Use Number_clusters = 10"
   ]
  },
  {
   "cell_type": "code",
   "execution_count": 95,
   "metadata": {
    "collapsed": true
   },
   "outputs": [],
   "source": [
    "num_clusters = 10\n",
    "\n",
    "# number of clusters\n",
    "km = KMeans(n_clusters=num_clusters)\n",
    "km.fit(tfidf_matrix)\n",
    "\n",
    "clusters = km.labels_.tolist()"
   ]
  },
  {
   "cell_type": "markdown",
   "metadata": {},
   "source": [
    "#### Analyze K-means Result"
   ]
  },
  {
   "cell_type": "code",
   "execution_count": 96,
   "metadata": {
    "collapsed": true
   },
   "outputs": [],
   "source": [
    "product = {'review': df[:1000].product_title, 'cluster': clusters}\n",
    "frame = pd.DataFrame(product, columns = ['review', 'cluster'])"
   ]
  },
  {
   "cell_type": "code",
   "execution_count": 98,
   "metadata": {},
   "outputs": [
    {
     "data": {
      "text/html": [
       "<div>\n",
       "<style>\n",
       "    .dataframe thead tr:only-child th {\n",
       "        text-align: right;\n",
       "    }\n",
       "\n",
       "    .dataframe thead th {\n",
       "        text-align: left;\n",
       "    }\n",
       "\n",
       "    .dataframe tbody tr th {\n",
       "        vertical-align: top;\n",
       "    }\n",
       "</style>\n",
       "<table border=\"1\" class=\"dataframe\">\n",
       "  <thead>\n",
       "    <tr style=\"text-align: right;\">\n",
       "      <th></th>\n",
       "      <th>review</th>\n",
       "      <th>cluster</th>\n",
       "    </tr>\n",
       "  </thead>\n",
       "  <tbody>\n",
       "    <tr>\n",
       "      <th>0</th>\n",
       "      <td>Invicta Women's 15150 \"Angel\" 18k Yellow Gold ...</td>\n",
       "      <td>5</td>\n",
       "    </tr>\n",
       "    <tr>\n",
       "      <th>1</th>\n",
       "      <td>Kenneth Cole New York Women's KC4944 Automatic...</td>\n",
       "      <td>5</td>\n",
       "    </tr>\n",
       "    <tr>\n",
       "      <th>5</th>\n",
       "      <td>Casio Men's GW-9400BJ-1JF G-Shock Master of G ...</td>\n",
       "      <td>5</td>\n",
       "    </tr>\n",
       "    <tr>\n",
       "      <th>35</th>\n",
       "      <td>Domire Fashion Accessories Trial Order New Qua...</td>\n",
       "      <td>5</td>\n",
       "    </tr>\n",
       "    <tr>\n",
       "      <th>43</th>\n",
       "      <td>Batman Kids' BAT4072 Black Rubber Batman Logo ...</td>\n",
       "      <td>5</td>\n",
       "    </tr>\n",
       "  </tbody>\n",
       "</table>\n",
       "</div>"
      ],
      "text/plain": [
       "                                               review  cluster\n",
       "0   Invicta Women's 15150 \"Angel\" 18k Yellow Gold ...        5\n",
       "1   Kenneth Cole New York Women's KC4944 Automatic...        5\n",
       "5   Casio Men's GW-9400BJ-1JF G-Shock Master of G ...        5\n",
       "35  Domire Fashion Accessories Trial Order New Qua...        5\n",
       "43  Batman Kids' BAT4072 Black Rubber Batman Logo ...        5"
      ]
     },
     "execution_count": 98,
     "metadata": {},
     "output_type": "execute_result"
    }
   ],
   "source": [
    "frame[frame['cluster'] == 5].head()"
   ]
  },
  {
   "cell_type": "code",
   "execution_count": 101,
   "metadata": {},
   "outputs": [
    {
     "name": "stdout",
     "output_type": "stream",
     "text": [
      "Number of reviews included in each cluster:\n"
     ]
    },
    {
     "data": {
      "text/html": [
       "<div>\n",
       "<style>\n",
       "    .dataframe thead tr:only-child th {\n",
       "        text-align: right;\n",
       "    }\n",
       "\n",
       "    .dataframe thead th {\n",
       "        text-align: left;\n",
       "    }\n",
       "\n",
       "    .dataframe tbody tr th {\n",
       "        vertical-align: top;\n",
       "    }\n",
       "</style>\n",
       "<table border=\"1\" class=\"dataframe\">\n",
       "  <thead>\n",
       "    <tr style=\"text-align: right;\">\n",
       "      <th></th>\n",
       "      <th>cluster</th>\n",
       "    </tr>\n",
       "  </thead>\n",
       "  <tbody>\n",
       "    <tr>\n",
       "      <th>9</th>\n",
       "      <td>271</td>\n",
       "    </tr>\n",
       "    <tr>\n",
       "      <th>0</th>\n",
       "      <td>237</td>\n",
       "    </tr>\n",
       "    <tr>\n",
       "      <th>5</th>\n",
       "      <td>95</td>\n",
       "    </tr>\n",
       "    <tr>\n",
       "      <th>1</th>\n",
       "      <td>64</td>\n",
       "    </tr>\n",
       "    <tr>\n",
       "      <th>4</th>\n",
       "      <td>60</td>\n",
       "    </tr>\n",
       "    <tr>\n",
       "      <th>8</th>\n",
       "      <td>58</td>\n",
       "    </tr>\n",
       "    <tr>\n",
       "      <th>3</th>\n",
       "      <td>58</td>\n",
       "    </tr>\n",
       "    <tr>\n",
       "      <th>2</th>\n",
       "      <td>58</td>\n",
       "    </tr>\n",
       "    <tr>\n",
       "      <th>7</th>\n",
       "      <td>53</td>\n",
       "    </tr>\n",
       "    <tr>\n",
       "      <th>6</th>\n",
       "      <td>46</td>\n",
       "    </tr>\n",
       "  </tbody>\n",
       "</table>\n",
       "</div>"
      ],
      "text/plain": [
       "   cluster\n",
       "9      271\n",
       "0      237\n",
       "5       95\n",
       "1       64\n",
       "4       60\n",
       "8       58\n",
       "3       58\n",
       "2       58\n",
       "7       53\n",
       "6       46"
      ]
     },
     "execution_count": 101,
     "metadata": {},
     "output_type": "execute_result"
    }
   ],
   "source": [
    "print('Number of reviews included in each cluster:')\n",
    "frame['cluster'].value_counts().to_frame()"
   ]
  },
  {
   "cell_type": "code",
   "execution_count": 119,
   "metadata": {},
   "outputs": [
    {
     "name": "stdout",
     "output_type": "stream",
     "text": [
      "<Document clustering result by K-means>\n",
      "Cluster 0words:excellent, perfect, expected, product, awesome, 's, \n",
      "Cluster 0 reviews (237 reviews): \n",
      "Ritche 22mm Black Stainless Steel Bracelet Watch Band Strap Pebble Time/Pebble Classic, Bulova Men's 98B143 Precisionist Charcoal Grey Dial Bracelet Watch, Anne Klein Women's 109271MPTT Swarovski Crystal Accented Two-Tone Multi-Chain Bracelet Watch, Timex Women's Q7B860 Padded Calfskin 8mm Black Replacement Watchband, Movado Men's 0606545 \"Museum\" Perforated Black-Rubber Strap Sport Watch, Invicta Men's 6674 Corduba Chronograph Black Dial Polyurethane Watch, Casio F-108WH-2AEF Mens Blue Digital Watch, Motorola Moto 360 Modern Timepiece Smart Watch - Black Leather 00418NARTL, Invicta Men's 15256 I-Force Gunmetal Ion-Plated Stainless Steel Watch with Black Leather Strap, TS6202BLK 8 Belt Box Organizer Black Leather XL Compartments, U.S. Polo Assn. Sport Men's US9506 Analog-Digital Display Silver-Tone Watch with Textured Band, Motorola Moto 360 Modern Timepiece Smart Watch - Black Leather 00418NARTL, XOXO Women's XO5478 Rhinestone-Accented Two-Tone Watch, iStrap Calfskin Leather Watch Band Replacement Choice of Color & Width (18mm,19mm, 20mm,21mm or 22mm), Casio Men's AW80V-1BV, Citizen Men's AT8020-54L Blue Angels Stainless Steel Eco-Drive Dress Watch, Cool Men's Racer Military Pilot Army Silicone Sports Watch, Akribos XXIV Men's AK787YGBU Quartz Movement Watch with Blue Dial and Yellow Gold Stainless Steel Bracelet, Armitron Sport Women's 25/6422BLK Easy to Read Dial Black Resin Strap Watch, Stuhrling Original Men's 219.331657 Symphony Eternity Monterey Swiss Quartz Date Watch, red line Men's RL-50042-YG-01 Stealth Chronograph Black Textured Dial Black Silicone Watch, Tommy Hilfiger  Women's 1781145 Sport Stainless Steel  Watch, Timex Expedition Rugged Metal Watch, Tommy Hilfiger  Women's 1781145 Sport Stainless Steel  Watch, Tissot Men's T0954173603700 Rose Gold-Tone Chronograph Watch with Brown Leather Band, Armitron Sport Men's 49mm Digital Chronograph Black Strap Watch, Geneva Cat Face With Ears Watch - Mint!, Invicta Watch Sizing Tool, Casio F108WH Water Resistant Digital Red Resin Strap Watch, Swatch Golden Dial Golden Sparkle Silicone Ladies Watch SUOK704, G-Rescue Solar Atomic Classic Color Watch, Michael Kors Women's Runway Black Watch MK5191, G-Shock Men's GA-100 Camouflage Watch, Grey, One Size, HACBIWA Classic Men Big Dial Brown Wrist Watch on Sale Gift, Seiko QXA520KLH Wall Clock, Voguestrap TX39318LBK Allstrap 18mm Black Long-Length Genuine Calf Watchband, Seiko Men's SNN233 Stainless Steel Watch, U.S. Polo Assn. Sport Men's US8170 Black and Gunmetal-Tone Bracelet Watch, Fashion Movie Black&red Deadpool Mask Quartz Pocket Watch Necklace Chain Pendant Mens Womens Gifts P193, Vilam Girl Kids' Translucent Cartoon Waterproof Quartz 3D Dial Watch Time Teacher Color Pink, ShoppeWatch Elegant Plane Style Digital Display LED Silicone Wrist Watch Black, Timex Women's Easy Reader Date Expansion Band Watch, Braun Travel Alarm Clock - BNC-5, Ritche 22mm Black Stainless Steel Bracelet Watch Band Strap Pebble Time/Pebble Classic, Despicable Me 2 LCD Watch, Relic Payton - Gunmetal Bracelet Watch, Game Time Men's NFL-VET-OAK \"Veteran\" Watch - Oakland Raiders, Michael Kors Lexington Gold-Tone Stainless Steel Watch MK8281, Bulova Women's 98N101 Stainless Steel Watch, G-Shock GLX6900-1 Classic Series Quality Watch - Black, Swatch Glistar Silver Pearl Dial Transaprent Double Wrap) Strap Ladies Watch LK343, Timex Mens Expedition Trail Chronograph Resin Combo Watch, PromiseU Woman's Charming Vintage Weave Wrap Leather Chain Bracelet Watch, Bulova Women's 96R122 Diamond Accented Automatic Watch, Seiko Men's SNDC33 Classic Black Leather Black Chronograph Dial Watch, G-Shock Unisex Atomic Solar GWA1100 Orange Watch, Invicta Men's Reserve Super Lum Diver 5050E Chrono 1022, Seiko Solar Chronograph Black Dial Stainless Steel Mens Watch SSC215 by Seiko Watches, (5) CR1130 Lithium Coin Cell Batteries, Seiko 5 Men's SNK793 Automatic Stainless Steel Watch with Blue Dial, Watch Band Silicone Rubber Heavy Orange Strap Waterproof Stainless Buckle 22 millimeters, Casio Men's W756-1AVCR Sport Watch, Tissot Men's T063.617.11.067.00 Charcoal Stainless Steel Bracelet Watch with Black Dial, XOXO Women's XO5571 Silver-Tone Watch with Mesh Strap, Men's Gold-Tone Casio World Time Stainless Steel Watch A500WGA-1, Invicta Men's 17887 Pro Diver Blue-Accented and 18k Gold Ion-Plated Stainless Steel Watch, Kenneth Cole New York Men's KC1995 Classic Grey Dial Rose Gold Details Analog Watch, New Geneva Lime w/ White Silicone Watch, Stuhrling Original Men's Aquadiver Dive Quartz Analog Waterproof Sports Blue Dial Wrist Watch Bracelet with Stainless Steel, Gucci Stainless Steel WYNC Watch(Model:YA137104), Invicta 15044 Mens Pro Diver Scuba Special Edition 1.0 Bracelet Watch [Watch], Casio Men's W735H-8AVCF Super Illuminator Black Watch, U.S. Polo Assn. Women's USC40061 Two-Tone Watch, Forté 24 Hour Quartz Black Dial Unisex Watch 1039M24-KKC -- with Real 24-hour Movement, CASIO F91W-1 Casual Sport Watch, Casio #10096986 Genuine Factory Replacement G Shock Band GW300, GW301, GW330A, Casio Kids W-214HC-1AVCF Classic Digital Display Quartz Black Watch, PASNEW HighQuality PASNEW Water-proof Children Girls Sport Watch N1 (Purple), Panasonic CTL1616 Solar Rechargeable CTL 1616 Battery Replacement Watch Cells Casio, LEGO DC Comics Super Heroes Batman Kids Minifigure Link Buildable Watch | black/yellow | plastic | 28mm case diameter| analog quartz | boy girl | official, New Geneva Silver Metal Loop Style Band Oval Face Women's Bangle Cuff Watch, TOPSTARONLINE Fashion Colorful Unisex 8 Digit Alarm Calculator Watch Sky-blue, Anne Klein Women's AK/1046CHCV Swarovski Crystal Accented Watch, 20mm Long Black Rubber Watch Band -- Comfortable and Durable PVC Material, Tommy Hilfiger  Men's 1790806 Sport Grey Silicon and Stainless Steel Watch, Casio MQ-24-1BLCK Mq24-1b 3-hand Analog Water Resistant Watch, Casio Men's AQ160WD-1BV Stainless Steel Ana-Digi Electro-Luminescent Sport Watch, Skagen Women's SKW2136 Gitte Quartz Two-Hand Stainless Steel White Watch, G-Shock MTGM900DA-8CR Men's Tough Solar Atomic Stainless Steel Sport Watch, Casio Men's GA-400-1AJF G-Shock Hyper Colors Series Wrist Watch [Japan Import], Timex Men's Expedition Field Chronograph Watch, Debeer Replacement Watch Strap - Teju Lizard Grain - Black - Fits 38mm Apple Watch [Silver Adapters], Casio Women's BG169R-7B Baby-G Clear Whale Digital Sport Watch, U.S. Polo Assn. Women's USC40065 Gold-Tone and White Bracelet Watch, StrapsCo NATO Strap Ballistic Nylon Watch Band w/ 5 Rings in Matt Black, Ballistic NATO Two Piece Nylon Canvas 20mm Military Black Replacement Watch Band, Casio Men's Sport Analog Dive Watch, 40Nine Men's 40NINE01/BLACK/Y Extra Large 50mm Analog Display Japanese Quartz Black Watch, 2015 Hot Sell Lady Belt Watch for Summer+birthday, Tommy Hilfiger Men's 1710281 Classic Black Croco Embossed Strap Watch, Lorus Ladies Watch Black Dial Silver Tone, Burgi Women's BUR112YGW Crystal Accented Yellow Gold Quartz Watch with Silver Dial and Silver Bracelet, Invicta Men's 0765 II Collection Silver Dial Brown Leather Watch, Swiss Legend Men's 20028-02S-BBL Planetimer Silver Textured Dial Watch, Replacement Black Polyurethane Link Bracelet Band 22mm for Luminox 3000 and 3900 Series Watches, Outop Fashion Women Analog Quartz Business Wrist Watch, DREAMUS®HOT!!! U8 Bluetooth Smart Wristband Watch Phone for Android Samsung S2/S3/S4/S5/Note 2/Note 3 HTC...(IOS System and Blackberry System Can Use Partial Function), Tissot T-Classic Luxury Automatic Ladies Watch T0862071626100, Casio Baby-g Big Size Dual Illuminator Limited Edition Watch Bgd140-1bdr, HACBIWA Classic Golden Bracelet Men Stainless Steal Wrist Watches Big Dial Watches, Neff Men's NF0204-pink Old School Digital Design Soft PU Strap Watch, Casio Baby-G BA-110-8A Silver Watch, Caravelle by Bulova Women's 45M03 Expansion Bracelet White Dial Watch, LCD Digital Watches, Boyes Watches, Colorful Light Sports Watches, Water-proof Military Stealth Fighter Style Wrist Watches White, YouYouPifa Red+Yellow+Green+Blue LED Light Stainless Steel Fashion Wrist Watch, Stuhrling Original Mens 22mm honey leather watch Strap with yellow tone buckle st.165B2.3335K31, Tommy Hilfiger Women's 1781122 Sport Stainless Steel White silicone Watch, Kenneth Cole New York Men's KC9286 \"Rock Out\" Stainless Steel Diamond-Accented Watch, U.S. Polo Assn. Classic Men's US4023 Watch with Black Leather Band, Armitron Sport Women's 45/7053 Digital Resin Strap Watch, Heiden Battery Powered Single Watch Winder, 19mm Brown/Black Pebbled Water Resistant Genuine Leather Fits Timex Expedition, Timex Women's T5J151 1440 Sports Digital Black/Pink Resin Strap Watch, Casio Men's Watches BGA-153M-4BER, Invicta Men's 9938 Pro Diver Collection Automatic Diver Watch, Stuhrling Original Men's 699.01 Aviator Quartz Day and Date Watch With Black Leather Strap, Nine West Women's NW/1652BKBK Gold-Tone Case Easy To Read Dial Black Strap Watch, U.S. Polo Assn. Sport Men's US9282 Silver-Tone Watch with White Silicone Band, Invicta Men's Subaqua 15616, DaLuca Ballistic Nylon NATO Watch Strap - Black (PVD Buckle) : 22mm, Bling Jewelry Plated Classic Round CZ Ladies Watch, Casio Women's BGA140-7BCR Baby-G Shock Resistant Analog Digital Watch, Skagen Men's Titanium Mesh Watch with Blue Accents, Geneva Platinum 9203 Women's Decorative Chronograph and Bezel Link Watch-SILVER, Women's Geneva Chevron Style Leather Watch - Blue, M&c Women's | Classy Crystal Embedded Bangle Look Watch with Self-Adjustable Bracelet | FC0365, Game Time Men's NFL Beast Watch, Armitron Sport Men's 40/8177 Digital Chronograph Perforated Resin Strap Watch, Nixon Men's A105 Sentry 42mm Stainless Steel Leather Quartz Movement Watch, Pangaea Quad Automatic Watch Winder Q480 (Dark Walnut), Geneva Watch Peacock Feather Decor Watches Leather Quartz Watch for Women Lady Dress, Mudder Watch Band Strap Link Pin Remover Repair Tool Kit for Watchmakers with 3 Extra Pins, Festina Women's F16580/3 Brown Leather Quartz Watch with Brown Dial, INFANTRY 22mm 5 Rings Military Watch Band Strong Fabric Nylon Strap 100M water resistant - black, Casio Men's G7900-1 G-Shock Rescue Digital Sport Black Resin Watch, Swatch Men's Irony YOS449 Silver Leather Swiss Quartz Watch, Bessky® Women's Chronograph Silicone with Crystal Rhinestones Watch, Juicy Couture Women's 1901169 J Couture Gold-Tone Watch, ToyWatch Jelly Watch JY03OR Orange Silicone Strap Plasteramic Case Date Display Interchangeable Strap, Stuhrling Original Aquadiver Mens Dive Watch - Quartz Analog Waterproof Sports Watch - Blue Dial Date Display Swim Wrist Watch for Men - Luminous Waterproof Watch with Stainless Steel Bracelet 664.02, U.S. Polo Assn. Sport Men's US9061 Watch with Black Rubber Strap Watch, Seiko Solar Alarm Chronograph Watch, Casio Men's WVA-M640D-1ACR Wave Ceptor Analog-Digital Stainless Steel Bracelet Watch, Invicta Women's 8945 Pro Diver Collection Gold-Tone Watch, Casio Men's A158WEA-9CF Casual Classic Digital Bracelet Watch, Timex Women's T5J151 1440 Sports Digital Black/Pink Resin Strap Watch, SE JT6216 21-Piece Watch Repair Kit, DC Comics Batman Kids' BAT4177 Digital Display Quartz Multi-Color Watch, Bling Jewelry Plated Classic Round CZ Ladies Watch, LEGO Star Wars Stormtrooper Figurine Alarm Clock (9002137), Casio Genuine Replacement Strap for G Shock Watch Model - GW-530 GW-500, Disney Unisex W001989 Mickey Mouse Analog Display Analog Quartz Black Watch, Silver Geneva Crystal Rhinestone Chronograph Watch with Metal Link Band, Timex Unisex T2P235 Weekender Maroon Nylon Slip-Thru Strap Watch, Nautica Men's N18720G NST 402 Gray Leather Chronograph Watch, Casio Men's AWGM100B-1ACR \"G-Shock\" Solar Watch, Vogue V6 3D Surface Thick Case Strips Hour Marks Black Hours Analog Military Man Men Business Watch, Casio Men's DW290-1V \"Classic\" Sport Watch, Women Geneva Rhinestone Leather Band Quartz Wrist Watch, Fossil Jacqueline, Watch Band Rubber Waterproof Strap Adjustable Stainless Steel Black 20 millimeter, Readeel® Stylish Red LED Light Silicone Jelly Sports Watch Black Band Men Wrist Watch, Casio Men's EFA131D-1A2V Silver Stainless-Steel Quartz Watch with Black Dial, Seiko Men's SSC009 Solar Chronograph Black Dial Flight Watch, Citizen Eco-Drive Men's Silvertone and Black World Time A-T Watch, Daniel David Women's | Two Tone Silver & Gold Self-Adjustable Links Watch | HA0328, Casio Men's AQS800WD-1EV Slim Solar Multi-Function Analog-Digital Watch, Casio Men's EF106SG-2AV Edifice Two-Tone Stainless Steel Watch, Accessorize Ladies Butterfly Charm Gold Tone Bracelet Strap Dress Watch AZ4000, Stuhrling Original Men's Aquadiver Dive Quartz Analog Waterproof Sports Blue Dial Wrist Watch Bracelet with Stainless Steel, Topwell® 5 Watches Cases Soft Cushions Clearance Window Wood Watch Display Case and Storage Organizer Box, Vernier Women's VNR11096 Interchangeable Silicone Quartz Watch, Base Camp Chrono with Strap Watch, LEGO Watches Star Wars Luke Skywalker Kids Buildable Watch with Link Bracelet, Fjord Women's Alida FJ-6017-55 White Ceramic Quartz Watch, Invicta Men's 11169 Reserve Analog Display Swiss Quartz Black Watch, Fanmis S-Shock Multi Function Digital LED Quartz Watch Water Resistant Electronic Sport Watches Black, LEGO Star Wars Darth Vader Kids Minifigure Light Up Alarm Clock | black/gray | plastic | 9.5 inches tall | LCD display | boy girl | official, Invicta Men's 14655SYB \"Pro Diver\" Stainless Steel Watch, Voguestrap TX48312BK Allstrap 12mm Black Regular-Length Padded Genuine Calf Watchband, Timex Men's T49799 Expedition Dive Style Stainless Steel Blue Dial Watch, Mini Clock Quartz Movement Insert Round White Dial Gold Tone Bezel Roman Number, Daniel Wellington Men's 0204DW Glasgow Stainless Steel Watch With Striped Nylon Band, Bling Jewelry Plated Classic Round CZ Ladies Watch, GGI International MLEDLAVABB 25 MM  Stainless Steel Black Watch Bracelet., YouYouPifa Classy 4 Dial Stainless Steel Quartz Watch (Black), Lucien Piccard Men's LP-12356-YG-02S Mulhacen Chronograph White Textured Dial Brown Leather Watch, Hadley Roma MB7288BL 16-22mm Black PVD Metal Expansion Watch Band, U.S. Polo Assn. Sport Men's US9057 Black Metal Watch with Orange Rubber Band, Nautica Men's Watch A09921G, Lowpricenice Magic Hidden Touch Screen Red LED Digital Watch Men Women Sport Cuff Wrist Watch Black, Vintage Hollow Roman Flower Alloy Black Men Women Pocket Watch DDStore, VINTAGE SILVER C RING HOOK END GENUINE DIAMOND STAINLESS STEEL EXPANSION BAND, Debeer Replacement Watch Band - 2-Piece Nylon - Khaki - Fits 42mm Series 1 & 2 Apple Watch [Silver Adapters], Tech Swiss LEA333-20SS 20mm Leather Calfskin Blue Watch Strap, Casio Men's MQ24-1E Black Resin Watch, Timex Unisex TW2P62400 Weekender Chrono Oversize Blue/Cream/Brown Striped Slip-Thru Nylon Strap Watch, SODIAL(R) Alloy Case Bracelet Black Dial Modern Silver Fashion Women Quartz Watches, Coromose® Luxury 22mm Stainless Steel Watch Band For LG G Smart Watch+Tool(black), Michael Kors Collection Men's MK8386 - Accelerator Other Platings, Retro World Map Womens Quartz Wrist Watch Brown, Casio Men's PRG550-1A1CR Pro Trek Triple Sensor Tough Solar Analog-Digital Watch, Invicta Men's 0074 pro Diver Analog Japanese Quartz 18k Gold-plated Stainless Steel Watch, Frederique Constant Slimline Men's FC-245M4S5 Designer Stainless Steel Plated Yellow Gold Watch With Brown Leather Band, Seiko Men's SNDC31 Classic Stainless Steel Chronograph Watch with Brown Leather Band, Salvatore Ferragamo Men's F55LCQ75909 S113 F-80 Rose Gold-Plated Watch, Caddy Bay Collection Carbon Fiber Pattern Watch Case Box Holds 5 Watches with Red Stripe/Stitching NEW AND IMPROVED, [LAD WEATHER] German Sensor Digital Compass Altimeter / Barometer/ Weather Forecast/ Multi function/ Outdoor Climbing/running/walking Sport Watch, Seiko Bedside Alarm Clock Silver-Tone Metallic Case, Invicta Men's 5699 II Collection Two-Tone Chronograph Watch, Swiss Legend Men's 21344-22 Luminous Stainless Steel Watch with Link Bracelet, Seiko Men's SPL035 Criteria Stainless Steel Chronograph Grey Dial Watch, Thomas Earnshaw Men's ES-8009-01 Robinson Analog Display Automatic Self Wind Black Watch, Bulova Men's 96C113 Stainless Steel Watch with Black Leather Strap, Invicta Men's 15942 \"Specialty\" 18k Gold Ion-Plated Stainless Steel Bracelet Watch, MEKU Men's Wooden Watches Natural Sandalwood Day Date Calendar Watches Gifts, Night Vision INFANTRY Mens Military Army Sport Luxury Chronograph Quartz Wrist Watch Rubber / Leather Straps #FS-001-S-D-SET, Casio Men's W96H-1AV Sport Watch with Black Band, Irish Sixpence Coin Watch Pair of Cufflinks (2 Watches), Gevril Columbus Circle Mens Swiss Automatic Black Leather Strap Watch, (Model: 2004), August Steiner Women's AS8137TTR Rose Gold And Silver Swiss Quartz Watch with Silver Mother of Pearl Dial and Crystal Accented Rose Gold & Silver Bracelet, Casio Men's PRW-3000-2CR \"Protrek\" Sport Watch with Black Resin Band, Casio Men's MCW-100H-1AVCF Heavy Duty Design Watch with Black Silicone Band Watch, Kenneth Cole Reaction Unisex RK1325 Street Triple Black Bright Blue Dial Watch, Shensee Simple Vogue Men Casual Waterproof Date Leather Military Watch Gift Black Gold, Casio Men's AW80D-7A Sports Chronograph Alarm 10-Year Battery Databank Watch, Fossil Riley\n",
      "\n",
      "Cluster 1words:good, product, quality, 's, price, big, \n",
      "Cluster 1 reviews (64 reviews): \n",
      "Luminox Men's 3081 Evo Navy SEAL Chronograph Watch, Voguestrap TX046801XL Allstrap 16-20mm Brown Extra-Long-Length Fits Fast-Wrap Expedition Watchband, XOXO Women's XO110 Silver Dial Gold-tone Bracelet Watch, AMPM24 Men's Hand-winding Mechanical Watch Black Leather Watchband Skeleton PMW069, Gotham Men's Silver-Tone Ultra Thin Railroad Open Face Quartz Pocket Watch # GWC15022S, Casio Unisex MRW200H-2BV Neo-Display Black Watch with Resin Band, Casio Men's STB-1000-1CF OmniSync Sports Gear Bluetooth Fitness Smartwatch, Casio Men's PRG-270B-1CR PRO TREK Aviator Black Watch, Casio Men's Dive Style Watch, DASSARI Carrera Distressed Leather GT Rally Racing Watch Strap, CYMA 18mm Black Alligator Grain Genuine Leather Watchband with Gold-Plated S/S Buckle, Lucien Piccard Men's LP-13346-02 Peak Analog Display Japanese Quartz Black Watch, Casio Men's GA201-1 G-Shock Shock Resistant Sport Watch With Black Resin Band, Casio Men's PRW-3500Y-4CR Atomic Black Digital with Red Resin Band, Watch, Unisex Fashion Sport Watch Multifunction Multi-colour Led LAnalog Digital Waterproof Alarm Wristwatch, Roots Men's 1R-AT104WH1W Seymour Digital Light Grey Watch, Invicta Women's 6908 II Collection Stainless Steel Watch, LUNIWEI New Dreamcatcher Friendship Bracelet Watches Women Braid Dress ..., Tissot Men's T0854072201100 T Classic Powermatic Automatic Two-Tone Watch, Anleowatch 1PCS Black Watch Men Women Unisex Military Sports Watches Waterproof Quartz Wristwatches, Nautica Men's N16553G Stainless Steel Watch with Black Band, Casio Baby-G Neon Dial Series Women's Watch BGA-131-7B3JF (Japan Import), Tommy Hilfiger Women's 1781473 Analog Display Quartz Brown Watch, U.S. Polo Assn. Classic Men's USC2254 Set of Two Two-Tone Watches, Casio watch strap watchband Resin Band dark Blue for PRG-550-2 PRG-550 PRG-260, U.S. Polo Assn. Women's USC40063 Gold-Tone and Pink Bracelet Watch, Technomarine Cruise Original Chronograph Steel Unisex Watch Rubber Strap Silver Dial 110046, Invicta Men's 6977 Pro Diver Collection Chronograph Black Dial Black Polyurethane Watch, Casio Unisex MTP-S100L-7B2VCF Solar Easy-To-Read Watch with Brown Band, Timex Women's Q7B852 Padded Calfskin 12mm Brown Replacement Watchband, Tommy Hilfiger Women's 1781210 Sport Tank Gold Plated Tan Watch, Seiko Men's SNK601 Seiko 5 Automatic Silver Dial Stainless Steel Bracelet Watch, Curren White Case Stainless Steel Band Men Analog Wrist Watch (White), Timex Men's Q7B765 Genuine Padded Oiled Leather 18mm Brown Replacement Watchband, G-SHOCK Men's GA-100 Limited Edition Watch, Daniel Wellington Women's 0501DW Oxford Analog Display Quartz Multi-Color Watch, G-Shock GA-1000-1A Aviation Series Men's Luxury Watch - Black / One Size, HACBIWA Classic Men Big Dial Brown Wrist Watch on Sale Gift, Nautica Men's N20503G NST Stainless Steel Watch, XOXO Women's XO9043 Seven Color Silicone Rubber Interchangeable Strap Set Watch, SE JT6216 21-Piece Watch Repair Kit, Invicta Men's 8928OB Pro Diver Gold Stainless Steel Two-Tone Automatic Watch, Swiss Legend Men's 30427-YG-02 Airbourne Analog Display Swiss Quartz White Watch, Casio Women's BA-110-7A1CR Baby-G Rose Gold Analog-Digital Watch with White Resin Band, Elegant Rose Golden Oval Quartz Watch OL Lady Cuff Bangle Bracelet, G-Shock GA-110 Garish Trending Series Men's Luxury Watch - White / One Size, Readeel Harajuku Retro Trend of Men Watch Quartz Watch Brown Leather Band Yellow Digital Date Watch Men Watch, Bilingual Week Shows,adjustable, Diplomat Double Metallic Silver / Black Watch Winder with Built In IC Timer, Daniel Wellington Women's 0508DW Sheffield Analog Quartz Black Leather Watch, Luxury Sport Watches For Men Skeleton Wrist Watches Automatic Winding Mechanical Movement, Fossil Fs4487p Machine Chronograph Black Silicone Watch Watch For Men, LEMFO Bluetooth Smart Watch WristWatch U8 U Watch for Android Samsung S2 S3 S4 S5 Note 2 3 iphone 4 4S 5 5C 5S (Black), Skagen Men's 915XLSSS Steel Matte Textured Mesh Accents Watch, Seiko Women's SUP237 \"Tressia\" Diamond-Accented Stainless Steel Solar Watch, Tommy Hilfiger Men's 1791121 Sophisticated Sport Gold-Tone Stainless Steel Watch, Timex Ironman Sleek 50 Lap, Vince Camuto Men's VC/1005BLTR \"The Spectator\" Stainless Steel and Rose-Tone Blue Dial Watch, Casio Men's MTP1316D-9AV Silver Stainless-Steel Quartz Watch with Grey Dial, Daniel Wellington Men's 0105DW Analog Quartz Classic Warwick Stainless Steel Watch with Striped Nylon Band, SE Watch Battery Replacement Kit, Skagen Men's SK696XLTBB Titanium Black Dial Watch, U.S. Polo Assn. Classic Men's USC50192 Analog Display Analog Quartz White Watch, Caravelle by Bulova Women's 43L131 Antique Black Watch, Caravelle by Bulova Women's 43L125 Easy Read Classic Tank Watch\n",
      "\n",
      "Cluster 2words:like, watch, looks, 's, n't, face, \n",
      "Cluster 2 reviews (58 reviews): \n",
      "Nautica Men's N14699G BFD 101 Chrono Classic Stainless Steel Watch with Brown Band, Tissot Women's T0492103303300 PR 100 Gold-Tone Silver Dial Watch, Outop Wholesale Lot of 5pcs Womens Girls Butterfly Bracelet Wrist Watches, Armitron Men's Black Sunray Dial Silvertone Bracelet Watch, Swiss Legend Men's 10068-03 Commander II Analog Display Swiss Quartz Blue Watch, Timex Unisex Weekender Analog Quartz Watch, Caddy Bay Collection Black Carbon Fiber Glass Top Watch Case Holds 10 Large Watches, Casio Men's STB-1000-1CF OmniSync Sports Gear Bluetooth Fitness Smartwatch, Seiko Men's SGG709 Titanium Watch, Game Time Women's NFL Frost Series Watch, Lucien Piccard Men's 12011-RG-09 Monte Viso Chronograph Rose-Gold Tone Textured Dial Leather Band Watch, PromiseU Leather Bracelet Woman Rhinestone Rivet Chain Quartz Wrist Watch, Nautica Men's N12643G NSR 103 Classic Analog Watch, AVI-8 Men's AV-4033-03 Supermarine Seafire Analog Display Japanese Quartz Black Watch, FASH Limited 42 pcs Premium Watch Set with Interchangeable Bands & False Nails, Readeel Military Sports Watches Men's Quartz Digital Dual-display Multi-function Stainless Steel Mens Watches White, Timex 1440 Digital Sports Watch - Women's, KS Automatic Mechanical Date Day Big Case Sport Wrist Watch Gift KS083, Nine West Goldtone Bangle Watch, Nollimet 7PCS Geneva Alloy Silicon Quartz Simple Elegant Fashion Watches Assorted Color Wristwatch, Timex Men's South Street Sport Watch, Fossil Sport Cuff, Invicta Men's 11290 Pro Diver Chronograph Black Carbon Fiber Dial Black Stainless Steel Watch, Columbia Men's CT004 Singletrak Digital Display Quartz Watch, Timex Girls Time Machines Analog Elastic Fabric Strap Watch, Fossil Women's ES3622 Jesse Crystal-Accented Two-Tone Stainless Steel Watch, Timex Expedition Rugged Metal Watch, Casio Women's LQ139A-1E Classic Round Analog Watch, Invicta Women's Mako Pro Diver Quartz 8942, Casio Men's Dive Style Watch, Betsey Johnson Women's BJ00501-28 Analog Display Quartz Rose Gold Watch, ANDROID Women's AD439BPU Paris Swiss Quartz Watch, Timex Women's Easy Reader Date Expansion Band Watch, Casio G-shock Watch Military Color Series GA-100MC-2AJF Men, Casio Men's SGW100-1V Twin Sensor Digital Black Watch, Momentum Women's 1M-DV11WU1U M1 Twist Dive Watch, Invicta Men's 17046 Pro Diver Analog Display Japanese Quartz Silver Watch, Casio Men's AW80V-5BV, 2014 New Vintage Women Roma Digit Quartz Watch - Black, Timex Women's T2P0959J Analog Display Beige Watch, Bling Jewelry Plated Classic Round CZ Ladies Watch, Swiss Army Black Leather Peak II Watch Strap, Swatch Women's LR127 Originals Analog Display Swiss Quartz Red Watch, Tissot Men's T0636371603700 Stainless Steel Watch With Brown Band, Nixon Men's A278-1089-00 48-20 Chrono P Analog Display Japanese Quartz Watch, Stuhrling Original Men's 879.03 Leisure Sniper Transparent Swiss Quartz Black Rubber Strap Gunmetal Watch, Casio G-Shock GA-400-4A Multi-Dimensional Analog Digital Watch, G-Shock DW6900-1V Men's Black Resin Sport Watch, Timex Men's T2P390 \"Elevated Classics\" Stainless Steel Watch, Soleasy Women's Bracelet Style Analog Quartz Metal Watch WTH8022, Lucien Piccard Men's LP-12356-RG-11 Mulhacen Analog Display Japanese Quartz Rose Gold Watch, Akribos XXIV Women's AK759SSTQ Swiss Quartz Movement Watch with Blue Sunburst Effect Dial and Silver Twist Chain Bracelet, Akribos XXIV Men's AK622SS Grandiose Stainless Steel Bracelet Watch, Nine West Pink Textured Bracelet Watch, Seiko Men's SSC081 Adventure-Solar Classic Casual Watch, Carrie Hughes Ladies Fashion Small Flower Steampunk Alloy Stainless steel Necklaces Pendants Pocket Watch, red line Men's RL-50046-22RD-GYST Torque Sport Silver Dial Grey Silicone Automatic Watch, Casio 16/25mm Black Resin\n",
      "\n",
      "Cluster 3words:nice, watch, price, really, good, looks, \n",
      "Cluster 3 reviews (58 reviews): \n",
      "Guess U13630G1 Men's day and date Gunmetal dial Gunmetal tone bracelet, Casio G-shock Mudman Multiband6 Japanese Model [ Gw-9300-1jf ], Stuhrling Original Men's 395.33U16 Aquadiver Regatta Analog Swiss Quartz Stainless Steel Link Bracelet Watch, Invicta Men's Bolt 12298, Invicta Men's 3332 Force Collection Stainless Steel Left-Handed Watch with Black Leather Band, Timex Ironman Rugged 30 Full-Size Watch, Nautica Men's A16577G BFD 105 Chrono Analog Display Analog Quartz Black Watch, Invicta Women's 16267 ANGEL Analog Display Japanese Quartz Grey Watch, U.S. Polo Assn. Classic Men's US4023 Watch with Black Leather Band, Men's Gold-Tone Casio World Time Stainless Steel Watch A500WGA-1, Daniel Wellington Women's 0506DW Classic Southhampton Stainless Steel Watch With Multi-Color Striped Band, Domire Fashion Accessories Trial Order New Quartz Fashion Weave Wrap Around Leather Bracelet Lady Woman Leaf Wrist Watch, G-Shock GA-100B LTD Edition White GA-100B-7 Watch, Caddy Bay Collection Vintage Dark Walnut Wood Watch Case Display Storage Watch Box Glass Top Holds 20+ Watches With Adjustable Soft Pillows and High Clearance for Larger Watches, Readeel Sports Men Watch Stainless Steel Quartz Men Watch LED Dual Display Watch, Red, Stuhrling Original Men's 824.01 Regatta Analog Japanese Quartz Stainless Steel Watch, ShoppeWatch Pocket Watch Quartz Movement Black Case White Dial Arabic Numeral with Chain Full Hunter PW23, Michael Kors Women's Audrina Blue Watch MK6236, G-Shock Ga-110 Watch - Men's ( White/Multi ), GUESS Men's U0496G4 Vintage Iconic Rose Gold-Tone and Navy Dial Watch, Timex Women's T2P050KW Ameritus Sport Black Dial Multi-Colored Numbers, Black Croco Patterned Leather Strap Watch, Timex Men's Q7B810 Expedition Sport Genuine Leather 18mm Brown and Green Replacement Watchband, Fossil Am4532p Cecile Multifunction Sand Leather Watch Watch For Women, Nine West Women's NW/1584TQGB Turquoise Sunray Dial Gold-Tone Bracelet Watch, WEIDE Men's Digital Electronic Waterproof LED Sport Watch Casual Quartz Military Multifunction 12H/24H Time Back Light with Simple Design Alarm Stopwatch Calendar Month Date Day Week - Black, Nine West Women's NW/1585PKSB Hot Pink Dial Silver-Tone Bracelet Watch, Stuhrling Original Men's 699.02 Aviator Quartz Day and Date Grey Dial Brown Leather Band Watch, Invicta Men's 6792 Pro Diver Collection Chronograph 18k Gold-Plated and Stainless Steel Watch, Timex Men's Easy Reader Day-Date Expansion Band Watch, Casio #MTP1374L-1AV Men's Standard Leather Band Multi-Function Black Dial Watch, Kezzi Womens Watch K842 Quartz Dress Wrist Watches Ceramic Bracelet Casual Classic Waterproof Blue, MULCO Men's MW2-6263-025 Analog Display Japanese Quartz Black Watch, Casio Men's AMW320D-9EV Ana-Digi Alarm Chronograph Dive Watch, Bling Jewelry Geneva Rose Gold Plated Classic Round CZ Ladies Watch, SO&CO New York Men's 5027.3 Monticello Stainless Steel TAchymeter Day and Date Watch with Nylon-Covered Leather Band, 18mm NATO MOD G10 Olive Drab Green Nylon Military Watch Band Strap, Treehut Mens Wooden Bamboo Watch with Genuine Brown Leather Strap Quartz Analog with Quality Miyota Movement, 1.7 inches, XOXO Women's XO5218 Black Dial Two-Tone Half Cuff and Half Bracelet Watch, Tommy Hilfiger Men's 1790877 Silver-Tone Stainless Steel Watch, Victorinox Unisex Infantry Analog Display Swiss Quartz Watch, Invicta Men's 18819 Subaqua Analog Display Swiss Quartz Silver Watch, Mokingtop®New 20mm Waterproof Silicone Rubber Watch Strap Band Deployment Buckle, Nine West Grey Textured Bracelet Watch, Timex Ironman Classic 30 Full-Size Watch, Womens Timex T42591 Womens Camper Watch PINK INDIGLO NIGHT LIGHT DATE, Kenneth Cole New York Women's KC2861 Automatic Analog Display Japanese Automatic White Watch, Timex Men's T49551 Expedition E-Compass Leather Watch, Nine West White Textured Bracelet Watch, PUMA Men's PU100041003 Motor Sport Collection Top Podium Ana-digit Watch, Disney Kids' FZN3560 Frozen Anna and Elsa Pink Watch with Plastic Band, Invicta Men's 19192 Pro Diver Analog Display Swiss Quartz Gold Watch, Armitron Sport Men's 40/8330BLK Brown Accented Digital Chronograph Black Nylon Strap Watch, Nautica Men's N13616G BFD 102 Stainless Steel and Brown Leather Watch, Authentic German WW-II Kriegsmarine Push-Button Heavy Brass Compass with Leather Pouch, Casio Men's EQS500DB-1A1 Edifice Tough Solar Stainless Steel Multi-Function Watch with Link Bracelet, Casio Women's B640WC-5AEF Retro Digital Watch, Rolex Day-Date II 2 President Yellow Gold Watch 218238, Invicta Men's 9010 Pro Diver Collection Automatic Watch\n",
      "\n",
      "Cluster 4words:br, watch, 's, band, looks, time, \n",
      "Cluster 4 reviews (60 reviews): \n",
      "Orient ER27009B Men's Symphony Automatic Stainless Steel Black Dial Mechanical Watch, Heiden Quad Watch Winder in Black Leather, Invicta Men's 8928OB Pro Diver Gold Stainless Steel Two-Tone Automatic Watch, BOS Men's Automatic self-wind mechanical Pointer Skeleton Watch Black Dial Stainless Steel Band 9008, BUREI Dress Women's Minimalist Wrist Watches with Date Analog Quartz Stainless Steel and Ultra Slim Dial, Invicta Men's 8926OB Pro Diver Stainless Steel Automatic Watch with Link Bracelet, Topwell Mens Wood watches, Date Time 24hours Wooden watch with Round Multi-Eyed QUARTZ Wrist Watch for Gift, Invicta Men's 14640 I-Force Analog Display Japanese Quartz Black Watch, GUESS U17531G1 - Bold and Sporty Watch Silver, Armitron Men's 20/5048 Day/Date Function Dial Croco-Grain Leather Strap Watch, Skagen Men's Ancher Silvertone Watch with Genuine Brown Leather Strap & Blue Dial, Lucien Piccard Men's LP-10339-014-GA-BRW Volos Analog Display Japanese Quartz Brown Watch, Orient Men's FER1X002D0 Chicane Analog Display Japanese Automatic Silver Watch, Timex Unisex Originals Oversize Watch, Casio Women's BG169G-4 Baby G Pink Champagne Watch, Swiss Legend Men's 10013-11-GB World Timer Collection Chronograph Two-Tone Stainless Steel Watch, COCOTINA Brand New Lady Women Quartz Rhinestone Crystal Wrist Watch Rhombus gold surface, Timex Easy Reader Day-Date Leather Strap Watch, Orient Men's CEM65005D 'Blue Mako' Automatic Dive Watch With Black Rubber Band, Casio Men's Dive Style Watch, Casio Kids W-214HC-1AVCF Classic Digital Display Quartz Black Watch, Invicta Men's 16644 BLU Analog Display Japanese Quartz Yellow Watch, Megir Men Matte Leather Luminous Chronograph Automatic Mechanical Wrist Watches, Armitron Sport Men's 40/8252BLK Black Digital Chronograph Watch, Casio A159WGEA-1EF Casio Gold Classic Collection, Tissot Men's T0444302104100 PRS 516 Blue Dial Stainless Steel Watch, Anne Klein Women's AK/2030RGTP Rose Gold-Tone Watch With Grey Leather Band, Timex Men's T2N614 Intelligent Quartz Traveller Series World Time  Black IP Stainless Steel Bracelet Watch, JewelryWe Christmas Gift Vintage Retro Owl Bronze Steampunk Locket Pocket Watch Pendant Long Chain 31.5 Inch, G-Shock G9000MS-1CR Men's Military Black Resin Sport Watch, Invicta Men's Pro Diver Japanese Automatic Watch, Citizen Men's JY0050-55L Blue Angels Skyhawk A-T Titanium Eco-Drive Watch, [Upgrades]CHIYODA Single Watch Winder with Quiet Motor-12 Rotation Modes, Vostok Amphibian Russian Automatic Divers Wrist Watch 100819 200m Auto Black, Invicta Men's 8935 Pro Diver Collection Two-Tone Stainless Steel Watch with Link Bracelet, Invicta Men's 1432 Specialty Black Dial Rubber Watch, Diesel Dz4297 Chronograph Black Textured Leather Strap Watch Watch For Men, Luminox Men's 3051 EVO Navy SEAL Colormark Watch, Casio Kids W-214HC-1AVCF Classic Digital Display Quartz Black Watch, Citizen Eco-Drive Men's Goldtone Axiom Chronograph Watch, Timex Ironman Sleek 50 Classic Mid-Size Watch, Luxury black 22mm Stainless Steel Watch Band strap Solid Links +Tool+spring bars, Timex Men's T26481 Elevated Classics Stainless Steel Two-Tone Watch, Seiko Men's SSC317 Analog Display Analog Quartz Silver Watch, GUESS Women's U0559L1 Sporty Silver-Tone Stainless Steel Watch with Multi-function Dial and Pilot Buckle, U.S. Polo Assn. Sport Men's US9061 Watch with Black Rubber Strap Watch, German Military Titanium Automatic Watch. GPW Date. 200M W/R. Sapphire Crystal. German BUND Leatherstrap, Invicta Men's 14497 Subaqua Chronograph Gold Textured Dial 18k Gold Ion-Plated Stainless Steel Watch, Coromose® Luxury 22mm Stainless Steel Watch Band For LG G Smart Watch+Tool(black), INFANTRY 5 Rings Genuine Leather Black Brown Watch Strap Band Stainless Steel Buckle with 20mm 22mm 24mm, Timex Men's T2M441 Easy Reader Brown Croco Patterned Leather Strap Watch, Daniel Wellington Men's 0106DW St. Mawes Stainless Steel Watch with Brown Band, Watch Band Genuine Leather 18mm Black Double Padded, Seiko Men's Black Dial Automatic Divers Watch, Women's Geneva Silicone Band Jelly Gel Quartz Wrist Watch Pink, Rhino by Marc Ecko Men's E8M055MV Stone on Metal Three-Eye Chronograph Watch, Swiss Legend Men's 10013-11-GB World Timer Collection Chronograph Two-Tone Stainless Steel Watch, Style Trend Kids Watches Cute Flash Lights 50m Waterproof Chronograph Digital Sports Watch - Blue Color, Nautica Men's N14675G NST 700 Stainless Steel Watch with Black Resin Band, NEW BURL WOOD 2+3 AUTOMATIC DUAL / DOUBLE WATCH WINDER + 3 DISPLAY STORAGE BOX BATTERY OR AC/DC POWER\n",
      "\n",
      "Cluster 5words:loved, watch, wife, looks, absolutely, husband, \n",
      "Cluster 5 reviews (95 reviews): \n",
      "Invicta Women's 15150 \"Angel\" 18k Yellow Gold Ion-Plated Stainless Steel and Brown Leather Watch, Kenneth Cole New York Women's KC4944 Automatic Silver Automatic Mesh Bracelet Analog Watch, Casio Men's GW-9400BJ-1JF G-Shock Master of G Rangeman Digital Solar Black Carbon Fiber Insert Watch, Domire Fashion Accessories Trial Order New Quartz Fashion Weave Wrap Around Leather Bracelet Lady Woman Butterfly Wrist Watch, Batman Kids' BAT4072 Black Rubber Batman Logo Strap Watch, Timex Easy Reader Day-Date Leather Strap Watch, Casio F108WH Water Resistant Digital Blue Resin Strap Watch, Swiss Legend Women's 11044D-01 Neptune Black Dial Watch with Silicone Band, LEGO Star Wars Yoda Kids Buildable Watch with Link Bracelet and Minifigure | green/gray | plastic | 28mm case diameter| analog quartz | boy girl | official, Bling Jewelry Plated Classic Round CZ Ladies Watch, Stuhrling Original Men's 574.03 Analog Executive II Stainless Steel Automatic Skeleton Watch with Brown Leather Band, Nemesis #HST-K Unisex Black Wide Leather Cuff Wrist Watch Band, Women Luxury Luminous Stainless Steel Roman Number Calendar Date Quartz Watches Gold, Seiko Men's SKA605 KINETIC \"Amazon Exclusive\" Black Ion-Plated Stainless Steel Watch, Armani Exchange Women's AX4321  Gold  Watch, Casio GD110-2CR 55mm Blue Plastic Band & Case Men's Watch, Casio Men's WS210H-1AV, Michael Kors Watches Runway Twist Watch (Two Tone Gold), Nine West Rose Goldtone and Blush Pink Strap Watch, Timex Womens 80’s Classic Digital Display Chronograph White Case Resin Strap Watch, Timex Unisex Weekender Analog Quartz Watch, Burberry The City Champagne Dial Haymarket Check Strap Unisex Watch BU9026, 22mm NATO G10 Green Nylon Military Watch Band Strap, Ferrari Men's 0830105 Race Day Analog Display Quartz Black Watch, Casio Men's GW-9400-1CR Master of G Stainless Steel Solar Watch, Towallmark(TM)New Women Handmade Braided Zebra Bracelet Dial Quarzt Watch Wrist Watch Blue, Casio #LA670WGA-6 Women's Gold Tone Chronograph Alarm LCD Digital Watch, Casio Men's G-7900-2DR G-Shock Blue Resin Digital Dial Watch, Casio G-Shock GD-100-1B Watch, Timesshine Men's TSM1405 Sports & Outdoor Personalized Quartz Watch with Black Geniune Leather Band, Casio G-Shock Atomic Solar Watch, Whimsical Watches Women's S0610004 Dentist Baby Light Blue Leather Watch, Michael Kors Women's Runway Black Watch MK5191, Timex 1440 Digital Sports Watch - Women's, Hamilton Men's H70555523 \"Khaki Field\" Stainless Steel Watch with Brown Leather Band, Daniel Wellington Men's 0107DW Classic Sheffield Watch with Black Band, Purple Paw Face Silicone Watch w/ CZ Crystal Rhinestones Face Bling, Kenneth Cole New York Men's KC8042 Dress Sport Round Chronograph Brown Strap Analog Watch, Nixon Cannon Watch, Bulova Women's 96R19 Diamond-Studded Chronograph Watch, Invicta Men's 9211 Speedway Collection Stainless Steel Chronograph Watch with Link Bracelet, NSSTAR Retro Vintage Classic Dragonfly Pendant Beads Girls Ladies Women Floral Quartz Fashion Weave Wrap Around Leather Strap Bracelet Wristband Wrist Watch (Brown), Flower Style Women Fashion Watch, White, Casio Ladies Mid-Size Silver Tone Digital Retro Watch LA-680WA-7DF, Casio Women's BG169R-4 Baby-G Pink Whale Digital Sport Watch, KS Men's Wrist Watch Luxury Moon Phase Automatic Mechanical White Dial KS069, August Steiner Women's AS8178YG Yellow Gold Quartz Watch with Gold Dial and Yellow Gold Bracelet, Mens Rectangle Dial Watch 14k Gold Plated 2 Time Zone Simulated Lab Diamonds New, Elini Barokas Women's 10197-BB-02S-WHT Artisan Watch, Gotham Women's Gold-Tone Dual Time Zone Leather Strap Watch # GWC15091GW, Anne Klein Women's AK/1610BKRG Diamond-Accented Rose Gold-Tone and Black Ceramic Bracelet Watch, Nixon Men's A105 Sentry 42mm Stainless Steel Leather Quartz Movement Watch, Disney Kids' FZN3580 Frozen Anna and Elsa Flashing-Dial Watch with Glitter Pink Rubber Band, Geneva Platinum Women's 6886.Lavender Purple Silicone Quartz Watch with Purple Dial, Sinceda Watch Gun Classic Roman Numerals Series Women's Bangle Wrist Watches, Rado Centrix Rose Gold-tone Ladies Watch R30555103, Disney's Frozen Elsa & Anna Singing Watch - Let it GO!, Casio BA112-1A Baby-G Multicolor Dial Black Resin Multi Quartz Woman's Watch, Tonsee Mens Silicone Rubber Watch Strap Band Waterproof with Deployment Clasp 22mm, Citizen Men's Drive from Citizen Eco-Drive AR 2.0 Stainless Steel Watch, Invicta Women's 14731 Angel Analog Japanese-Quartz Two Tone Watch, KANO BAK Womens Ladies Retro Vintage Antique Bangle Bracelet Wrist Watch White Round Dial, GEN Bamboo LeGENd Men's Wooden Bamboo Watch in Black with Genuine Leather Strap (Japanese Quartz), Geneva Black and White Faux Rhinestones Chronograph Silicone Watch, Lacoste Goa Black, Yellow and Blue Silicone Unisex Watch 2020031, Swiss Army Men's Victorinox Watch 24984, Michael Kors Women's Parker Blue Watch MK2280, XOXO Women's XO5753 Silver-Tone Bracelet Watch, Nine West Women's NW/1694BLGB Blue Sunray Dial Gold-Tone Bracelet Watch, Bulova Women's 98L153 Two-Tone Stainless Steel Bracelet Watch, MVMT Watches Black Face with Black Leather Strap Men's Watch, Readeel Men Sports Watches Fashion Casual Quartz Watch Digital & Analog Multifunctional Waterproof Student Men Sports LED Watches, Green Case, Burgi Women's BUR127RG Diamond & Crystal Accented Mother-of-Pearl Dial Embossed Rose Gold Bracelet Watch, Armitron Sport Men's 408108BLK Chronograph Black Digital Watch, Michael Kors Watches Runway Chronograph Stainless Steel Watch (Rose Gold), Readeel Rose Red Silicone Absolutely Environmentally Friendly Materials Band Butterfly Cartoon Kids Watch, Vince Camuto Women's VC/5224CHGB Gold-Tone Mesh Bracelet Watch, Fruitz NECTARINE Ladies Watch F36S-N-PR, JOJINO Real Diamond Watch Chronograph Mens Silver Case Black Rubber Band MJ-1130, Michael Kors MK5719 Women's Chronograph Camille Stainless Steel Bracelet Silver Watch, Rose Gold Case Crystal Eiffel Tower Lady Women Pink Leather Quartz Analog Watch WAA500, Daniel Wellington Women's 0511DW Classic Bristol Analog Display Quartz Brown Watch, Seiko Men's SNKN39 Analog Display Automatic Self Wind Orange Watch, MVMT Watches Rose Gold Case with Brown Leather Strap Men's Watch, HJX Novelty Real Watch With Collectable Butane Cigarette Cigar Lighter, TAG Heuer Men's WAY1110.BA0910 300 Aquaracer Stainless Steel Watch, Timex Kids T79081 My First Timex Easy Reader Watch with Pink Faux Leather Strap, Frenzy Kids' FR248 \"Peace Novelty\" Watch, Nautica Men's NAD19505G NST 101 Stainless Steel Watch with Blue Band, Tissot Men's T0484172705700 T-Race Black Chronograph Dial Watch, Marathon by Timex Full-Size Watch, Invicta Men's 1221 Invicta II Chronograph Black Dial 18k Rose Gold-Ion Plated Stainless Steel Watch, Tmbr. Helm Rose Gold Cherry Wood Unisex Wooden Watch Leather Strap Quartz Analog Wristwatch, Fossil Fs4487p Machine Chronograph Black Silicone Watch Watch For Men, Susenstone®Ultra Thin Sports Silicone Digital LED Sports Wrist Watch\n",
      "\n",
      "Cluster 6words:beautiful, watch, loved, really, great, 's, \n",
      "Cluster 6 reviews (46 reviews): \n",
      "Michael Kors Womens MK5145 - Runway Chronograph, Lucien Piccard Men's 11577-RG-02S Stockhorn Silver Textured Dial Brown Leather Watch, Fossil Women's ES3822 Georgia Stainless Steel Watch with Blue Leather Band, MK6162 Michael Kors Runway Gold-Tone Ladies Watch, Tissot Men's T0494071603100 PR 100 Silver Automatic Dial Watch, Skagen Women's SKW2184 Leonora Stainless Steel Mesh Watch, Fossil Fossil Ladies Multi-Function White Ceramic Watch, TAG Heuer Men's CAP2110.BA0833 Aquaracer Black Chronograph Dial Watch, Mens Puma Wristwatch Essence PU103241001, Geneva Women's 2380-Silver-GEN Oversized Interlocked Chain Band Watch, Citizen Men's CA4170-51E Shadowhawk Eco-Drive Stainless Steel Bracelet Watch, ShoppeWatch Skeleton Pocket Watch Mechanical Movement Hand Wind Full Hunter Silver Tone Engravable PW20, Geneva Multi-strand Crystal Bling Wrap-around Watch-Black Gold, Anne Klein Women's AK/1814WTGB Glitter Accented Gold-Tone and White Ceramic Bracelet Watch, Relic Women's ZR15750 Beth Rose Gold-Tone Bracelet Watch with Cobalt Blue Dial, Michael Kors Cooper Gold-Tone Stainless Steel Chronograph Women's watch #MK5916, Watch Box for 10 Wood Finish XL Extra Large Compartments Fits 63mm Soft Cushions Clearance Glass Window, Burgi Women's BUR069TTG Analog Display Swiss Quartz Two Tone Watch, Native American Indian Pocket Watch & Chain, Skagen 358srrd Rose Gold Ion Plated Stainless Steel Mesh Bracelet Watch Watch For Women, Kenneth Cole New York Men's KC1847 Stainless Steel Watch with Black Leather Band, Citizen Men's AT2187-51E Drive from Citizen Eco-Drive WDR 3.0 Chronograph Watch, Invicta Women's 15274 Bolt Analog Display Swiss Quartz Two Tone Watch, GUESS Men's U0279G1 Dressy Silver-Tone Watch with Black Dial  and Mesh Deployment Buckle, Vernier Women's VNR11140 Dazzling Oversized Roman Numeral Watch, Fossil Women's ES3818 Original Boyfriend Rose Gold-Tone Watch with Grey Leather Strap, Nautica Unisex N09908G Sport Ring Multifunction Stainless Steel Watch With Two Interchangable Bands, Stuhrling Original Men's 91D.334554 Enigma Automatic Mother of Pearl AM/PM Indicator Brown Watch, Seiko Men's SKS401 Analog Display Japanese Quartz Silver Watch, Geneva Women's 2380-Silver-GEN Oversized Interlocked Chain Band Watch, Seiko Men's SSC229 Sport Solar-Power Stainless Steel Bracelet Watch, Bulova Women's 98R149 \"Anabar\" Stainless Steel Watch, Zodiac ZMX Men's ZO8525 Special Ops Stainless Steel Watch With Gray Rubber Band, Swiss Legend Men's 30721-YG-02S Skyline Analog Display Swiss Quartz Black Watch, Soleasy Women's Quartz Watch Fashionable Cross Style Diamante PU Band Analog Wrist Watch WTH0822, Dainty New Genuine Abalone Gold Tone Stretch Band Fashion Watch, Michael Kors Watches Channing Watch (Silver), Ostri Ladies Star Series Waterproof Retro Watch Color Black, Invicta Men's 14071 Bolt Reserve Chronograph Silver Dial Black Polyurethane Watch, Lorus RXT67CX9 Urban Two-tone Stainless Steel Watch, Stuhrling Original Women's 910.01 Symphony Calliope Analog Display Quartz Silver Watch, Caddy Bay Collection Vintage Wood Glass Clear Top Watch Display Storage Case Chest Holds 10+ Watches With Adjustable Soft Pillows and High Clearance for Larger Watches, Tommy Hilfiger Women's 1781271 Stainless Steel Watch with White Silicone Band, Invicta Women's 17490 Angel Analog Display Japanese Quartz Two Tone Watch, Citizen Women's EW2130-51D Silhouette Eco Drive Watch, Hamilton Men's Khaki Regatta watch #H77614133\n",
      "\n",
      "Cluster 7words:great, watch, looks, price, comfortable, product, \n",
      "Cluster 7 reviews (53 reviews): \n",
      "Fossil Women's ES3851 Urban Traveler Multifunction Stainless Steel Watch - Rose, Timex Ironman Sleek 50-Lap Full Size, Michael Kors Petite Silvertone Darci Watch, Ceramic Bezel Insert for Rolex Sea-dweller Deep Sea, Casio G-Shock Digital Dial Resin Quartz Men's Watch DW6900WW-7, Game Time Men's NFL Beast Watch, Tommy Hilfiger Men's 1710330 Stainless Steel Watch with Black Genuine Leather Band, G-SHOCK Men's GA-100 Limited Edition Watch, Invicta Men's 18037SYB Pro Diver Gunmetal Ion-Plated Stainless Steel Watch, CASIO F91W-1 Casual Sport Watch, Invicta Men's 9204 Pro Diver Collection Silver-Tone Watch, Watch Box Carbon Fiber Finish Wood Constructed 5 Large Compartments High Clearance Glass Window, Casio Men's AW80V-5BV, Timex Men's Expedition Field Chronograph Watch, Oulm Analog Dark Brown Leather Strap Four Sub-dials Men Watch, Casio Men's STB-1000-1CF OmniSync Sports Gear Bluetooth Fitness Smartwatch, Tommy Hilfiger Men's 1791061 Analog Display Quartz Silver Watch, ESS Men's Stainless Steel Case White Dial Amber Front Antique Pocket Watch with Chain WP013-ESS, Peugeot Rectangle Deco Crystal Bezel Bracelet Dress Watch, Versus Tokyo R Mens Watch Black, Invicta Men's 8928OB Pro Diver Gold Stainless Steel Two-Tone Automatic Watch, Invicta Men's 17794 Pro Diver Analog Display Quartz Grey Watch, Bestpriceam® New Butterfly Diamond Watch Gold Dial Leather Band Quartz Wrist Watch Purple, Casio Men's VA430TDA-1A3V Waveceptor Titanium Atomic Solar Watch, Invicta Men's 16992 Venom Analog Display Swiss Quartz Black Watch, 2 Pack White and Black Geneva Women's Large Round Face Silicone Rainbow Numbers Watch, Tommy Hilfiger  Men's 1710294 Stainless Steel Watch with Brown Leather Band, U.S. Polo Assn. Classic Men's USC50233 Analog Display Analog Quartz Brown Watch, Tommy Hilfiger Men's 1790877 Silver-Tone Stainless Steel Watch, G-Shock GA100A-7A Classic Series Designer Watches - White, Timex Fieldstone Way Watch, Freestyle Tide 3.0, Luminox Men's 3067 EVO Navy SEAL Colormark Watch, 22mm Military MoD Ballistic Nylon G10 Watch Band - Black with Grey & Orange stripes, G-Shock Men's Military GD-400 Watch, Black, One Size, Casio Men's MTP1240D-2A Silver Stainless-Steel Quartz Watch with Blue Dial, Casio G-Shock Mens Watch G8900A-4D, Casio Women's LA-11WB-4UW Digital watch, SS.COM 1 x BLUE Slap On Quartz Silicone Sports Watch, Iced Out Watches LUXURMAN Real Diamond Watch for Men in Stainless Steel with Diamond Band 1.25ct, TKO ORLOGI Women's TK642TQ Floral Analog Display Quartz Multi-Color Watch, Casio Men's Dive Style Watch, Nemesis #IN-BS Wide Brown Leather Cuff Wrist Watch Band, Bluetooth Smart Watch Gold Case with SIM SLOT and Camera works with Android phones, Invicta Men's 19222 Specialty Analog Display Japanese Quartz Gold Watch, 22mm Military MoD Ballistic Nylon G10 Watch Band - Orange, Timex Unisex Weekender Analog Quartz Watch, Tommy Hilfiger Men's 1791062 Stainless Steel Watch with Blue Silicone Band, Timex Men's T2P0439J Analog Display Analog Quartz Black Watch, Casio Men's PAW1300T-7V \"Pathfinder\" Resin Watch, Skagen Men's SKW6019 Havene Stainless Steel Mesh Watch, Nixon Men's A058-100 Stainless Steel Analog with White Dial Watch, Mens Rubbertech Silicone Rubber Watchband Stainless Steel Buckle 22mm Wide Buckle - by JP Leatherworks\n",
      "\n",
      "Cluster 8words:work, stop, great, watch, good, far, \n",
      "Cluster 8 reviews (58 reviews): \n",
      "Citizen Men's BM8180-03E Eco-Drive Stainless Steel Watch with Green Canvas Band, HDE Watch Link Pin Remover Band Strap Repair Tool Kit for Watchmakers with Pack of 3 Extra Pins, Casio Men's MRW200H-7EV Sport Resin Watch, August Steiner Men's AS8160TTG Silver And Gold Swiss Quartz Watch with Black Dial and Two Tone Bracelet, Cerentino Women's CR106-TQ  Turquoise Silicone Rubber Rhinestones Watch, Watch Case Press with 12 Nylon Dies, Watch Case Closer Set, Seiko Men's SNKK27 Seiko 5 Stainless Steel Automatic Watch, Unisex Fashion Sport Watch Multifunction Multi-colour Led LAnalog Digital Waterproof Alarm Wristwatch, Seiko Wall Clock Silver-Tone Metallic Case Luminous  Numerals, WobL - Pink 8 Alarm Vibrating Reminder Watch, Retro World Map Womens Quartz Wrist Watch Brown, Watch Link Remover with Pins, Lowpricenice Cool watches For Men Skeleton Mens Black Automatic Mechanical Sport Wrist Watch Stainless Steel Band, Burgi Women's BUR102TTG Silver and Yellow Gold Quartz Watch with White Dial and Silver and Yellow Gold Bracelet, Timex Men's Easy Reader Date Leather Strap Watch, Paylak UNIKEY-1E Even Sizes 5 Prong Universal Clock Key for Winding Clocks, Casio Men's GWX8900B-7 G-Shock Tough Solar Multi-Band Atomic Watch, Sankuwen 1pc Unisex White Sports Silicone Digital LED Sports Bracelet Wrist Watch, Casio Men's CA53W-1 Calculator Watch, U.S. Polo Assn. Sport Men's US8170 Black and Gunmetal-Tone Bracelet Watch, Timex Unisex Weekender Analog Quartz Watch, Original Casio Capacitor Battery CTL1616, TAG Heuer Men's THWAK2120BB0835 Aqua Racer Analog Display Swiss Automatic Two Tone Watch, Watch Case Closer Opener works w/ waterproof watches Pocket crab tool case backs, Fanmis Bluetooth Smart Watch Wrist Wrap Watch Phone for IOS Apple Iphone 4/4s/5/5c/5s Android Samsung S2/s3/s4/note 2/note 3 HTC Nokia... (Black), iStrap Genuine Calf Leather Watch Band Alligator Grain Padded for Men Women Color & Width (18mm,19mm, 20mm,21mm,22mm or 24mm), Seiko Men's SNQ117 Premier Stainless-Steel Black Roman Numeral Dial Watch, BRAND NEW BLACK 4+6 AUTOMATIC QUAD WATCH WINDER 6 DISPLAY STORAGE BOX CASE, Square Triple Chain Wrap Watch-Eggplant Purple, Gold Tone White Crystals Hip-hop Cz-ice Bling Black Rubber Watch, Anne Klein Two-Tone Illusion Dress Watch, Timex Unisex T2N889 \"Weekender\" Black and Gray Nylon Strap Watch, 7 Weapons Fashion Creative LED Waterproof Men's Watch#black, Expedition Chrono Alarm Timer Watch, Casio Men's WV200DA-1A Multi-Task Gear Waveceptor Sports Watch, red line Mens RL-18101-014WH-GUN Watch, G-SHOCK The GA 100 Military Series Watch in Black,Watches for Men, [Upgrades]CHIYODA Single Watch Winder with Quiet Motor-12 Rotation Modes, Dyn Mens Y27 Analog Digital Talking Watch, Timex Ironman Sleek 50 Classic Mid-Size Watch, Citizen Quartz Day and Date Black Dial Men's Watch - BK4052-59F, Freestyle Unisex 102282 Predator Blue Detail Digital Canvas  Velcro Watch, 10 CR927 Lithium Button Cell batteries, 5-Pcs Card X2, High Quality White Dial Brown Leather Band Japanese Quartz Movement Wrist Watch Graduation Gift, Nurse Mates - Womens - Chrome Basic Military Dial, Seiko Men's SNKM95 Stainless Steel Automatic Watch with Blue Canvas Band, Frenzy Kids' FR2001 \"Panda Critter Face\" Black Band Children's Watch, Men's White Decorative Chron Dial Brown Pu Leather Strap Quartz Movement Wrist Watch, Vintage PU Leather Music Score Scale Women Girls Watch, Caravelle By Bulova 47J18 Stainless Steel Nurses Lapel Pin Watch, 40 Bestpresso Nespresso Compatible Gourmet Coffee Capsules - Nespresso Pods Alternative: Intenso Blend Natural Espresso Flavor (High Intensity) - Certified Genuine Espresso, XOXO Women's XO8041 Rhinestone Accent Black Silicone Strap Watch, GGI Metal Watch Repair Kit - Pack of 2, Fanmis Russian Skeleton Black Dial Silver Stainless Steel Luxury Men's Automatic Mechancial Wrist Watch, Armitron Sport Men's 49mm Digital Chronograph Black Strap Watch, SE JT6216 21-Piece Watch Repair Kit, Glam Rock Men's GR33008 SoBe Black Dial Black Ion-Plated Stainless Steel Watch, OrangeTag New Flower Face Style Leather Woman Man Analog Quartz Wrist Wa...\n",
      "\n",
      "Cluster 9words:watch, looks, band, n't, time, good, \n",
      "Cluster 9 reviews (271 reviews): \n",
      "INFANTRY Mens Night Vision Analog Quartz Wrist Watch with Nato Nylon Watchband-Red., G-Shock Men's Grey Sport Watch, Fossil Women's ES3621 Serena Crystal-Accented Two-Tone Stainless Steel Watch, Casio General Men's Watches Sporty Digital AE-2000W-1AVDF - WW, 2Tone Gold Silver Cable Band Ladies Bangle Cuff Watch, Casio - G-Shock - Gulfmaster - Black - GWN1000C-1A, Invicta Men's 3329 Force Collection Lefty Watch, Seiko Women's SUT068 Dress Solar Classic Diamond-Accented Two-Tone Stainless Steel Watch, Nixon Men's Geo Volt Sentry Stainless Steel Watch with Link Bracelet, Szanto Men's SZ 2001 2000 Series Classic Vintage-Inspired Stainless Steel Watch with Pebbled Leather Band, INFANTRY Mens 50mm Big Face Military Tactical Analog Digital Sport Wrist Watch Black Silicone Band, Casio Women's LQ139B-1B Classic Round Analog Watch, Casio Men's Slim Solar Multi-Function Analog-Digital Watch, Casio Men's GW2310FB-1CR G-Shock Shock Resistant Multifunction Watch, Ingersoll Men's IN1824CR Monticello Fine Automatic Timepiece Cream Dial Watch, Lucien Piccard Men's 11576-YG-01 Clariden Black Textured Dial Watch, Stuhrling Original Women's 956.02 Symphony Gold-Tone Watch with Brown Genuine Leather Band, G-SHOCK Men's GA-100 Neon Highlights Watch, Absolute Hot Iron man Super Hero build-in Blue LED for Men's luxury Army military Wrist Watches, Seiko Men's White Dial Brown Leather Easy Reader Solar Calendar Watch, Armitron Sport Women's 25/6416 Easy To Read Dial Resin Strap Watch, Seiko Men's SNK809 Seiko 5 Automatic Stainless Steel Watch with Black Canvas Strap, CASIO BABY-G (BG-6900SG-8JF) GLITTER DIAL SERIES LADY'S WATCH JAPANESE MODEL 2014 JULY RELEASED, Timex Kids' T7B9829J IronKids Translucent Blue Sport Watch, LuckyStore 14mm 5X Watch Band Stainless Steel Spring Bars Strap Link Pin Watchmaker New, Seiko Men's SNKL43 \"Seiko 5\" Stainless Steel Automatic Watch, Stuhrling Original Men's 238.321K43 Ascot Newberry Analog Swiss Quartz Brown Leather Watch, Hadley-Roma Men's MSM881RB-170 17-mm Brown Oil-Tan Leather Watch Strap, Dasone D0014 Women's Quartz White Ceramic Watches with Colorful Diamond Bezel, Invicta Men's 17946 Russian Diver Analog Display Swiss Quartz Black Watch, Akribos XXIV Women's AK765YG Impeccable Gold-Tone Stainless Steel Watch, AMPM24 White Leather Transparent Dial Fashion Lady Girl Wrist Quartz Watch Gift WAA025, Timex Kids' TW7B998009J My First Timex Silver-Tone Watch with Blue Nylon Band, Picard & Cie Eleanor Ladies Watch, Timex Unisex TW2P62400 Weekender Chrono Oversize Blue/Cream/Brown Striped Slip-Thru Nylon Strap Watch, Victorinox Men's 249085 Original XL Swiss Quartz Watch With Black Nylon Band, OBAKU HARMONY Stainless Steel Men Watch., Timex Women's T2P4589J Main Street Modern Minis Gold-Tone Watch, Stuhrling Original Women's 'Vogue' Quartz White Casual Watch (Model: 530S2.111EP3), Timex Men's T2N721 Intelligent Quartz Compass Tide Temperature Silver Case Brown Strap Watch, Motorola Moto 360 Modern Timepiece Smart Watch - Black Leather 00418NARTL, Citizen Men's AT9013-03H Rose Gold-Tone Stainless Steel Eco-Drive Watch, Timex Women's T2N436 Elevated Classics Two-Tone Watch with Brown Leather Strap, Lucien Piccard Women's LP-10222-WWSA La Tournette White/Silver-Tone Mother of Pearl Dial Ceramic Watch, Casio Men's W735H-1AVCF Super Illuminator Watch With Black Resin Band, Lucien Piccard Men's LP-10527-02 Moubra White Dial Black Leather Watch, Timex Marathon TW5K84900 Mid-Size Watch, U.S. Polo Assn. Men's US8211 Analog/Digital Display Sterling Silver Watch, Invicta Men's 0072 Pro Diver Collection Chronograph 18k Gold-Plated Watch, Pulsar Women's PH8062 Analog Display Japanese Quartz Gold Watch, Ostri Ladies Star Series Waterproof Retro Watch Color Black, Armitron Sport Women's 45/7051 Digital Jelly Strap Watch, GGI International WTK-037 Metal Watch Repair Kit, 6900 Military Watch - Mens, Timex Men's Expedition Gallatin Watch, kate spade new york Women's 1YRU0510 Metro Grand Gold-Tone Stainless Steel Watch with Beige Leather Band, Swatch Golden Dial Golden Sparkle Silicone Ladies Watch SUOK704, Casio Women's STR300 Runner Eco Friendly Digital Watch, Unisex Fashion Sport Watch Multifunction Multi-colour Led LAnalog Digital Waterproof Alarm Wristwatch, Luminox Men's 3001.BO Quartz Rubber Black Dial Watch, Caravelle by Bulova Men's 45D106 Classic Two Tone Watch, Disney Boys' Jake Blue Time Teacher Watch, U.S. Polo Assn. Sport Men's US9486 Analog-Digital Display Analog Quartz Blue Watch, Seiko Men's SNA411 Flight Alarm Chronograph Watch, Casio Men's Solar Sport Combination Watch, S&W Men's Ego Watch Black., Kenneth Cole New York Men's KC1931 Classic Light Grey Dial Field Case Watch, Timex Men's Easy Reader Day-Date Expansion Band Watch, Invicta Men's 1402 Venom Reserve Chronograph Orange Dial Orange Polyurethane Watch, Hamilton Men's 'American Classic Spirit Of Liberty' Swiss Automatic Stainless Steel Casual Watch, Color:Brown (Model: H42415551), Speidel (Accessories) Men's 230161WR 18 -mm  Classic Watch Strap, MARATHON Military Nylon Watch Band (Various Colors and Sizes), Timex Mens Expedition Trail Chronograph Resin Combo Watch, 32mm,, Smooth Black Leather, Medium Padding for your Sporty Watch, Invicta Men's 10091 Subaqua Reserve Black Carbon Fiber Dial Watch, Casio Men's W-S220-1BVCF \"Tough Solar\" Running Watch with Black Resin Band, [LAD WEATHER] German Sensor Digital Compass Altimeter / Barometer/ Weather Forecast/ Multi function/ Outdoor Climbing/running/walking Sport Watch, Seiko Men's SNK807 Seiko 5 Automatic Stainless Steel Watch with Blue Canvas Band, Geneva Women's Brushed Metal Leather Band watch, Timex Men's T5H581 Ironman Traditional 30-Lap Watch, PromiseU Leather Bracelet Woman Rhinestone Rivet Chain Quartz Wrist Watch, Stuhrling Original Men's 879.01 Leisure Sniper Transparent Swiss Quartz Black Rubber Strap Watch, Casio Men's GA100SD-8A G-Shock Military Watch, Invicta Men's 17266 Russian Diver Gold-Tone Stainless Steel Watch with Black Silicone Band, Skagen Women's SKW2142 Gitte Rose Gold Mesh Watch, Men's Casio G-Shock Gravitymaster Compass Black Watch, Michael Kors Mid-Size Rose Goldtone/Stainless Steel Parker Three-Hand Glitz Watch, 40Nine Unisex 40NINE03/BLACK3 Medium 40mm Analog Display Japanese Quartz Black Watch, Seiko Women's SUT130 Solar-Power Gold-Tone Bracelet Watch, Tissot Men's T0444172103100 T-Sport PRS516 Quartz Silver Chronograph Dial Watch, Tendence 02013012 Rainbow Yellow 44mm Watch, Seiko Men's SNN237 Sports Black Stainless-Steel Black Chronograph Dial Watch, Armitron Sport Men's 40/8301 Digital Chronograph Resin Strap Watch, Fafada Mens Retro Mechanical Skeleton Roman Numeral Manual Wind Antique Zodiac Symbol Pocket Watch, Timex Women's Easy Reader Leather Strap Watch, Timex Expedition Uplander Watch, Kenneth Cole New York Women's KC4852 Transparency Stainless Steel Watch, August Steiner Men's CN001S-AS Round Wheat Penny Antique Copper Collectors Coin Watch, Relic Round Automatic, Casio Women's LA670WA-7 Silver Tone Digital Retro Watch, Armitron Men's 20/4962BLSV Blue Sunray Dial Silver-Tone Bracelet Watch, U.S. Polo Assn. Classic His and Her USC2249 Round Black Dial Gunmetal-Tone Mesh Strap Watch Set, adidas Performance Fitness Watch, Timex Expedition Double Shock Watch, Invicta Men's 8926OB Pro Diver Stainless Steel Automatic Watch with Link Bracelet, U.S. Polo Assn. Sport Men's US9061 Watch with Black Rubber Strap Watch, Invicta Men's 13870 Pro Diver Silver Dial Stainless Steel Watch, Hot Sell New Fashion Diamond Dial 3 Small Dial Decoration Womens / Ladies Wrist Watch (Gold), Casio Men's PRW-3500-1CR Atomic Resin Digital Watch, Timex Expedition Camper Watch, Swatch Unisex SUOK703 Pink Glistar Watch with Sparkling Band, FACILLA® 22mm Durable Silver Steel Watch Band Strap Pin Buckle Adjustable, Seiko Men's SNZH53 Seiko 5 Automatic Dark Blue Dial Stainless Steel Watch, Anne Klein Women's 10/9918RGTP Rose Gold-Tone and Taupe Leather Strap Watch, ESQ Movado Unisex 07301432 ESQ ONE Black Stainless Steel Watch with Yellow Silicone Band, MARATHON Military Nylon Watch Band (Various Colors and Sizes), PUMA Men's PU100041003 Motor Sport Collection Top Podium Ana-digit Watch, CASIO G-SHOCK GA-400-1BJF JAPAN IMPORT, Casio Women's LTP1237D-7A Analog Quartz Silver Watch, New Silicone Rubber Watch Band Strap for Invicta Subaqua Noma, Swiss Legend Men's 11876A-TI-01-W Commander Analog Display Swiss Automatic Black Watch, U.S. Polo Assn. Classic His and Her USC2250 Silver-Tone Mesh Strap Watch Set, Readeel Sports Men Watch Stainless Steel Quartz Men Watch LED Dual Display Watch, Red, Armani Exchange AX1214 Mens Black Silver Zulu Chronograph Active Watch, Women's Real Diamond Watch with Iced Out Dial and Metal Band Luxurman Montana Plus 2 Leather Straps, Bessky® Waterproof Outdoor Sports Men Digital LED Quartz Alarm Wrist Watch, Extra Long Watch Band Genuine Leather Calfskin Light Brown 22 millimeters Tech Swiss, Stuhrling Original Men's 824.01 Regatta Analog Japanese Quartz Stainless Steel Watch, Caddy Bay Collection Black Carbon Fiber Glass Top Watch Case Holds 10 Large Watches, Nixon Rubber 51-30 Watch, U.S. Polo Assn. Women's USC40070 Rose Gold-Tone Watch with Link Bracelet, Mokingtop® New Fahsion Children Boy Digital LED Quartz Alarm Date Waterproof Sports Wrist Watch, Men's Watches Chronograph, 24 Hr Indicator Military Sports Watches - Voeons 3ATM Waterproof Steel Case Quartz Watches, Big Dial Silicone Wrist Watch, Gold / Silver, Mens Rubbertech Silicone Rubber Watchband Stainless Steel Buckle 22mm Wide Buckle - by JP Leatherworks, Armitron Sport Men's 408108BLK Chronograph Black Digital Watch, Wenger Men's 0541.102 Terragraph Stainless Steel Watch with Brown Leather Band, 18mm Mens Braided Leather Brown Watch Band Speidel, Watch Case Press with Nylon Dies, JIUSKO Mens Analog Fashion Wrist Watch - Multifunction Quartz Chronograph Stopwatch - Sapphire - 24 Hour - Alarm - Brown Leather Strap - Blue Hands - Stainless Steel - 113L0107, G-Shock MTGM900DA-8CR Men's Tough Solar Atomic Stainless Steel Sport Watch, DASSARI Monaco Smooth Leather Watch Band for panerai, Invicta Men's 1433 Russian Diver Black Dial Rubber Watch, DETOMASO Men's Quartz Stainless Steel and Leather Casual Watch, Color:Black (Model: DT1068-A), Citizen Women's EW3140-51E Eco-Drive Stainless Steel Sport Watch, Skagen Men's SKW6068 \"Havene\" Silver-Tone Stainless Steel Watch with Mesh Band, Nixon Men's 51-30 Chronograph Stainless Steel Watch With Leather Band, GuTe Old Fashion Mens Auto Mechanical Wristwatch White Dial Blue Hands Day Date 24hrs, Voguestrap TX51012BK Allstrap 16 mm Black Nylon Adjustable Sport Watch Band, Seiko Men's SKX007K Diver's Automatic Watch, Valletta Women's FMDCT501A Analog Display Quartz Gold Watch, Armitron Women's 75/2967BLU Diamond Accented Blue Dial Silver-Tone Bangle Watch, Invicta Men's 8928OB Pro Diver Gold Stainless Steel Two-Tone Automatic Watch, Casio Men's Slim Solar Multi-Function Analog-Digital Watch, Timex 1440 Digital Sports Watch - Women's, Michele Style White Baby Python Leather Watchband with Quick Release Pins, Seiko Men's SNK805 Seiko 5 Automatic Stainless Steel Watch with Green Canvas, LNI Fashion Stainless Steel Band Watch Mk, Timex Women's Q7B851 Padded Calfskin 14mm Brown Replacement Watchband, Casio Men's SGW100-1V Twin Sensor Digital Black Watch, Victorinox Swiss Army Men's 241340 Summit XLT Chrono Watch, Invicta Men's 15580 Subaqua Analog Display Swiss Quartz Black Watch, Stuhrling Original Men's 699.03 Aviator Quartz Day and Date Watch With Green Leather Band, Tissot Men's T063.617.16.057.00 Black Dial Tradition Watch, Orient Men's FER24004B0 Bambino Stainless Steel Automatic Watch with Black Leather Band, Invicta Women's 4720 II Collection Limited Edition Diamond Watch, BOS Men's Automatic self-wind mechanical Pointer Skeleton Watch Black Dial Stainless Steel Band 9008, New Fashion GENEVA Rose Flower Watch for Women Quartz Dress Watch, Seiko Men's SSC305 Solar-Power Stainless Steel Bracelet Watch, Casio watch strap watchband textile Band black for G-303B AW-591MS DW-5600B, G-Shock GW6900-1 Men's Tough Solar Black Resin Sport Watch, Akribos XXIV Men’s AK714BK “Ultimate” Black Multifunction Stainless Steel Watch with Mesh Bracelet, Invicta Men's 0069 \"Pro Diver Collection\" Stainless Steel Watch, TAG Heuer Men's CV201AH.BA0725 Carrera Analog Display Swiss Automatic Black Watch, Invicta Women's Mako Pro Diver Quartz 8942, Timex Ironman Sleek 50-Lap Sport Watch - Women's, 22mm Military RAF Style Ballistic Nylon Watch Band - Olive, Genuine Synthetic Rubber Black \"Monster\" Diver 20mm Watch Strap by Seiko, Textured Silver Tone Turtle Pendant Hunter Case Key Ring Watch, Seiko Men's SSC021 Solar Diver Chronograph Watch, Weave Classic Leather Band Black Paris Eiffel Tower Women Quartz Wrist Watch Black, Timex Men's Expedition Field Chronograph Watch, Mens Rubbertech Silicone Rubber Watchband Stainless Steel Buckle 22mm Wide Buckle - by JP Leatherworks, Mirror Men Lady LED Digital Sport Unisex Watch Gift,- Black Colors, Seiko Women's Silvertone Solar Watch, Readeel New Casual Watch Leather Black Strap Military Army Wrist Watch Man watch Date Week Display Watch Quartz Watch,White, Timex Unisex T2N751 \"Weekender\" Watch with Red Nylon Strap, Timex Unisex Weekender Analog Quartz Watch, Stuhrling Original men's 23mm black leather Strap with red stitching red outline with steel buckle st.4ATC.332B164, Torgoen Swiss Men's T28104 T28 3 Stainless Steel Watch with Leather Band, Bling Jewelry Plated Classic Round CZ Ladies Watch, Timex Women's T2P2589J Crystal Silver-Tone Stainless Steel Bracelet Watch, Timex Men's T28071 Easy Reader Black Leather Strap Watch, Mokingtop(TM) Fashion New Waterproof Girl's Sports Waterproof LED Electronic Wrist Watch, Daniel David Men's | Classic Silver-Tone Bracelet Sports Watch | HA0474, U.S. Polo Assn. Classic Men's USC80287 Analog Display Analog Quartz Two Tone Watch, Casio Men's W735H-1AVCF Super Illuminator Watch With Black Resin Band, Citizen Men's CC1084-63E Satellite Wave Analog Display Japanese Quartz Silver Watch, ESS Black Bezel Skeleton Dial Mechanical Automatic Watch Mens Stainless Steel Case WM257, Nautica Men's N22634G NST 402 Analog Display Quartz Grey Watch, Caravelle New York Women's 44L153 Stainless Steel Watch with Blue Leather Band, Vilam Girl Kids' Translucent Cartoon Waterproof Quartz 3D Dial Watch Time Teacher Color Pink, BESSKY Women's White Dial Clock Leather Quartz Wrist Watch, Invicta Men's 15146 Pro Diver 18k Gold Ion-Plated Stainless Steel Watch with Black Silicone Band, Bulova Men's 96A135 BVA-SERIES 120 Automatic strap Watch, Tommy Hilfiger Riverside White Silicone White Dial Women's Watch #1780915, August Steiner Men's ASA810BU Stainless Steel Dual Time Watch, Transformers Kids' TRF0007 Bumblebee Autobots Watch, Armitron Sport Men's 40/8284 Digital Chronograph Resin Strap Watch, Casio Men's Sport Analog Dive Watch, PUMA Men's PU102941001 Ultrasize Analog Display Left-Handed Black/White Sport Watch, Casio G-shock Black and Green Standard Japanese Model #G8900-1, SEIKO Mechanical Standard Models Automatic Mens Watch SARB033, Seiko Men's SNK809 Seiko 5 Automatic Stainless Steel Watch with Black Canvas Strap, Susenstone® Fashion Luxury Women Ladies Diamond Quartz Gold Watch+bracelet, Timex Men's Easy Reader Day-Date Expansion Band Watch, Fossil Women's ES3718 Chelsey Crystal-Accented Stainless Steel Watch with Link Bracelet, Candy-colored Blue Geneva Silicone Colorful couple of style quartz watches, Stuhrling Original Women's 579.04 Soiree Swarovski Crystal-Accented Rose Gold-Tone Watch, BINKADA 3 Pointer Automatic Mechanical Black Dial Women's Wrist Watch #7001W03-4, Invicta Men's 15951 Subaqua Analog Display Swiss Quartz Two Tone Watch, GuTe Classic Skeleton Mechanical Wristwatch Automatic Steel Watch Silver Black X Dial, Timex Men's Highland Street Watch, Stuhrling Original Men's 'Symphony' Swiss Quartz Stainless Steel and Leather Dress Watch, Color:Black (Model: 434.33151), Replacement Black Polyurethane Link Bracelet Band 22mm for Luminox 3000 and 3900 Series Watches, Kenneth Cole New York Men's KC9260 Dress Sport Rose Gold Bezel Men's Bracelet Watch, Casio Men's PAG240-8 Pathfinder Triple Sensor Tough Solar Digital Watch, Invicta Women's 17388 Pro Diver Analog Display Swiss Quartz Two Tone Watch, Youyoupifa Hot Design High End Double Movement Multi-Function Black Strap Sport Watch NBW0HE5756-SS3, Timex Women's T2H641 Classic Black Leather Strap Watch, Chronicles of Narnia Kids' MC2090 Aslan Coat of Arms Watch, Freestyle Unisex 102245 Shark Fast Strap Retro 80's Watch with Multicolored Nylon Band, Invicta Men's 8935 Pro Diver Collection Two-Tone Stainless Steel Watch with Link Bracelet, Invicta Men's 6409 Python Collection Chronograph Stainless Steel and Gun Metal Watch, Casio AQS810W-1A2V Solar Ana-Digi Sports Wrist Watch, Shark Men's Sport Quartz Wrist Watch Black 3D Dial Oversized Crown Silicone SH171, U.S. Polo Assn. Sport Men's US9061 Watch with Black Rubber Strap Watch, Casio Men's F28W-1 \"Classic\" Digital Watch, DETOMASO Men's Quartz Stainless Steel Casual Watch, Color:Black (Model: DT1052-M), Barron Watch Company Replacement Watch Band with 4 bars and remover, Invicta Men's 12404 Vintage Mechanical Blue Dial Black Leather Watch, Tmbr. Helm Gold Walnut Wood Unisex Wooden Watch Leather Strap Quartz Analog Wristwatch, Casio Men's WV200DA-1A Multi-Task Gear Waveceptor Sports Watch, Fossil Women's ES3818 Original Boyfriend Rose Gold-Tone Watch with Grey Leather Strap, Atomic Talking Watch, ESQ Movado Unisex 07301442 \"ESQ ONE\" Stainless Steel Watch with Black Silicone Band, Mokingtop Fashion New 22mm Brown Soft Sweatband Genuine Leather Strap Steel Buckle Wrist Watch Band, Jechin Classic Pocket Watch, Hunter Case, 14'' Chain, Comes in Silk-Lined Gift Box, Timex Unisex Weekender Analog Quartz Watch, Timex Men's Expedition Field Chronograph Watch, Batman Kids' BAT4045 \"Batman\" Watch with Black Rubber Band, Michael Kors MK3265 Women's Slim Runway Gold-Tone Stainless Steel Bracelet Watch, Earth Wood Rhizomes, Nixon The Unit Digital Dial Stainless Steel Quartz Men's Watch A360-502, Michael Kors Watches Parker Watch, Nixon 48-20 Chronograph White Dial Black Leather Mens Watch A363486, Timex Women's T5J151 1440 Sports Digital Black/Pink Resin Strap Watch, Peugeot Women's Silver-tone Tank Leather Dress Watch, Oakley Men's 10-032 Analog Watch, Timex Men's T2N635 Weekender Classic Casual Cream Dial Bracelet Watch, Casio Men's Black Analog Anti Reverse Bezel Watch, Stuhrling Original Men's 879.03 Leisure Sniper Transparent Swiss Quartz Black Rubber Strap Gunmetal Watch, Seiko Mantel Chime Clock Brown Wooden Case, Wrist And Style Perlon Watch Strap - Light Brown | 20mm, Invicta Men's 1941 Subaqua Sport Chronograph Blue Dial 18k Gold Ion-Plated Stainless Steel Watch, Bestpriceam Women Silicone Printed Flower Causal Quartz Wrist Watches Pink, Seiko Tiber Wall Clock, Fossil Womens Jacqueline - ES3866, Timex Women's Indiglo Easy Reader Quartz Analog Leather Strap Watch with Date Feature, Casio W213 Digital Multi-Function Sports Watch w/ 10 Year Battery Life, Invicta Men's 1434 Russian Diver Blue Dial Stainless Steel Watch, Casio Men's AMW320D-9EV Ana-Digi Alarm Chronograph Dive Watch\n",
      "\n"
     ]
    }
   ],
   "source": [
    "print('<Document clustering result by K-means>')\n",
    "\n",
    "order_centroids = km.cluster_centers_.argsort()[:,::-1]\n",
    "\n",
    "cluster_keywords_summary = {}\n",
    "for i in range(num_clusters):\n",
    "    print(\"Cluster \" + str(i) + \"words:\", end='')\n",
    "    cluster_keywords_summary[i] = []\n",
    "    for ind in order_centroids[i, :6]:\n",
    "        cluster_keywords_summary[i].append(vocab_frame_dict[tf_selected_words[ind] ])\n",
    "        print(vocab_frame_dict[tf_selected_words[ind]] + ',', end=' ')\n",
    "        \n",
    "    print()\n",
    "    \n",
    "    cluster_reviews = frame[frame.cluster == i].review.tolist()\n",
    "    print('Cluster ' + str(i) + ' reviews (' + str(len(cluster_reviews)) + ' reviews): ')\n",
    "    print(', '.join(cluster_reviews))\n",
    "    print()\n"
   ]
  },
  {
   "cell_type": "markdown",
   "metadata": {},
   "source": [
    "### Model II Topic Modeling Latent Dirichlet Allocation"
   ]
  },
  {
   "cell_type": "code",
   "execution_count": 138,
   "metadata": {
    "collapsed": true
   },
   "outputs": [],
   "source": [
    "from sklearn.decomposition import LatentDirichletAllocation\n",
    "lda = LatentDirichletAllocation(n_components=5, learning_method = 'online')"
   ]
  },
  {
   "cell_type": "code",
   "execution_count": 139,
   "metadata": {},
   "outputs": [
    {
     "name": "stdout",
     "output_type": "stream",
     "text": [
      "In total, there are 1000 reviews and 245 terms.\n"
     ]
    }
   ],
   "source": [
    "from sklearn.feature_extraction.text import CountVectorizer\n",
    "# LDA only in take integers\n",
    "tfidf_model_lda = CountVectorizer(max_df=0.99, max_features=500,\n",
    "                                 min_df=0.01, stop_words='english',\n",
    "                                 tokenizer=tokenization_and_stemming, ngram_range=(1,1))\n",
    "\n",
    "tfidf_matrix_lda = tfidf_model_lda.fit_transform(data) #fit the vectorizer to synopses\n",
    "\n",
    "print (\"In total, there are \" + str(tfidf_matrix_lda.shape[0]) + \\\n",
    "      \" reviews and \" + str(tfidf_matrix_lda.shape[1]) + \" terms.\")"
   ]
  },
  {
   "cell_type": "code",
   "execution_count": 140,
   "metadata": {},
   "outputs": [
    {
     "name": "stdout",
     "output_type": "stream",
     "text": [
      "(1000, 5)\n",
      "[[ 0.02502571  0.02553809  0.75421072  0.02600947  0.16921601]\n",
      " [ 0.05010251  0.05080297  0.79739902  0.05118076  0.05051474]\n",
      " [ 0.2         0.2         0.2         0.2         0.2       ]\n",
      " ..., \n",
      " [ 0.59779707  0.1000729   0.10036261  0.10000021  0.10176721]\n",
      " [ 0.050095    0.48654172  0.3612127   0.05080224  0.05134833]\n",
      " [ 0.03352145  0.03399754  0.63984109  0.25930085  0.03333907]]\n"
     ]
    }
   ],
   "source": [
    "# train the model\n",
    "lda_output = lda.fit_transform(tfidf_matrix_lda)\n",
    "print(lda_output.shape)\n",
    "print(lda_output)"
   ]
  },
  {
   "cell_type": "code",
   "execution_count": 141,
   "metadata": {},
   "outputs": [
    {
     "name": "stdout",
     "output_type": "stream",
     "text": [
      "(5, 245)\n",
      "[[   0.27246351    1.36876618    1.49951733 ...,    0.20456024\n",
      "    10.55558931    0.22413179]\n",
      " [  25.66173843  104.16791583   14.23406892 ...,    0.22406339\n",
      "    34.24424235   15.03619665]\n",
      " [  19.11620648  121.51201638    0.22485313 ...,    6.93480284\n",
      "    21.76475412   39.83083562]\n",
      " [   2.84305266    5.22085381    0.21717838 ...,   10.33609994\n",
      "     4.32378323    0.23351079]\n",
      " [   0.26399869    0.23891201    0.2031837  ...,    0.2046893     0.21437575\n",
      "     0.20477958]]\n"
     ]
    }
   ],
   "source": [
    "# topic and word matrix\n",
    "topic_word = lda.components_\n",
    "print(topic_word.shape)\n",
    "print(topic_word)"
   ]
  },
  {
   "cell_type": "code",
   "execution_count": 142,
   "metadata": {},
   "outputs": [
    {
     "data": {
      "text/html": [
       "<div>\n",
       "<style>\n",
       "    .dataframe thead tr:only-child th {\n",
       "        text-align: right;\n",
       "    }\n",
       "\n",
       "    .dataframe thead th {\n",
       "        text-align: left;\n",
       "    }\n",
       "\n",
       "    .dataframe tbody tr th {\n",
       "        vertical-align: top;\n",
       "    }\n",
       "</style>\n",
       "<table border=\"1\" class=\"dataframe\">\n",
       "  <thead>\n",
       "    <tr style=\"text-align: right;\">\n",
       "      <th></th>\n",
       "      <th>Topic0</th>\n",
       "      <th>Topic1</th>\n",
       "      <th>Topic2</th>\n",
       "      <th>Topic3</th>\n",
       "      <th>Topic4</th>\n",
       "      <th>Dominent_Topic</th>\n",
       "    </tr>\n",
       "  </thead>\n",
       "  <tbody>\n",
       "    <tr>\n",
       "      <th>Doc0</th>\n",
       "      <td>0.03</td>\n",
       "      <td>0.03</td>\n",
       "      <td>0.75</td>\n",
       "      <td>0.03</td>\n",
       "      <td>0.17</td>\n",
       "      <td>2</td>\n",
       "    </tr>\n",
       "    <tr>\n",
       "      <th>Doc1</th>\n",
       "      <td>0.05</td>\n",
       "      <td>0.05</td>\n",
       "      <td>0.80</td>\n",
       "      <td>0.05</td>\n",
       "      <td>0.05</td>\n",
       "      <td>2</td>\n",
       "    </tr>\n",
       "    <tr>\n",
       "      <th>Doc2</th>\n",
       "      <td>0.20</td>\n",
       "      <td>0.20</td>\n",
       "      <td>0.20</td>\n",
       "      <td>0.20</td>\n",
       "      <td>0.20</td>\n",
       "      <td>0</td>\n",
       "    </tr>\n",
       "    <tr>\n",
       "      <th>Doc3</th>\n",
       "      <td>0.03</td>\n",
       "      <td>0.03</td>\n",
       "      <td>0.03</td>\n",
       "      <td>0.88</td>\n",
       "      <td>0.03</td>\n",
       "      <td>3</td>\n",
       "    </tr>\n",
       "    <tr>\n",
       "      <th>Doc4</th>\n",
       "      <td>0.24</td>\n",
       "      <td>0.30</td>\n",
       "      <td>0.45</td>\n",
       "      <td>0.01</td>\n",
       "      <td>0.01</td>\n",
       "      <td>2</td>\n",
       "    </tr>\n",
       "    <tr>\n",
       "      <th>Doc5</th>\n",
       "      <td>0.04</td>\n",
       "      <td>0.04</td>\n",
       "      <td>0.84</td>\n",
       "      <td>0.04</td>\n",
       "      <td>0.04</td>\n",
       "      <td>2</td>\n",
       "    </tr>\n",
       "    <tr>\n",
       "      <th>Doc6</th>\n",
       "      <td>0.03</td>\n",
       "      <td>0.03</td>\n",
       "      <td>0.88</td>\n",
       "      <td>0.03</td>\n",
       "      <td>0.03</td>\n",
       "      <td>2</td>\n",
       "    </tr>\n",
       "    <tr>\n",
       "      <th>Doc7</th>\n",
       "      <td>0.03</td>\n",
       "      <td>0.88</td>\n",
       "      <td>0.03</td>\n",
       "      <td>0.03</td>\n",
       "      <td>0.03</td>\n",
       "      <td>1</td>\n",
       "    </tr>\n",
       "    <tr>\n",
       "      <th>Doc8</th>\n",
       "      <td>0.01</td>\n",
       "      <td>0.56</td>\n",
       "      <td>0.01</td>\n",
       "      <td>0.40</td>\n",
       "      <td>0.01</td>\n",
       "      <td>1</td>\n",
       "    </tr>\n",
       "    <tr>\n",
       "      <th>Doc9</th>\n",
       "      <td>0.02</td>\n",
       "      <td>0.92</td>\n",
       "      <td>0.02</td>\n",
       "      <td>0.02</td>\n",
       "      <td>0.02</td>\n",
       "      <td>1</td>\n",
       "    </tr>\n",
       "  </tbody>\n",
       "</table>\n",
       "</div>"
      ],
      "text/plain": [
       "      Topic0  Topic1  Topic2  Topic3  Topic4  Dominent_Topic\n",
       "Doc0    0.03    0.03    0.75    0.03    0.17               2\n",
       "Doc1    0.05    0.05    0.80    0.05    0.05               2\n",
       "Doc2    0.20    0.20    0.20    0.20    0.20               0\n",
       "Doc3    0.03    0.03    0.03    0.88    0.03               3\n",
       "Doc4    0.24    0.30    0.45    0.01    0.01               2\n",
       "Doc5    0.04    0.04    0.84    0.04    0.04               2\n",
       "Doc6    0.03    0.03    0.88    0.03    0.03               2\n",
       "Doc7    0.03    0.88    0.03    0.03    0.03               1\n",
       "Doc8    0.01    0.56    0.01    0.40    0.01               1\n",
       "Doc9    0.02    0.92    0.02    0.02    0.02               1"
      ]
     },
     "execution_count": 142,
     "metadata": {},
     "output_type": "execute_result"
    }
   ],
   "source": [
    "# reformat the output matrix\n",
    "\n",
    "topic_names = ['Topic' + str(i) for i in range(lda.n_components)]\n",
    "\n",
    "doc_names = ['Doc' + str(i) for i in range(len(data))]\n",
    "\n",
    "df_document_topic = pd.DataFrame(np.round(lda_output, 2), columns = topic_names, index = doc_names)\n",
    "\n",
    "topic = np.argmax(df_document_topic.values, axis = 1)\n",
    "df_document_topic['Dominent_Topic'] = topic\n",
    "\n",
    "df_document_topic.head(10)"
   ]
  },
  {
   "cell_type": "code",
   "execution_count": 143,
   "metadata": {},
   "outputs": [
    {
     "data": {
      "text/html": [
       "<div>\n",
       "<style>\n",
       "    .dataframe thead tr:only-child th {\n",
       "        text-align: right;\n",
       "    }\n",
       "\n",
       "    .dataframe thead th {\n",
       "        text-align: left;\n",
       "    }\n",
       "\n",
       "    .dataframe tbody tr th {\n",
       "        vertical-align: top;\n",
       "    }\n",
       "</style>\n",
       "<table border=\"1\" class=\"dataframe\">\n",
       "  <thead>\n",
       "    <tr style=\"text-align: right;\">\n",
       "      <th></th>\n",
       "      <th>Dominent_Topic</th>\n",
       "    </tr>\n",
       "  </thead>\n",
       "  <tbody>\n",
       "    <tr>\n",
       "      <th>2</th>\n",
       "      <td>404</td>\n",
       "    </tr>\n",
       "    <tr>\n",
       "      <th>1</th>\n",
       "      <td>280</td>\n",
       "    </tr>\n",
       "    <tr>\n",
       "      <th>3</th>\n",
       "      <td>122</td>\n",
       "    </tr>\n",
       "    <tr>\n",
       "      <th>0</th>\n",
       "      <td>112</td>\n",
       "    </tr>\n",
       "    <tr>\n",
       "      <th>4</th>\n",
       "      <td>82</td>\n",
       "    </tr>\n",
       "  </tbody>\n",
       "</table>\n",
       "</div>"
      ],
      "text/plain": [
       "   Dominent_Topic\n",
       "2             404\n",
       "1             280\n",
       "3             122\n",
       "0             112\n",
       "4              82"
      ]
     },
     "execution_count": 143,
     "metadata": {},
     "output_type": "execute_result"
    }
   ],
   "source": [
    "df_document_topic.Dominent_Topic.value_counts().to_frame()"
   ]
  },
  {
   "cell_type": "code",
   "execution_count": 145,
   "metadata": {},
   "outputs": [
    {
     "data": {
      "text/html": [
       "<div>\n",
       "<style>\n",
       "    .dataframe thead tr:only-child th {\n",
       "        text-align: right;\n",
       "    }\n",
       "\n",
       "    .dataframe thead th {\n",
       "        text-align: left;\n",
       "    }\n",
       "\n",
       "    .dataframe tbody tr th {\n",
       "        vertical-align: top;\n",
       "    }\n",
       "</style>\n",
       "<table border=\"1\" class=\"dataframe\">\n",
       "  <thead>\n",
       "    <tr style=\"text-align: right;\">\n",
       "      <th></th>\n",
       "      <th>'m</th>\n",
       "      <th>'s</th>\n",
       "      <th>abl</th>\n",
       "      <th>absolut</th>\n",
       "      <th>accur</th>\n",
       "      <th>actual</th>\n",
       "      <th>adjust</th>\n",
       "      <th>alarm</th>\n",
       "      <th>alreadi</th>\n",
       "      <th>alway</th>\n",
       "      <th>...</th>\n",
       "      <th>weight</th>\n",
       "      <th>went</th>\n",
       "      <th>wife</th>\n",
       "      <th>wind</th>\n",
       "      <th>wish</th>\n",
       "      <th>work</th>\n",
       "      <th>worn</th>\n",
       "      <th>worth</th>\n",
       "      <th>wrist</th>\n",
       "      <th>year</th>\n",
       "    </tr>\n",
       "  </thead>\n",
       "  <tbody>\n",
       "    <tr>\n",
       "      <th>Topic0</th>\n",
       "      <td>0.272464</td>\n",
       "      <td>1.368766</td>\n",
       "      <td>1.499517</td>\n",
       "      <td>0.201968</td>\n",
       "      <td>0.207850</td>\n",
       "      <td>0.203033</td>\n",
       "      <td>0.209825</td>\n",
       "      <td>0.300287</td>\n",
       "      <td>0.201501</td>\n",
       "      <td>0.211823</td>\n",
       "      <td>...</td>\n",
       "      <td>0.260433</td>\n",
       "      <td>0.208148</td>\n",
       "      <td>0.201728</td>\n",
       "      <td>1.082964</td>\n",
       "      <td>8.787011</td>\n",
       "      <td>13.925477</td>\n",
       "      <td>0.203792</td>\n",
       "      <td>0.204560</td>\n",
       "      <td>10.555589</td>\n",
       "      <td>0.224132</td>\n",
       "    </tr>\n",
       "    <tr>\n",
       "      <th>Topic1</th>\n",
       "      <td>25.661738</td>\n",
       "      <td>104.167916</td>\n",
       "      <td>14.234069</td>\n",
       "      <td>0.991543</td>\n",
       "      <td>7.571041</td>\n",
       "      <td>5.613886</td>\n",
       "      <td>8.314860</td>\n",
       "      <td>0.213502</td>\n",
       "      <td>0.209686</td>\n",
       "      <td>6.306562</td>\n",
       "      <td>...</td>\n",
       "      <td>9.516374</td>\n",
       "      <td>8.776156</td>\n",
       "      <td>0.221009</td>\n",
       "      <td>0.291591</td>\n",
       "      <td>0.249176</td>\n",
       "      <td>10.663478</td>\n",
       "      <td>8.472577</td>\n",
       "      <td>0.224063</td>\n",
       "      <td>34.244242</td>\n",
       "      <td>15.036197</td>\n",
       "    </tr>\n",
       "    <tr>\n",
       "      <th>Topic2</th>\n",
       "      <td>19.116206</td>\n",
       "      <td>121.512016</td>\n",
       "      <td>0.224853</td>\n",
       "      <td>0.210463</td>\n",
       "      <td>4.857151</td>\n",
       "      <td>4.643323</td>\n",
       "      <td>13.572722</td>\n",
       "      <td>14.524230</td>\n",
       "      <td>12.956628</td>\n",
       "      <td>0.219572</td>\n",
       "      <td>...</td>\n",
       "      <td>3.350004</td>\n",
       "      <td>4.347979</td>\n",
       "      <td>19.717845</td>\n",
       "      <td>0.204221</td>\n",
       "      <td>2.658769</td>\n",
       "      <td>81.235592</td>\n",
       "      <td>2.818908</td>\n",
       "      <td>6.934803</td>\n",
       "      <td>21.764754</td>\n",
       "      <td>39.830836</td>\n",
       "    </tr>\n",
       "    <tr>\n",
       "      <th>Topic3</th>\n",
       "      <td>2.843053</td>\n",
       "      <td>5.220854</td>\n",
       "      <td>0.217178</td>\n",
       "      <td>0.206322</td>\n",
       "      <td>0.205279</td>\n",
       "      <td>5.798012</td>\n",
       "      <td>0.211571</td>\n",
       "      <td>0.241653</td>\n",
       "      <td>0.209635</td>\n",
       "      <td>6.815369</td>\n",
       "      <td>...</td>\n",
       "      <td>1.832857</td>\n",
       "      <td>0.218379</td>\n",
       "      <td>0.238996</td>\n",
       "      <td>12.524306</td>\n",
       "      <td>0.210060</td>\n",
       "      <td>25.686071</td>\n",
       "      <td>1.691481</td>\n",
       "      <td>10.336100</td>\n",
       "      <td>4.323783</td>\n",
       "      <td>0.233511</td>\n",
       "    </tr>\n",
       "    <tr>\n",
       "      <th>Topic4</th>\n",
       "      <td>0.263999</td>\n",
       "      <td>0.238912</td>\n",
       "      <td>0.203184</td>\n",
       "      <td>15.826245</td>\n",
       "      <td>0.206232</td>\n",
       "      <td>0.205298</td>\n",
       "      <td>2.211088</td>\n",
       "      <td>2.272832</td>\n",
       "      <td>0.203573</td>\n",
       "      <td>0.203530</td>\n",
       "      <td>...</td>\n",
       "      <td>0.201732</td>\n",
       "      <td>0.207401</td>\n",
       "      <td>0.208325</td>\n",
       "      <td>0.201761</td>\n",
       "      <td>0.209125</td>\n",
       "      <td>0.227911</td>\n",
       "      <td>0.202153</td>\n",
       "      <td>0.204689</td>\n",
       "      <td>0.214376</td>\n",
       "      <td>0.204780</td>\n",
       "    </tr>\n",
       "  </tbody>\n",
       "</table>\n",
       "<p>5 rows × 245 columns</p>\n",
       "</div>"
      ],
      "text/plain": [
       "               'm          's        abl    absolut     accur    actual  \\\n",
       "Topic0   0.272464    1.368766   1.499517   0.201968  0.207850  0.203033   \n",
       "Topic1  25.661738  104.167916  14.234069   0.991543  7.571041  5.613886   \n",
       "Topic2  19.116206  121.512016   0.224853   0.210463  4.857151  4.643323   \n",
       "Topic3   2.843053    5.220854   0.217178   0.206322  0.205279  5.798012   \n",
       "Topic4   0.263999    0.238912   0.203184  15.826245  0.206232  0.205298   \n",
       "\n",
       "           adjust      alarm    alreadi     alway    ...        weight  \\\n",
       "Topic0   0.209825   0.300287   0.201501  0.211823    ...      0.260433   \n",
       "Topic1   8.314860   0.213502   0.209686  6.306562    ...      9.516374   \n",
       "Topic2  13.572722  14.524230  12.956628  0.219572    ...      3.350004   \n",
       "Topic3   0.211571   0.241653   0.209635  6.815369    ...      1.832857   \n",
       "Topic4   2.211088   2.272832   0.203573  0.203530    ...      0.201732   \n",
       "\n",
       "            went       wife       wind      wish       work      worn  \\\n",
       "Topic0  0.208148   0.201728   1.082964  8.787011  13.925477  0.203792   \n",
       "Topic1  8.776156   0.221009   0.291591  0.249176  10.663478  8.472577   \n",
       "Topic2  4.347979  19.717845   0.204221  2.658769  81.235592  2.818908   \n",
       "Topic3  0.218379   0.238996  12.524306  0.210060  25.686071  1.691481   \n",
       "Topic4  0.207401   0.208325   0.201761  0.209125   0.227911  0.202153   \n",
       "\n",
       "            worth      wrist       year  \n",
       "Topic0   0.204560  10.555589   0.224132  \n",
       "Topic1   0.224063  34.244242  15.036197  \n",
       "Topic2   6.934803  21.764754  39.830836  \n",
       "Topic3  10.336100   4.323783   0.233511  \n",
       "Topic4   0.204689   0.214376   0.204780  \n",
       "\n",
       "[5 rows x 245 columns]"
      ]
     },
     "execution_count": 145,
     "metadata": {},
     "output_type": "execute_result"
    }
   ],
   "source": [
    "# reformat topic word matrix\n",
    "\n",
    "df_topic_words = pd.DataFrame(lda.components_)\n",
    "\n",
    "df_topic_words.columns = tfidf_model_lda.get_feature_names()\n",
    "df_topic_words.index = topic_names\n",
    "\n",
    "df_topic_words"
   ]
  },
  {
   "cell_type": "code",
   "execution_count": 147,
   "metadata": {},
   "outputs": [
    {
     "data": {
      "text/plain": [
       "False"
      ]
     },
     "execution_count": 147,
     "metadata": {},
     "output_type": "execute_result"
    }
   ],
   "source": [
    "tfidf_model_lda.get_feature_names() = "
   ]
  },
  {
   "cell_type": "code",
   "execution_count": 163,
   "metadata": {},
   "outputs": [],
   "source": [
    "# print top n keywords for each topic\n",
    "words = np.array(tfidf_model_lda.get_feature_names())\n",
    "n_words = 15\n",
    "topic_words = []\n",
    "for topic_word_weights in lda.components_:\n",
    "    #print(topic_word_weights)\n",
    "    top_words = topic_word_weights.argsort()[::-1][:n_words]\n",
    "    topic_words.append(words.take(top_words))\n",
    "    #print('loop'+str(i)+str(topic_words))\n",
    "    \n",
    "    "
   ]
  },
  {
   "cell_type": "code",
   "execution_count": 164,
   "metadata": {},
   "outputs": [
    {
     "data": {
      "text/html": [
       "<div>\n",
       "<style>\n",
       "    .dataframe thead tr:only-child th {\n",
       "        text-align: right;\n",
       "    }\n",
       "\n",
       "    .dataframe thead th {\n",
       "        text-align: left;\n",
       "    }\n",
       "\n",
       "    .dataframe tbody tr th {\n",
       "        vertical-align: top;\n",
       "    }\n",
       "</style>\n",
       "<table border=\"1\" class=\"dataframe\">\n",
       "  <thead>\n",
       "    <tr style=\"text-align: right;\">\n",
       "      <th></th>\n",
       "      <th>Word 0</th>\n",
       "      <th>Word 1</th>\n",
       "      <th>Word 2</th>\n",
       "      <th>Word 3</th>\n",
       "      <th>Word 4</th>\n",
       "      <th>Word 5</th>\n",
       "      <th>Word 6</th>\n",
       "      <th>Word 7</th>\n",
       "      <th>Word 8</th>\n",
       "      <th>Word 9</th>\n",
       "      <th>Word 10</th>\n",
       "      <th>Word 11</th>\n",
       "      <th>Word 12</th>\n",
       "      <th>Word 13</th>\n",
       "      <th>Word 14</th>\n",
       "    </tr>\n",
       "  </thead>\n",
       "  <tbody>\n",
       "    <tr>\n",
       "      <th>Topic 0</th>\n",
       "      <td>good</td>\n",
       "      <td>br</td>\n",
       "      <td>band</td>\n",
       "      <td>far</td>\n",
       "      <td>link</td>\n",
       "      <td>featur</td>\n",
       "      <td>watch</td>\n",
       "      <td>use</td>\n",
       "      <td>size</td>\n",
       "      <td>display</td>\n",
       "      <td>remov</td>\n",
       "      <td>comfort</td>\n",
       "      <td>look</td>\n",
       "      <td>function</td>\n",
       "      <td>timex</td>\n",
       "    </tr>\n",
       "    <tr>\n",
       "      <th>Topic 1</th>\n",
       "      <td>watch</td>\n",
       "      <td>br</td>\n",
       "      <td>look</td>\n",
       "      <td>n't</td>\n",
       "      <td>great</td>\n",
       "      <td>'s</td>\n",
       "      <td>band</td>\n",
       "      <td>like</td>\n",
       "      <td>time</td>\n",
       "      <td>wear</td>\n",
       "      <td>hand</td>\n",
       "      <td>second</td>\n",
       "      <td>perfect</td>\n",
       "      <td>qualiti</td>\n",
       "      <td>buy</td>\n",
       "    </tr>\n",
       "    <tr>\n",
       "      <th>Topic 2</th>\n",
       "      <td>watch</td>\n",
       "      <td>love</td>\n",
       "      <td>nice</td>\n",
       "      <td>'s</td>\n",
       "      <td>look</td>\n",
       "      <td>work</td>\n",
       "      <td>time</td>\n",
       "      <td>great</td>\n",
       "      <td>realli</td>\n",
       "      <td>wear</td>\n",
       "      <td>read</td>\n",
       "      <td>face</td>\n",
       "      <td>band</td>\n",
       "      <td>like</td>\n",
       "      <td>good</td>\n",
       "    </tr>\n",
       "    <tr>\n",
       "      <th>Topic 3</th>\n",
       "      <td>watch</td>\n",
       "      <td>beauti</td>\n",
       "      <td>time</td>\n",
       "      <td>n't</td>\n",
       "      <td>expect</td>\n",
       "      <td>color</td>\n",
       "      <td>gift</td>\n",
       "      <td>day</td>\n",
       "      <td>want</td>\n",
       "      <td>work</td>\n",
       "      <td>make</td>\n",
       "      <td>look</td>\n",
       "      <td>purchas</td>\n",
       "      <td>dial</td>\n",
       "      <td>differ</td>\n",
       "    </tr>\n",
       "    <tr>\n",
       "      <th>Topic 4</th>\n",
       "      <td>product</td>\n",
       "      <td>excel</td>\n",
       "      <td>good</td>\n",
       "      <td>like</td>\n",
       "      <td>ship</td>\n",
       "      <td>fast</td>\n",
       "      <td>qualiti</td>\n",
       "      <td>seller</td>\n",
       "      <td>pleas</td>\n",
       "      <td>thank</td>\n",
       "      <td>price</td>\n",
       "      <td>absolut</td>\n",
       "      <td>deliveri</td>\n",
       "      <td>great</td>\n",
       "      <td>packag</td>\n",
       "    </tr>\n",
       "  </tbody>\n",
       "</table>\n",
       "</div>"
      ],
      "text/plain": [
       "          Word 0  Word 1 Word 2 Word 3  Word 4  Word 5   Word 6  Word 7  \\\n",
       "Topic 0     good      br   band    far    link  featur    watch     use   \n",
       "Topic 1    watch      br   look    n't   great      's     band    like   \n",
       "Topic 2    watch    love   nice     's    look    work     time   great   \n",
       "Topic 3    watch  beauti   time    n't  expect   color     gift     day   \n",
       "Topic 4  product   excel   good   like    ship    fast  qualiti  seller   \n",
       "\n",
       "         Word 8   Word 9 Word 10  Word 11   Word 12   Word 13 Word 14  \n",
       "Topic 0    size  display   remov  comfort      look  function   timex  \n",
       "Topic 1    time     wear    hand   second   perfect   qualiti     buy  \n",
       "Topic 2  realli     wear    read     face      band      like    good  \n",
       "Topic 3    want     work    make     look   purchas      dial  differ  \n",
       "Topic 4   pleas    thank   price  absolut  deliveri     great  packag  "
      ]
     },
     "execution_count": 164,
     "metadata": {},
     "output_type": "execute_result"
    }
   ],
   "source": [
    "df_topic_words = pd.DataFrame(topic_words)\n",
    "df_topic_words.columns = ['Word '+str(i) for i in range(df_topic_words.shape[1])]\n",
    "df_topic_words.index = ['Topic ' + str(i) for i in range(df_topic_words.shape[0])]\n",
    "df_topic_words"
   ]
  },
  {
   "cell_type": "code",
   "execution_count": null,
   "metadata": {
    "collapsed": true
   },
   "outputs": [],
   "source": []
  }
 ],
 "metadata": {
  "kernelspec": {
   "display_name": "Python 3",
   "language": "python",
   "name": "python3"
  },
  "language_info": {
   "codemirror_mode": {
    "name": "ipython",
    "version": 3
   },
   "file_extension": ".py",
   "mimetype": "text/x-python",
   "name": "python",
   "nbconvert_exporter": "python",
   "pygments_lexer": "ipython3",
   "version": "3.6.2"
  }
 },
 "nbformat": 4,
 "nbformat_minor": 2
}
