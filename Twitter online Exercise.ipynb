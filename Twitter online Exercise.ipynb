{
 "cells": [
  {
   "cell_type": "markdown",
   "metadata": {},
   "source": [
    "### Context"
   ]
  },
  {
   "cell_type": "markdown",
   "metadata": {},
   "source": [
    "Recently, there has been an increase in overspend on the plaform. To reduce the amount of overspend, team decided to create a new product where advertisers pay each time their ad appears in user's viewpoint rather than each time it is clicked on. In order to test the new product, we ran an A/B test. Half of the advertisers remained on the old product and half received the new product. the Goal of the analysis is to determine whether or not the experiment is a sucess"
   ]
  },
  {
   "cell_type": "code",
   "execution_count": 20,
   "metadata": {},
   "outputs": [],
   "source": [
    "import pandas as pd\n",
    "from pandasql import sqldf"
   ]
  },
  {
   "cell_type": "code",
   "execution_count": 2,
   "metadata": {},
   "outputs": [],
   "source": [
    "df = pd.read_excel('analytical_take_home_data_v2 .xlsx')"
   ]
  },
  {
   "cell_type": "code",
   "execution_count": 3,
   "metadata": {},
   "outputs": [
    {
     "data": {
      "text/html": [
       "<div>\n",
       "<style scoped>\n",
       "    .dataframe tbody tr th:only-of-type {\n",
       "        vertical-align: middle;\n",
       "    }\n",
       "\n",
       "    .dataframe tbody tr th {\n",
       "        vertical-align: top;\n",
       "    }\n",
       "\n",
       "    .dataframe thead th {\n",
       "        text-align: right;\n",
       "    }\n",
       "</style>\n",
       "<table border=\"1\" class=\"dataframe\">\n",
       "  <thead>\n",
       "    <tr style=\"text-align: right;\">\n",
       "      <th></th>\n",
       "      <th>treatment</th>\n",
       "      <th>company_size</th>\n",
       "      <th>campaign_spend</th>\n",
       "      <th>campaign_budget</th>\n",
       "    </tr>\n",
       "  </thead>\n",
       "  <tbody>\n",
       "    <tr>\n",
       "      <th>0</th>\n",
       "      <td>False</td>\n",
       "      <td>small</td>\n",
       "      <td>10.4477</td>\n",
       "      <td>3.9035</td>\n",
       "    </tr>\n",
       "    <tr>\n",
       "      <th>1</th>\n",
       "      <td>False</td>\n",
       "      <td>medium</td>\n",
       "      <td>3.7776</td>\n",
       "      <td>1.9872</td>\n",
       "    </tr>\n",
       "    <tr>\n",
       "      <th>2</th>\n",
       "      <td>False</td>\n",
       "      <td>medium</td>\n",
       "      <td>46.1880</td>\n",
       "      <td>55.4523</td>\n",
       "    </tr>\n",
       "    <tr>\n",
       "      <th>3</th>\n",
       "      <td>False</td>\n",
       "      <td>small</td>\n",
       "      <td>6.6271</td>\n",
       "      <td>6.5136</td>\n",
       "    </tr>\n",
       "    <tr>\n",
       "      <th>4</th>\n",
       "      <td>False</td>\n",
       "      <td>small</td>\n",
       "      <td>92.3405</td>\n",
       "      <td>83.1018</td>\n",
       "    </tr>\n",
       "  </tbody>\n",
       "</table>\n",
       "</div>"
      ],
      "text/plain": [
       "   treatment company_size  campaign_spend  campaign_budget\n",
       "0      False        small         10.4477           3.9035\n",
       "1      False       medium          3.7776           1.9872\n",
       "2      False       medium         46.1880          55.4523\n",
       "3      False        small          6.6271           6.5136\n",
       "4      False        small         92.3405          83.1018"
      ]
     },
     "execution_count": 3,
     "metadata": {},
     "output_type": "execute_result"
    }
   ],
   "source": [
    "df.head()"
   ]
  },
  {
   "cell_type": "code",
   "execution_count": 17,
   "metadata": {},
   "outputs": [
    {
     "name": "stdout",
     "output_type": "stream",
     "text": [
      "There are total 15474 samples in the dataset\n",
      "\n",
      "treatment\n",
      "False    7733\n",
      "True     7741\n",
      "Name: campaign_budget, dtype: int64\n",
      "\n",
      "Samples are evenly divided into test and control\n"
     ]
    }
   ],
   "source": [
    "print('There are total ' + str(df.shape[0]) + ' samples in the dataset')\n",
    "print('')\n",
    "tc_cnt = df.groupby(by = 'treatment').count().campaign_budget\n",
    "print(tc_cnt)\n",
    "print('')\n",
    "print('Samples are evenly divided into test and control')"
   ]
  },
  {
   "cell_type": "markdown",
   "metadata": {},
   "source": [
    "### Question 1 - How many campaigns have overspend of greater than 1% of their budget in the control group? in the treatment group?"
   ]
  },
  {
   "cell_type": "code",
   "execution_count": 18,
   "metadata": {},
   "outputs": [
    {
     "data": {
      "text/html": [
       "<div>\n",
       "<style scoped>\n",
       "    .dataframe tbody tr th:only-of-type {\n",
       "        vertical-align: middle;\n",
       "    }\n",
       "\n",
       "    .dataframe tbody tr th {\n",
       "        vertical-align: top;\n",
       "    }\n",
       "\n",
       "    .dataframe thead th {\n",
       "        text-align: right;\n",
       "    }\n",
       "</style>\n",
       "<table border=\"1\" class=\"dataframe\">\n",
       "  <thead>\n",
       "    <tr style=\"text-align: right;\">\n",
       "      <th></th>\n",
       "      <th>treatment</th>\n",
       "      <th>company_size</th>\n",
       "      <th>campaign_spend</th>\n",
       "      <th>campaign_budget</th>\n",
       "      <th>over_spend</th>\n",
       "    </tr>\n",
       "  </thead>\n",
       "  <tbody>\n",
       "    <tr>\n",
       "      <th>0</th>\n",
       "      <td>False</td>\n",
       "      <td>small</td>\n",
       "      <td>10.4477</td>\n",
       "      <td>3.9035</td>\n",
       "      <td>1.676495</td>\n",
       "    </tr>\n",
       "    <tr>\n",
       "      <th>1</th>\n",
       "      <td>False</td>\n",
       "      <td>medium</td>\n",
       "      <td>3.7776</td>\n",
       "      <td>1.9872</td>\n",
       "      <td>0.900966</td>\n",
       "    </tr>\n",
       "    <tr>\n",
       "      <th>2</th>\n",
       "      <td>False</td>\n",
       "      <td>medium</td>\n",
       "      <td>46.1880</td>\n",
       "      <td>55.4523</td>\n",
       "      <td>-0.167068</td>\n",
       "    </tr>\n",
       "    <tr>\n",
       "      <th>3</th>\n",
       "      <td>False</td>\n",
       "      <td>small</td>\n",
       "      <td>6.6271</td>\n",
       "      <td>6.5136</td>\n",
       "      <td>0.017425</td>\n",
       "    </tr>\n",
       "    <tr>\n",
       "      <th>4</th>\n",
       "      <td>False</td>\n",
       "      <td>small</td>\n",
       "      <td>92.3405</td>\n",
       "      <td>83.1018</td>\n",
       "      <td>0.111173</td>\n",
       "    </tr>\n",
       "  </tbody>\n",
       "</table>\n",
       "</div>"
      ],
      "text/plain": [
       "   treatment company_size  campaign_spend  campaign_budget  over_spend\n",
       "0      False        small         10.4477           3.9035    1.676495\n",
       "1      False       medium          3.7776           1.9872    0.900966\n",
       "2      False       medium         46.1880          55.4523   -0.167068\n",
       "3      False        small          6.6271           6.5136    0.017425\n",
       "4      False        small         92.3405          83.1018    0.111173"
      ]
     },
     "execution_count": 18,
     "metadata": {},
     "output_type": "execute_result"
    }
   ],
   "source": [
    "df['over_spend'] = (df.campaign_spend - df.campaign_budget) / df.campaign_budget\n",
    "df.head()"
   ]
  },
  {
   "cell_type": "code",
   "execution_count": 138,
   "metadata": {},
   "outputs": [
    {
     "data": {
      "text/plain": [
       "treatment                int64\n",
       "Total Campaigns          int64\n",
       "# Campaigns Overspend    int64\n",
       "dtype: object"
      ]
     },
     "execution_count": 138,
     "metadata": {},
     "output_type": "execute_result"
    }
   ],
   "source": [
    "q1_output.dtypes"
   ]
  },
  {
   "cell_type": "code",
   "execution_count": 141,
   "metadata": {},
   "outputs": [
    {
     "data": {
      "text/html": [
       "<div>\n",
       "<style scoped>\n",
       "    .dataframe tbody tr th:only-of-type {\n",
       "        vertical-align: middle;\n",
       "    }\n",
       "\n",
       "    .dataframe tbody tr th {\n",
       "        vertical-align: top;\n",
       "    }\n",
       "\n",
       "    .dataframe thead tr th {\n",
       "        text-align: left;\n",
       "    }\n",
       "</style>\n",
       "<table border=\"1\" class=\"dataframe\">\n",
       "  <thead>\n",
       "    <tr>\n",
       "      <th></th>\n",
       "      <th>treatment</th>\n",
       "      <th>Total Campaigns</th>\n",
       "      <th># Campaigns Overspend</th>\n",
       "    </tr>\n",
       "  </thead>\n",
       "  <tbody>\n",
       "    <tr>\n",
       "      <th>0</th>\n",
       "      <td>0</td>\n",
       "      <td>7733</td>\n",
       "      <td>5716</td>\n",
       "    </tr>\n",
       "    <tr>\n",
       "      <th>1</th>\n",
       "      <td>1</td>\n",
       "      <td>7741</td>\n",
       "      <td>5180</td>\n",
       "    </tr>\n",
       "  </tbody>\n",
       "</table>\n",
       "</div>"
      ],
      "text/plain": [
       "  treatment Total Campaigns # Campaigns Overspend\n",
       "0         0            7733                  5716\n",
       "1         1            7741                  5180"
      ]
     },
     "execution_count": 141,
     "metadata": {},
     "output_type": "execute_result"
    }
   ],
   "source": [
    "query = \"\"\"\n",
    "select treatment, count(*) as Total_Campaigns,\n",
    "    sum(case when over_spend > 0.01 then 1 else 0 end) as overspends\n",
    "from df\n",
    "group by 1\n",
    "\"\"\"\n",
    "\n",
    "q1_output = sqldf(query)\n",
    "q1_output.columns = [['treatment','Total Campaigns', '# Campaigns Overspend']]\n",
    "\n",
    "q1_output\n",
    "\n"
   ]
  },
  {
   "cell_type": "code",
   "execution_count": 158,
   "metadata": {},
   "outputs": [
    {
     "name": "stdout",
     "output_type": "stream",
     "text": [
      "Treatment Group has % Overspend: 0.6691641906730397\n",
      "Control Group has % Overspend: 0.7391697918013708\n",
      "The difference between two groups are 0.10461647844293649\n"
     ]
    }
   ],
   "source": [
    "print('Treatment Group has % Overspend: ' + str(5180/7741))\n",
    "print('Control Group has % Overspend: ' + str(5716/7733))\n",
    "print('The difference between two groups are ' + str((0.7391697918013708 - 0.6691641906730397)/0.6691641906730397))"
   ]
  },
  {
   "cell_type": "markdown",
   "metadata": {},
   "source": [
    "Total 3342 (43%) campaigns using the old product have overspent greater than 1% comparing to only 2972 (38%) in treatment group"
   ]
  },
  {
   "cell_type": "code",
   "execution_count": 144,
   "metadata": {},
   "outputs": [
    {
     "name": "stdout",
     "output_type": "stream",
     "text": [
      "computing 95% Confidence Interval....\n",
      "Confidence Interval for Treatment Group: (0.6586825289556402, 0.6796458523904392)\n",
      "Confidence Interval for Control Group: (0.7293831630214129, 0.7489564205813286)\n",
      " \n",
      "Significant @95%\n"
     ]
    }
   ],
   "source": [
    "print(\"computing 95% Confidence Interval....\")\n",
    "print(\"Confidence Interval for Treatment Group: (\" + str(5180/7741 - 1.96*np.sqrt(5180/7741*(1-5180/7741)/7741)) + \", \" + str(5180/7741 + 1.96*np.sqrt(5180/7741*(1-5180/7741)/7741)) + \")\")\n",
    "print(\"Confidence Interval for Control Group: (\" + str(5716/7733 - 1.96*np.sqrt(5716/7733*(1-5716/7733)/7733)) + \", \" + str(5716/7733 + 1.96*np.sqrt(5716/7733*(1-5716/7733)/7733)) + \")\")\n",
    "print(\" \")\n",
    "print(\"Significant @95%\")\n"
   ]
  },
  {
   "cell_type": "markdown",
   "metadata": {},
   "source": [
    "### Question 2 - Was the new product effective at reducing overspend, and was it more or less effective depending on the company size? Put together an analysis describing how the treatment affected overspend"
   ]
  },
  {
   "cell_type": "code",
   "execution_count": 42,
   "metadata": {},
   "outputs": [],
   "source": [
    "small_companies = df[df.company_size == 'small']\n",
    "medium_companies = df[df.company_size == 'medium']\n",
    "large_companies = df[df.company_size == 'large']"
   ]
  },
  {
   "cell_type": "code",
   "execution_count": 46,
   "metadata": {},
   "outputs": [
    {
     "name": "stdout",
     "output_type": "stream",
     "text": [
      "Total 8901 small companies in the sample\n",
      "treatment\n",
      "False    4297\n",
      "True     4604\n",
      "Name: campaign_budget, dtype: int64\n",
      "samples are evenly divided into test and contorl in small companies\n",
      "\n",
      "Total 1427 medium companies in the sample\n",
      "treatment\n",
      "False    735\n",
      "True     692\n",
      "Name: campaign_budget, dtype: int64\n",
      "samples are evenly divided into test and contorl in medium companies\n",
      "\n",
      "Total 5146 large companies in the sample\n",
      "treatment\n",
      "False    2701\n",
      "True     2445\n",
      "Name: campaign_budget, dtype: int64\n",
      "samples are evenly divided into test and contorl in large companies\n"
     ]
    }
   ],
   "source": [
    "print('Total ' + str(small_companies.shape[0]) + ' small companies in the sample')\n",
    "print(small_companies.groupby(by = 'treatment').count().campaign_budget)\n",
    "print('samples are evenly divided into test and contorl in small companies')\n",
    "\n",
    "print('')\n",
    "print('Total ' + str(medium_companies.shape[0]) + ' medium companies in the sample')\n",
    "print(medium_companies.groupby(by = 'treatment').count().campaign_budget)\n",
    "print('samples are evenly divided into test and contorl in medium companies')\n",
    "\n",
    "print('')\n",
    "print('Total ' + str(large_companies.shape[0]) + ' large companies in the sample')\n",
    "print(large_companies.groupby(by = 'treatment').count().campaign_budget)\n",
    "print('samples are evenly divided into test and contorl in large companies')"
   ]
  },
  {
   "cell_type": "markdown",
   "metadata": {},
   "source": [
    "#### Small Companies"
   ]
  },
  {
   "cell_type": "code",
   "execution_count": 176,
   "metadata": {},
   "outputs": [
    {
     "data": {
      "text/plain": [
       "<matplotlib.legend.Legend at 0x1a22172908>"
      ]
     },
     "execution_count": 176,
     "metadata": {},
     "output_type": "execute_result"
    },
    {
     "data": {
      "image/png": "[encoded data removed]",
      "text/plain": [
       "<Figure size 432x288 with 1 Axes>"
      ]
     },
     "metadata": {
      "needs_background": "light"
     },
     "output_type": "display_data"
    }
   ],
   "source": [
    "%matplotlib inline\n",
    "import matplotlib.pyplot as plt\n",
    "import seaborn as sns\n",
    "\n",
    "sns.distplot(small_companies[(small_companies.treatment == 1) & (small_companies.over_spend <1)].over_spend, label = 'Treatment')\n",
    "sns.distplot(small_companies[(small_companies.treatment == 0) & (small_companies.over_spend <1)].over_spend, label = 'Control')\n",
    "plt.legend()"
   ]
  },
  {
   "cell_type": "markdown",
   "metadata": {},
   "source": [
    "From chart, it seems more campaigns in Treatment group are with overspend ratio less than 0.01. "
   ]
  },
  {
   "cell_type": "code",
   "execution_count": 148,
   "metadata": {},
   "outputs": [
    {
     "data": {
      "text/html": [
       "<div>\n",
       "<style scoped>\n",
       "    .dataframe tbody tr th:only-of-type {\n",
       "        vertical-align: middle;\n",
       "    }\n",
       "\n",
       "    .dataframe tbody tr th {\n",
       "        vertical-align: top;\n",
       "    }\n",
       "\n",
       "    .dataframe thead tr th {\n",
       "        text-align: left;\n",
       "    }\n",
       "</style>\n",
       "<table border=\"1\" class=\"dataframe\">\n",
       "  <thead>\n",
       "    <tr>\n",
       "      <th></th>\n",
       "      <th>treatment</th>\n",
       "      <th>Total Campaigns</th>\n",
       "      <th># Campaigns Overspend</th>\n",
       "    </tr>\n",
       "  </thead>\n",
       "  <tbody>\n",
       "    <tr>\n",
       "      <th>0</th>\n",
       "      <td>0</td>\n",
       "      <td>4297</td>\n",
       "      <td>3389</td>\n",
       "    </tr>\n",
       "    <tr>\n",
       "      <th>1</th>\n",
       "      <td>1</td>\n",
       "      <td>4604</td>\n",
       "      <td>3262</td>\n",
       "    </tr>\n",
       "  </tbody>\n",
       "</table>\n",
       "</div>"
      ],
      "text/plain": [
       "  treatment Total Campaigns # Campaigns Overspend\n",
       "0         0            4297                  3389\n",
       "1         1            4604                  3262"
      ]
     },
     "execution_count": 148,
     "metadata": {},
     "output_type": "execute_result"
    }
   ],
   "source": [
    "query = \"\"\"\n",
    "select treatment, count(*) as Total_Campaigns,\n",
    "    sum(case when over_spend > 0.01 then 1 else 0 end) as overspends\n",
    "from small_companies\n",
    "group by 1\n",
    "\"\"\"\n",
    "\n",
    "q2_small = sqldf(query)\n",
    "q2_small.columns = [['treatment','Total Campaigns', '# Campaigns Overspend']]\n",
    "\n",
    "q2_small\n",
    "\n"
   ]
  },
  {
   "cell_type": "code",
   "execution_count": 157,
   "metadata": {},
   "outputs": [
    {
     "name": "stdout",
     "output_type": "stream",
     "text": [
      "small companies\n",
      "with old product, over spend rate is 0.7886897835699325\n",
      "with new product, over spend rate is 0.7082066869300911\n",
      "The difference between the two groups are 0.11364351413951844\n"
     ]
    }
   ],
   "source": [
    "print ('small companies')\n",
    "print('with old product, over spend rate is ' + str(3389/4297))\n",
    "print('with new product, over spend rate is ' + str(3262 / 4606))\n",
    "print('The difference between the two groups are '+ str((0.7886897835699325 - 0.7082066869300911)/0.7082066869300911))"
   ]
  },
  {
   "cell_type": "code",
   "execution_count": 150,
   "metadata": {},
   "outputs": [
    {
     "name": "stdout",
     "output_type": "stream",
     "text": [
      "computing 95% Confidence Interval....\n",
      "Confidence Interval for Treatment Group: (0.6950782874390011, 0.7213350864211812)\n",
      "Confidence Interval for Control Group: (0.776483407405195, 0.80089615973467)\n",
      " \n",
      "Significant @95%\n"
     ]
    }
   ],
   "source": [
    "print(\"computing 95% Confidence Interval....\")\n",
    "print(\"Confidence Interval for Treatment Group: (\" + str(3262 / 4606 - 1.96*np.sqrt(3262 / 4606*(1-3262 / 4606)/4606)) + \", \" + str(3262 / 4606 + 1.96*np.sqrt(3262 / 4606*(1-3262 / 4606)/4606)) + \")\")\n",
    "print(\"Confidence Interval for Control Group: (\" + str(3389/4297 - 1.96*np.sqrt(3389/4297*(1-3389/4297)/4297)) + \", \" + str(3389/4297 + 1.96*np.sqrt(3389/4297*(1-3389/4297)/4297)) + \")\")\n",
    "print(\" \")\n",
    "print(\"Significant @95%\")\n"
   ]
  },
  {
   "cell_type": "markdown",
   "metadata": {},
   "source": [
    "#### Medium Companies"
   ]
  },
  {
   "cell_type": "code",
   "execution_count": 179,
   "metadata": {},
   "outputs": [
    {
     "data": {
      "text/plain": [
       "<matplotlib.legend.Legend at 0x1a224a7780>"
      ]
     },
     "execution_count": 179,
     "metadata": {},
     "output_type": "execute_result"
    },
    {
     "data": {
      "image/png": "[encoded data removed]",
      "text/plain": [
       "<Figure size 432x288 with 1 Axes>"
      ]
     },
     "metadata": {
      "needs_background": "light"
     },
     "output_type": "display_data"
    }
   ],
   "source": [
    "%matplotlib inline\n",
    "import matplotlib.pyplot as plt\n",
    "import seaborn as sns\n",
    "\n",
    "sns.distplot(medium_companies[(medium_companies.treatment == 1)  ].over_spend, norm_hist = True, label = 'Treatment')\n",
    "sns.distplot(medium_companies[(medium_companies.treatment == 0) ].over_spend, norm_hist = True, label = 'Control')\n",
    "\n",
    "plt.legend()"
   ]
  },
  {
   "cell_type": "markdown",
   "metadata": {},
   "source": [
    "From Chart, it seems more camapaigns from Control group with overspend ratio clustering close to 0"
   ]
  },
  {
   "cell_type": "code",
   "execution_count": 154,
   "metadata": {},
   "outputs": [
    {
     "data": {
      "text/html": [
       "<div>\n",
       "<style scoped>\n",
       "    .dataframe tbody tr th:only-of-type {\n",
       "        vertical-align: middle;\n",
       "    }\n",
       "\n",
       "    .dataframe tbody tr th {\n",
       "        vertical-align: top;\n",
       "    }\n",
       "\n",
       "    .dataframe thead tr th {\n",
       "        text-align: left;\n",
       "    }\n",
       "</style>\n",
       "<table border=\"1\" class=\"dataframe\">\n",
       "  <thead>\n",
       "    <tr>\n",
       "      <th></th>\n",
       "      <th>treatment</th>\n",
       "      <th>Total Campaigns</th>\n",
       "      <th># Campaigns Overspend</th>\n",
       "    </tr>\n",
       "  </thead>\n",
       "  <tbody>\n",
       "    <tr>\n",
       "      <th>0</th>\n",
       "      <td>0</td>\n",
       "      <td>735</td>\n",
       "      <td>452</td>\n",
       "    </tr>\n",
       "    <tr>\n",
       "      <th>1</th>\n",
       "      <td>1</td>\n",
       "      <td>692</td>\n",
       "      <td>414</td>\n",
       "    </tr>\n",
       "  </tbody>\n",
       "</table>\n",
       "</div>"
      ],
      "text/plain": [
       "  treatment Total Campaigns # Campaigns Overspend\n",
       "0         0             735                   452\n",
       "1         1             692                   414"
      ]
     },
     "execution_count": 154,
     "metadata": {},
     "output_type": "execute_result"
    }
   ],
   "source": [
    "query = \"\"\"\n",
    "select treatment, count(*) as Total_Campaigns,\n",
    "    sum(case when over_spend > 0.01 then 1 else 0 end) as overspends\n",
    "from medium_companies\n",
    "group by 1\n",
    "\"\"\"\n",
    "\n",
    "q2_medium = sqldf(query)\n",
    "q2_medium.columns = [['treatment','Total Campaigns', '# Campaigns Overspend']]\n",
    "\n",
    "q2_medium\n",
    "\n"
   ]
  },
  {
   "cell_type": "code",
   "execution_count": 156,
   "metadata": {},
   "outputs": [
    {
     "name": "stdout",
     "output_type": "stream",
     "text": [
      "medium companies\n",
      "with old product, over spend rate is 0.6149659863945578\n",
      "with new product, over spend rate is 0.5982658959537572\n",
      "The difference between the two groups is 0.027914160833415434\n"
     ]
    }
   ],
   "source": [
    "print ('medium companies')\n",
    "print('with old product, over spend rate is ' + str(452/(735)))\n",
    "print('with new product, over spend rate is ' + str(414 / (692)))\n",
    "print('The difference between the two groups is '+ str((0.6149659863945578 - 0.5982658959537572)/0.5982658959537572))"
   ]
  },
  {
   "cell_type": "code",
   "execution_count": 186,
   "metadata": {},
   "outputs": [
    {
     "name": "stdout",
     "output_type": "stream",
     "text": [
      "computing 95% Confidence Interval....\n",
      "Confidence Interval for Treatment Group: (0.5617384339061047, 0.6347933580014098)\n",
      "Confidence Interval for Control Group: (0.5797866617443883, 0.6501453110447273)\n",
      " \n",
      "Not Significant @95%\n"
     ]
    }
   ],
   "source": [
    "print(\"computing 95% Confidence Interval....\")\n",
    "print(\"Confidence Interval for Treatment Group: (\" + str(414 / (692) - 1.96*np.sqrt(414 / (692)*(1-414 / (692))/692)) + \", \" + str(414 / (692) + 1.96*np.sqrt(414 / (692)*(1-414 / (692))/692)) + \")\")\n",
    "print(\"Confidence Interval for Control Group: (\" + str(452/(735) - 1.96*np.sqrt(452/(735)*(1-452/(735))/735)) + \", \" + str(452/(735) + 1.96*np.sqrt(452/(735)*(1-452/(735))/735)) + \")\")\n",
    "print(\" \")\n",
    "print(\"Not Significant @95%\")\n"
   ]
  },
  {
   "cell_type": "code",
   "execution_count": 66,
   "metadata": {},
   "outputs": [
    {
     "name": "stdout",
     "output_type": "stream",
     "text": [
      "lower bound is: 0.27061198566459976\n",
      "upper bound is: 0.3363297926256196\n"
     ]
    }
   ],
   "source": [
    "print('lower bound is: ' + str(211/692 - 1.96 * np.sqrt(211/692 * (1-211/692)/692)))\n",
    "print('upper bound is: ' + str(211/692 + 1.96 * np.sqrt(188/735 * (1-211/692)/692)))"
   ]
  },
  {
   "cell_type": "markdown",
   "metadata": {},
   "source": [
    "#### Large Companies"
   ]
  },
  {
   "cell_type": "code",
   "execution_count": 181,
   "metadata": {},
   "outputs": [
    {
     "data": {
      "text/plain": [
       "<matplotlib.legend.Legend at 0x1a22ad6b00>"
      ]
     },
     "execution_count": 181,
     "metadata": {},
     "output_type": "execute_result"
    },
    {
     "data": {
      "image/png": "[encoded data removed]",
      "text/plain": [
       "<Figure size 432x288 with 1 Axes>"
      ]
     },
     "metadata": {
      "needs_background": "light"
     },
     "output_type": "display_data"
    }
   ],
   "source": [
    "%matplotlib inline\n",
    "import matplotlib.pyplot as plt\n",
    "import seaborn as sns\n",
    "\n",
    "sns.distplot(large_companies[(large_companies.treatment == 1) & (large_companies.over_spend <1)].over_spend, norm_hist = True, label = 'Treatment')\n",
    "sns.distplot(large_companies[(large_companies.treatment == 0) & (large_companies.over_spend <1)].over_spend, norm_hist = True, label = 'Control')\n",
    "\n",
    "plt.legend()"
   ]
  },
  {
   "cell_type": "code",
   "execution_count": 182,
   "metadata": {},
   "outputs": [
    {
     "data": {
      "text/html": [
       "<div>\n",
       "<style scoped>\n",
       "    .dataframe tbody tr th:only-of-type {\n",
       "        vertical-align: middle;\n",
       "    }\n",
       "\n",
       "    .dataframe tbody tr th {\n",
       "        vertical-align: top;\n",
       "    }\n",
       "\n",
       "    .dataframe thead tr th {\n",
       "        text-align: left;\n",
       "    }\n",
       "</style>\n",
       "<table border=\"1\" class=\"dataframe\">\n",
       "  <thead>\n",
       "    <tr>\n",
       "      <th></th>\n",
       "      <th>treatment</th>\n",
       "      <th>Total Campaigns</th>\n",
       "      <th># Campaigns Overspend</th>\n",
       "    </tr>\n",
       "  </thead>\n",
       "  <tbody>\n",
       "    <tr>\n",
       "      <th>0</th>\n",
       "      <td>0</td>\n",
       "      <td>2701</td>\n",
       "      <td>1875</td>\n",
       "    </tr>\n",
       "    <tr>\n",
       "      <th>1</th>\n",
       "      <td>1</td>\n",
       "      <td>2445</td>\n",
       "      <td>1504</td>\n",
       "    </tr>\n",
       "  </tbody>\n",
       "</table>\n",
       "</div>"
      ],
      "text/plain": [
       "  treatment Total Campaigns # Campaigns Overspend\n",
       "0         0            2701                  1875\n",
       "1         1            2445                  1504"
      ]
     },
     "execution_count": 182,
     "metadata": {},
     "output_type": "execute_result"
    }
   ],
   "source": [
    "query = \"\"\"\n",
    "select treatment, count(*) as Total_Campaigns,\n",
    "    sum(case when over_spend > 0.01 then 1 else 0 end) as overspends\n",
    "from large_companies\n",
    "group by 1\n",
    "\"\"\"\n",
    "\n",
    "q2_large = sqldf(query)\n",
    "q2_large.columns = [['treatment','Total Campaigns', '# Campaigns Overspend']]\n",
    "\n",
    "q2_large\n",
    "\n"
   ]
  },
  {
   "cell_type": "code",
   "execution_count": 187,
   "metadata": {},
   "outputs": [
    {
     "name": "stdout",
     "output_type": "stream",
     "text": [
      "large companies\n",
      "with old product, over spend rate is 0.6941873380229545\n",
      "with new product, over spend rate is 0.6151329243353784\n",
      "The difference between the two groups are 0.12851598501736947\n"
     ]
    }
   ],
   "source": [
    "print ('large companies')\n",
    "print('with old product, over spend rate is ' + str(1875/2701))\n",
    "print('with new product, over spend rate is ' + str(1504 / 2445))\n",
    "\n",
    "print('The difference between the two groups are '+ str((0.6941873380229545 - 0.6151329243353784)/0.6151329243353784))"
   ]
  },
  {
   "cell_type": "code",
   "execution_count": 189,
   "metadata": {},
   "outputs": [
    {
     "name": "stdout",
     "output_type": "stream",
     "text": [
      "computing 95% Confidence Interval....\n",
      "Confidence Interval for Treatment Group: (0.5958462873599566, 0.6344195613108001)\n",
      "Confidence Interval for Control Group: (0.6768109360463195, 0.7115637399995896)\n",
      " \n",
      "Significant Significant @95%\n"
     ]
    }
   ],
   "source": [
    "print(\"computing 95% Confidence Interval....\")\n",
    "print(\"Confidence Interval for Treatment Group: (\" + str(1504 / 2445 - 1.96*np.sqrt(1504 / 2445*(1-1504 / 2445)/2445)) + \", \" + str(1504 / 2445 + 1.96*np.sqrt(1504 / 2445*(1-1504 / 2445)/2445)) + \")\")\n",
    "print(\"Confidence Interval for Control Group: (\" + str(1875/2701 - 1.96*np.sqrt(1875/2701*(1-1875/2701)/2701)) + \", \" + str(1875/2701 + 1.96*np.sqrt(1875/2701*(1-1875/2701)/2701)) + \")\")\n",
    "print(\" \")\n",
    "print(\"Significant Significant @95%\")\n"
   ]
  },
  {
   "cell_type": "code",
   "execution_count": 69,
   "metadata": {},
   "outputs": [
    {
     "name": "stdout",
     "output_type": "stream",
     "text": [
      "lower bound is: 0.24833703638506163\n",
      "upper bound is: 0.2833603051282308\n"
     ]
    }
   ],
   "source": [
    "print('lower bound is: ' + str(650/2445 - 1.96 * np.sqrt(650/2445 * (1-650/2445)/2445)))\n",
    "print('upper bound is: ' + str(650/2445 + 1.96 * np.sqrt(650/2445 * (1-650/2445)/2445)))"
   ]
  },
  {
   "cell_type": "markdown",
   "metadata": {},
   "source": [
    "### Question 3 - A product manager on the team is concerned that certain advertisers in the treatment group are entering lower budgets because they are wary of the new product. Provide some evvidence to support their suspicions, or show that any differences in budgets are likely due to random fluctuations"
   ]
  },
  {
   "cell_type": "code",
   "execution_count": 190,
   "metadata": {},
   "outputs": [
    {
     "data": {
      "text/plain": [
       "<matplotlib.legend.Legend at 0x1a22d170f0>"
      ]
     },
     "execution_count": 190,
     "metadata": {},
     "output_type": "execute_result"
    },
    {
     "data": {
      "image/png": "[encoded data removed]",
      "text/plain": [
       "<Figure size 432x288 with 1 Axes>"
      ]
     },
     "metadata": {
      "needs_background": "light"
     },
     "output_type": "display_data"
    }
   ],
   "source": [
    "%matplotlib inline\n",
    "import matplotlib.pyplot as plt\n",
    "import seaborn as sns\n",
    "\n",
    "sns.distplot(small_companies[(small_companies.treatment == 1)&(small_companies.campaign_budget < 20)].campaign_budget, label = 'Treatment')\n",
    "sns.distplot(small_companies[(small_companies.treatment == 0)&(small_companies.campaign_budget < 20)].campaign_budget, label = 'Contro')\n",
    "\n",
    "plt.legend()"
   ]
  },
  {
   "cell_type": "code",
   "execution_count": 74,
   "metadata": {},
   "outputs": [
    {
     "data": {
      "text/plain": [
       "treatment\n",
       "False    3538.655751\n",
       "True     1585.479895\n",
       "Name: campaign_budget, dtype: float64"
      ]
     },
     "execution_count": 74,
     "metadata": {},
     "output_type": "execute_result"
    }
   ],
   "source": [
    "small_companies.groupby(by = 'treatment').mean().campaign_budget"
   ]
  },
  {
   "cell_type": "code",
   "execution_count": 191,
   "metadata": {},
   "outputs": [
    {
     "data": {
      "text/plain": [
       "treatment\n",
       "False    28.98920\n",
       "True     20.28825\n",
       "Name: campaign_budget, dtype: float64"
      ]
     },
     "execution_count": 191,
     "metadata": {},
     "output_type": "execute_result"
    }
   ],
   "source": [
    "small_companies.groupby(by = 'treatment').median().campaign_budget"
   ]
  },
  {
   "cell_type": "code",
   "execution_count": 78,
   "metadata": {},
   "outputs": [
    {
     "data": {
      "text/plain": [
       "treatment\n",
       "False    2.528770e+09\n",
       "True     1.542813e+08\n",
       "Name: campaign_budget, dtype: float64"
      ]
     },
     "execution_count": 78,
     "metadata": {},
     "output_type": "execute_result"
    }
   ],
   "source": [
    "small_companies.groupby(by = 'treatment').var().campaign_budget"
   ]
  },
  {
   "cell_type": "code",
   "execution_count": 67,
   "metadata": {},
   "outputs": [
    {
     "name": "stdout",
     "output_type": "stream",
     "text": [
      "calculating Z value...\n",
      "-2.4765308721886394\n",
      "significat @95%\n"
     ]
    }
   ],
   "source": [
    "print('calculating Z value...')\n",
    "Z = (1585.479895 - 3538.655751) / np.sqrt(2.528770e+09 / 4297 + 1.542813e+08 / 4604)\n",
    "print(Z)\n",
    "print('significat @95%')"
   ]
  },
  {
   "cell_type": "code",
   "execution_count": 192,
   "metadata": {},
   "outputs": [
    {
     "data": {
      "text/plain": [
       "<matplotlib.legend.Legend at 0x1a22eaa438>"
      ]
     },
     "execution_count": 192,
     "metadata": {},
     "output_type": "execute_result"
    },
    {
     "data": {
      "image/png": "[encoded data removed]",
      "text/plain": [
       "<Figure size 432x288 with 1 Axes>"
      ]
     },
     "metadata": {
      "needs_background": "light"
     },
     "output_type": "display_data"
    }
   ],
   "source": [
    "%matplotlib inline\n",
    "import matplotlib.pyplot as plt\n",
    "import seaborn as sns\n",
    "\n",
    "sns.distplot(large_companies[(large_companies.treatment == 1)&(large_companies.campaign_budget < 80)].campaign_budget, label = 'Treatment')\n",
    "sns.distplot(large_companies[(large_companies.treatment == 0)&(large_companies.campaign_budget < 80)].campaign_budget, label = 'Control')\n",
    "\n",
    "plt.legend()\n"
   ]
  },
  {
   "cell_type": "code",
   "execution_count": 88,
   "metadata": {},
   "outputs": [
    {
     "data": {
      "text/plain": [
       "treatment\n",
       "False     5933.969190\n",
       "True     17561.826014\n",
       "Name: campaign_budget, dtype: float64"
      ]
     },
     "execution_count": 88,
     "metadata": {},
     "output_type": "execute_result"
    }
   ],
   "source": [
    "large_companies.groupby(by = 'treatment').mean().campaign_budget"
   ]
  },
  {
   "cell_type": "code",
   "execution_count": 83,
   "metadata": {},
   "outputs": [
    {
     "data": {
      "text/plain": [
       "treatment\n",
       "False    145.3752\n",
       "True     129.8792\n",
       "Name: campaign_budget, dtype: float64"
      ]
     },
     "execution_count": 83,
     "metadata": {},
     "output_type": "execute_result"
    }
   ],
   "source": [
    "large_companies.groupby(by = 'treatment').median().campaign_budget"
   ]
  },
  {
   "cell_type": "code",
   "execution_count": 202,
   "metadata": {},
   "outputs": [
    {
     "data": {
      "text/html": [
       "<div>\n",
       "<style scoped>\n",
       "    .dataframe tbody tr th:only-of-type {\n",
       "        vertical-align: middle;\n",
       "    }\n",
       "\n",
       "    .dataframe tbody tr th {\n",
       "        vertical-align: top;\n",
       "    }\n",
       "\n",
       "    .dataframe thead th {\n",
       "        text-align: right;\n",
       "    }\n",
       "</style>\n",
       "<table border=\"1\" class=\"dataframe\">\n",
       "  <thead>\n",
       "    <tr style=\"text-align: right;\">\n",
       "      <th></th>\n",
       "      <th>treatment</th>\n",
       "      <th>company_size</th>\n",
       "      <th>campaign_spend</th>\n",
       "      <th>campaign_budget</th>\n",
       "      <th>over_spend</th>\n",
       "    </tr>\n",
       "  </thead>\n",
       "  <tbody>\n",
       "    <tr>\n",
       "      <th>6</th>\n",
       "      <td>False</td>\n",
       "      <td>large</td>\n",
       "      <td>411.0601</td>\n",
       "      <td>404.3652</td>\n",
       "      <td>0.016557</td>\n",
       "    </tr>\n",
       "    <tr>\n",
       "      <th>11</th>\n",
       "      <td>False</td>\n",
       "      <td>large</td>\n",
       "      <td>48001.4263</td>\n",
       "      <td>43440.5670</td>\n",
       "      <td>0.104991</td>\n",
       "    </tr>\n",
       "    <tr>\n",
       "      <th>12</th>\n",
       "      <td>False</td>\n",
       "      <td>large</td>\n",
       "      <td>105.8338</td>\n",
       "      <td>88.5289</td>\n",
       "      <td>0.195472</td>\n",
       "    </tr>\n",
       "    <tr>\n",
       "      <th>13</th>\n",
       "      <td>False</td>\n",
       "      <td>large</td>\n",
       "      <td>12.1176</td>\n",
       "      <td>11.6247</td>\n",
       "      <td>0.042401</td>\n",
       "    </tr>\n",
       "    <tr>\n",
       "      <th>17</th>\n",
       "      <td>False</td>\n",
       "      <td>large</td>\n",
       "      <td>18000.1220</td>\n",
       "      <td>14074.9006</td>\n",
       "      <td>0.278881</td>\n",
       "    </tr>\n",
       "  </tbody>\n",
       "</table>\n",
       "</div>"
      ],
      "text/plain": [
       "    treatment company_size  campaign_spend  campaign_budget  over_spend\n",
       "6       False        large        411.0601         404.3652    0.016557\n",
       "11      False        large      48001.4263       43440.5670    0.104991\n",
       "12      False        large        105.8338          88.5289    0.195472\n",
       "13      False        large         12.1176          11.6247    0.042401\n",
       "17      False        large      18000.1220       14074.9006    0.278881"
      ]
     },
     "execution_count": 202,
     "metadata": {},
     "output_type": "execute_result"
    }
   ],
   "source": [
    "large_companies.head()"
   ]
  },
  {
   "cell_type": "code",
   "execution_count": 207,
   "metadata": {},
   "outputs": [],
   "source": [
    "# Only keep those 2 standard deviation within mean\n",
    "\n",
    "lge_companies_T = large_companies[large_companies.treatment == True]\n",
    "lge_companies_C = large_companies[large_companies.treatment == False]\n",
    "lge_companies_T_adj = lge_companies_T[(lge_companies_T.campaign_budget - lge_companies_T.campaign_budget.mean()) <= 3*lge_companies_T.campaign_budget.std()]\n",
    "lge_companies_C_adj = lge_companies_C[(lge_companies_C.campaign_budget - lge_companies_C.campaign_budget.mean()) <= 3*lge_companies_C.campaign_budget.std()]\n",
    "\n",
    "\n"
   ]
  },
  {
   "cell_type": "code",
   "execution_count": 215,
   "metadata": {},
   "outputs": [
    {
     "name": "stdout",
     "output_type": "stream",
     "text": [
      "After removing large outliers...\n",
      "Treatment Group has average budget: 8247.860605829228\n",
      "Control Group has average budget: 5933.969190410958\n"
     ]
    }
   ],
   "source": [
    "print(\"After removing large outliers...\")\n",
    "print(\"Treatment Group has average budget: \" + str(lge_companies_T_adj.campaign_budget.mean()))\n",
    "print(\"Control Group has average budget: \" + str(lge_companies_C.campaign_budget.mean()))"
   ]
  },
  {
   "cell_type": "code",
   "execution_count": 216,
   "metadata": {},
   "outputs": [
    {
     "data": {
      "text/plain": [
       "(2436, 5)"
      ]
     },
     "execution_count": 216,
     "metadata": {},
     "output_type": "execute_result"
    }
   ],
   "source": [
    "lge_companies_T_adj.shape"
   ]
  },
  {
   "cell_type": "code",
   "execution_count": 217,
   "metadata": {},
   "outputs": [
    {
     "data": {
      "text/plain": [
       "(2701, 5)"
      ]
     },
     "execution_count": 217,
     "metadata": {},
     "output_type": "execute_result"
    }
   ],
   "source": [
    "lge_companies_C.shape"
   ]
  },
  {
   "cell_type": "code",
   "execution_count": 218,
   "metadata": {},
   "outputs": [
    {
     "data": {
      "text/plain": [
       "1927597940.1852813"
      ]
     },
     "execution_count": 218,
     "metadata": {},
     "output_type": "execute_result"
    }
   ],
   "source": [
    "lge_companies_T_adj.campaign_budget.var()"
   ]
  },
  {
   "cell_type": "code",
   "execution_count": 219,
   "metadata": {},
   "outputs": [
    {
     "data": {
      "text/plain": [
       "2235824855.8874383"
      ]
     },
     "execution_count": 219,
     "metadata": {},
     "output_type": "execute_result"
    }
   ],
   "source": [
    "lge_companies_C.campaign_budget.var()"
   ]
  },
  {
   "cell_type": "code",
   "execution_count": 220,
   "metadata": {},
   "outputs": [
    {
     "data": {
      "text/plain": [
       "1.8185704564578022"
      ]
     },
     "execution_count": 220,
     "metadata": {},
     "output_type": "execute_result"
    }
   ],
   "source": [
    "(8247 - 5933) / np.sqrt(1927597940/2436 + 2235824855.8874383 / 2701)"
   ]
  },
  {
   "cell_type": "markdown",
   "metadata": {},
   "source": [
    "###### Bootstrapping"
   ]
  },
  {
   "cell_type": "code",
   "execution_count": 93,
   "metadata": {},
   "outputs": [],
   "source": [
    "import numpy as np\n",
    "import matplotlib.pyplot as plt\n",
    "from scipy.stats import norm"
   ]
  },
  {
   "cell_type": "code",
   "execution_count": 100,
   "metadata": {},
   "outputs": [],
   "source": [
    "B = 200\n",
    "N1 = 2701\n",
    "#N2 = 2445\n",
    "X = large_companies[large_companies.treatment == 0].campaign_budget"
   ]
  },
  {
   "cell_type": "code",
   "execution_count": 103,
   "metadata": {},
   "outputs": [],
   "source": [
    "individual_estimates = np.empty(B)\n",
    "for b in range(B):\n",
    "    sample = np.random.choice(X, size = N1)\n",
    "    individual_estimates[b] = np.median(sample)\n",
    "bmean = individual_estimates.mean()\n",
    "bstd = individual_estimates.std()\n",
    "lower = bmean + norm.ppf(0.025) * bstd\n",
    "upper = bmean + norm.ppf(0.975) * bstd"
   ]
  },
  {
   "cell_type": "code",
   "execution_count": 104,
   "metadata": {},
   "outputs": [
    {
     "name": "stdout",
     "output_type": "stream",
     "text": [
      "135.1067410734627\n",
      "153.0755329265373\n"
     ]
    }
   ],
   "source": [
    "print(lower)\n",
    "print(upper)"
   ]
  },
  {
   "cell_type": "code",
   "execution_count": 105,
   "metadata": {},
   "outputs": [],
   "source": [
    "B = 200\n",
    "#N1 = 2701\n",
    "N2 = 2445\n",
    "X = large_companies[large_companies.treatment == 1].campaign_budget"
   ]
  },
  {
   "cell_type": "code",
   "execution_count": 106,
   "metadata": {},
   "outputs": [],
   "source": [
    "individual_estimates = np.empty(B)\n",
    "for b in range(B):\n",
    "    sample = np.random.choice(X, size = N2)\n",
    "    individual_estimates[b] = np.median(sample)\n",
    "bmean = individual_estimates.mean()\n",
    "bstd = individual_estimates.std()\n",
    "lower = bmean + norm.ppf(0.025) * bstd\n",
    "upper = bmean + norm.ppf(0.975) * bstd"
   ]
  },
  {
   "cell_type": "code",
   "execution_count": 107,
   "metadata": {},
   "outputs": [
    {
     "name": "stdout",
     "output_type": "stream",
     "text": [
      "115.90878327295451\n",
      "142.11534272704552\n"
     ]
    }
   ],
   "source": [
    "print(lower)\n",
    "print(upper)"
   ]
  }
 ],
 "metadata": {
  "kernelspec": {
   "display_name": "Python 3",
   "language": "python",
   "name": "python3"
  },
  "language_info": {
   "codemirror_mode": {
    "name": "ipython",
    "version": 3
   },
   "file_extension": ".py",
   "mimetype": "text/x-python",
   "name": "python",
   "nbconvert_exporter": "python",
   "pygments_lexer": "ipython3",
   "version": "3.6.10"
  }
 },
 "nbformat": 4,
 "nbformat_minor": 4
}
